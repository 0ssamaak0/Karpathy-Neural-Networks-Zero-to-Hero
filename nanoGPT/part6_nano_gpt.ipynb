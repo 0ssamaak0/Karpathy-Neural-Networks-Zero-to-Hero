{
 "cells": [
  {
   "attachments": {},
   "cell_type": "markdown",
   "metadata": {},
   "source": [
    "# 1- Preparing the data"
   ]
  },
  {
   "attachments": {},
   "cell_type": "markdown",
   "metadata": {},
   "source": [
    "## 1.1- Opening and Exploring the Data"
   ]
  },
  {
   "cell_type": "code",
   "execution_count": 1,
   "metadata": {},
   "outputs": [
    {
     "name": "stdout",
     "output_type": "stream",
     "text": [
      "length of dataset in characters: 1115394\n"
     ]
    }
   ],
   "source": [
    "with open(\"../data/input.txt\", \"r\", encoding=\"utf-8\") as f:\n",
    "    text = f.read()\n",
    "\n",
    "print(f\"length of dataset in characters: {len(text)}\")"
   ]
  },
  {
   "cell_type": "code",
   "execution_count": 2,
   "metadata": {},
   "outputs": [
    {
     "name": "stdout",
     "output_type": "stream",
     "text": [
      "first 1000 characters of dataset:\n",
      "First Citizen:\n",
      "Before we proceed any further, hear me speak.\n",
      "\n",
      "All:\n",
      "Speak, speak.\n",
      "\n",
      "First Citizen:\n",
      "You are all resolved rather to die than to famish?\n",
      "\n",
      "All:\n",
      "Resolved. resolved.\n",
      "\n",
      "First Citizen:\n",
      "First, you know Caius Marcius is chief enemy to the people.\n",
      "\n",
      "All:\n",
      "We know't, we know't.\n",
      "\n",
      "First Citizen:\n",
      "Let us kill him, and we'll have corn at our own price.\n",
      "Is't a verdict?\n",
      "\n",
      "All:\n",
      "No more talking on't; let it be done: away, away!\n",
      "\n",
      "Second Citizen:\n",
      "One word, good citizens.\n",
      "\n",
      "First Citizen:\n",
      "We are accounted poor citizens, the patricians good.\n",
      "What authority surfeits on would relieve us: if they\n",
      "would yield us but the superfluity, while it were\n",
      "wholesome, we might guess they relieved us humanely;\n",
      "but they think we are too dear: the leanness that\n",
      "afflicts us, the object of our misery, is as an\n",
      "inventory to particularise their abundance; our\n",
      "sufferance is a gain to them Let us revenge this with\n",
      "our pikes, ere we become rakes: for the gods know I\n",
      "speak this in hunger for bread, not in thirst for revenge.\n",
      "\n",
      "\n"
     ]
    }
   ],
   "source": [
    "print(f\"first 1000 characters of dataset:\\n{text[:1000]}\")"
   ]
  },
  {
   "attachments": {},
   "cell_type": "markdown",
   "metadata": {},
   "source": [
    "## 1.2- Tokenization"
   ]
  },
  {
   "cell_type": "code",
   "execution_count": 3,
   "metadata": {},
   "outputs": [
    {
     "name": "stdout",
     "output_type": "stream",
     "text": [
      "all chars are:\n",
      " !$&',-.3:;?ABCDEFGHIJKLMNOPQRSTUVWXYZabcdefghijklmnopqrstuvwxyz\n",
      "vocab size: 65\n"
     ]
    }
   ],
   "source": [
    "chars = sorted(list(set(text)))\n",
    "vocab_size = len(chars)\n",
    "\n",
    "print(f\"all chars are:{''.join(chars)}\")\n",
    "print(f\"vocab size: {vocab_size}\")"
   ]
  },
  {
   "cell_type": "code",
   "execution_count": 4,
   "metadata": {},
   "outputs": [
    {
     "name": "stdout",
     "output_type": "stream",
     "text": [
      "[20, 43, 50, 50, 53, 6, 1, 61, 53, 56, 50, 42, 2]\n",
      "Hello, world!\n"
     ]
    }
   ],
   "source": [
    "stoi = {ch:i for i, ch in enumerate(chars)}\n",
    "itos = {val:key for key, val in stoi.items()}\n",
    "\n",
    "encode = lambda s: [stoi[c] for c in s]\n",
    "decode = lambda l: ''.join([itos[i] for i in l])\n",
    "\n",
    "print(encode(\"Hello, world!\"))\n",
    "print(decode(encode(\"Hello, world!\")))"
   ]
  },
  {
   "cell_type": "code",
   "execution_count": 5,
   "metadata": {},
   "outputs": [
    {
     "name": "stdout",
     "output_type": "stream",
     "text": [
      "data shape: torch.Size([1115394])\n",
      "data type: torch.int64\n",
      "--------------------------------------------------\n",
      "first 100 characters of dataset:\n",
      "tensor([18, 47, 56, 57, 58,  1, 15, 47, 58, 47, 64, 43, 52, 10,  0, 14, 43, 44,\n",
      "        53, 56, 43,  1, 61, 43,  1, 54, 56, 53, 41, 43, 43, 42,  1, 39, 52, 63,\n",
      "         1, 44, 59, 56, 58, 46, 43, 56,  6,  1, 46, 43, 39, 56,  1, 51, 43,  1,\n",
      "        57, 54, 43, 39, 49,  8,  0,  0, 13, 50, 50, 10,  0, 31, 54, 43, 39, 49,\n",
      "         6,  1, 57, 54, 43, 39, 49,  8,  0,  0, 18, 47, 56, 57, 58,  1, 15, 47,\n",
      "        58, 47, 64, 43, 52, 10,  0, 37, 53, 59])\n",
      "first 100 characters of dataset:\n",
      "First Citizen:\n",
      "Before we proceed any further, hear me speak.\n",
      "\n",
      "All:\n",
      "Speak, speak.\n",
      "\n",
      "First Citizen:\n",
      "You\n"
     ]
    }
   ],
   "source": [
    "import torch\n",
    "data = torch.tensor(encode(text), dtype = torch.long)\n",
    "\n",
    "print(f\"data shape: {data.shape}\")\n",
    "print(f\"data type: {data.dtype}\")\n",
    "\n",
    "print(\"-\"*50)\n",
    "\n",
    "print(f\"first 100 characters of dataset:\\n{data[:100]}\")\n",
    "print(f\"first 100 characters of dataset:\\n{decode(data[:100].tolist())}\")"
   ]
  },
  {
   "attachments": {},
   "cell_type": "markdown",
   "metadata": {},
   "source": [
    "## 1.3- Train Validation Split"
   ]
  },
  {
   "cell_type": "code",
   "execution_count": 6,
   "metadata": {},
   "outputs": [],
   "source": [
    "n = int(0.9 * len(data))\n",
    "\n",
    "train_data = data[:n]\n",
    "val_data = data[n:]"
   ]
  },
  {
   "attachments": {},
   "cell_type": "markdown",
   "metadata": {},
   "source": [
    "## 1.4 Create DataLoader"
   ]
  },
  {
   "cell_type": "code",
   "execution_count": 7,
   "metadata": {},
   "outputs": [
    {
     "data": {
      "text/plain": [
       "tensor([18, 47, 56, 57, 58,  1, 15, 47, 58])"
      ]
     },
     "execution_count": 7,
     "metadata": {},
     "output_type": "execute_result"
    }
   ],
   "source": [
    "block_size = 8\n",
    "train_data[:block_size + 1]"
   ]
  },
  {
   "cell_type": "code",
   "execution_count": 8,
   "metadata": {},
   "outputs": [
    {
     "name": "stdout",
     "output_type": "stream",
     "text": [
      "when input tensor is [18], target is 47\n",
      "when input tensor is [18, 47], target is 56\n",
      "when input tensor is [18, 47, 56], target is 57\n",
      "when input tensor is [18, 47, 56, 57], target is 58\n",
      "when input tensor is [18, 47, 56, 57, 58], target is 1\n",
      "when input tensor is [18, 47, 56, 57, 58, 1], target is 15\n",
      "when input tensor is [18, 47, 56, 57, 58, 1, 15], target is 47\n",
      "when input tensor is [18, 47, 56, 57, 58, 1, 15, 47], target is 58\n"
     ]
    }
   ],
   "source": [
    "x = train_data[:block_size]\n",
    "y = train_data[1:block_size + 1]\n",
    "\n",
    "for t in range(block_size):\n",
    "    context = x[:t + 1]\n",
    "    target = y[t]\n",
    "    print(f\"when input tensor is {context.tolist()}, target is {target}\")"
   ]
  },
  {
   "cell_type": "code",
   "execution_count": 9,
   "metadata": {},
   "outputs": [
    {
     "name": "stdout",
     "output_type": "stream",
     "text": [
      "inputs:\n",
      "shapetorch.Size([4, 8])\n",
      "data: tensor([[24, 43, 58,  5, 57,  1, 46, 43],\n",
      "        [44, 53, 56,  1, 58, 46, 39, 58],\n",
      "        [52, 58,  1, 58, 46, 39, 58,  1],\n",
      "        [25, 17, 27, 10,  0, 21,  1, 54]])\n",
      "targets:\n",
      "shapetorch.Size([4, 8])\n",
      "data: tensor([[43, 58,  5, 57,  1, 46, 43, 39],\n",
      "        [53, 56,  1, 58, 46, 39, 58,  1],\n",
      "        [58,  1, 58, 46, 39, 58,  1, 46],\n",
      "        [17, 27, 10,  0, 21,  1, 54, 39]])\n"
     ]
    }
   ],
   "source": [
    "torch.manual_seed(1337)\n",
    "batch_size = 4 # how many independent sequences will we process in parallel\n",
    "block_size = 8 # what is the maximum context length for predictions?\n",
    "\n",
    "# number of input_examples = batch_size * block_size (4 * 8 = 32)\n",
    "\n",
    "def get_batch(split):\n",
    "    # Select the appropriate dataset based on the split parameter\n",
    "    data = train_data if split == \"train\" else val_data\n",
    "\n",
    "    # Generate a batch of random starting indices within the dataset\n",
    "    ix = torch.randint(len(data) - block_size, (batch_size,))\n",
    "\n",
    "    # Select a block of text of size block_size starting from each random index\n",
    "    x = torch.stack([data[i:i+block_size] for i in ix])\n",
    "\n",
    "    # Shift the selected block of text by one character to the right to create the target sequence\n",
    "    y = torch.stack([data[i+1:i+block_size+1] for i in ix])\n",
    "    return x, y\n",
    "\n",
    "xb, yb = get_batch(\"train\")\n",
    "print(f\"inputs:\\nshape{xb.shape}\\ndata: {xb}\")\n",
    "print(f\"targets:\\nshape{yb.shape}\\ndata: {yb}\")"
   ]
  },
  {
   "attachments": {},
   "cell_type": "markdown",
   "metadata": {},
   "source": [
    "# 2- Bigram Language Model\n",
    "simpleset language model"
   ]
  },
  {
   "cell_type": "code",
   "execution_count": 10,
   "metadata": {},
   "outputs": [
    {
     "data": {
      "text/plain": [
       "<torch._C.Generator at 0x7ff1588ebab0>"
      ]
     },
     "execution_count": 10,
     "metadata": {},
     "output_type": "execute_result"
    }
   ],
   "source": [
    "import torch\n",
    "import torch.nn as nn\n",
    "from torch.nn import functional as F\n",
    "\n",
    "import matplotlib.pyplot as plt\n",
    "\n",
    "torch.manual_seed(1337)"
   ]
  },
  {
   "attachments": {},
   "cell_type": "markdown",
   "metadata": {},
   "source": [
    "## 2.1 Creating the Model"
   ]
  },
  {
   "cell_type": "code",
   "execution_count": 99,
   "metadata": {},
   "outputs": [
    {
     "name": "stdout",
     "output_type": "stream",
     "text": [
      "logits shape: torch.Size([32, 65])\n",
      "loss: 4.878634929656982 | we are expecting a loss of around 4.174387454986572\n"
     ]
    }
   ],
   "source": [
    "class BigramLanguageModel(nn.Module):\n",
    "    def __init__(self, vocab_size):\n",
    "        super().__init__()\n",
    "        # each token directly reads off the logits for the next token from a loockup table\n",
    "        self.token_embedding_table = nn.Embedding(vocab_size, vocab_size)\n",
    "\n",
    "    def forward(self, idx, targets = None):\n",
    "        # idx and targets are both (B, T) tensor of ints\n",
    "        logits = self.token_embedding_table(idx) # (B, T, C) = (4, 8 , vocab_size)\n",
    "        \n",
    "        if targets is None:\n",
    "            loss = None\n",
    "        else:\n",
    "            # note that F.cross_entropy accepts inputs in shape (B, C, T)\n",
    "            B, T, C = logits.shape\n",
    "            logits = logits.view(B * T, C)\n",
    "            targets = targets.view(B * T) # can be as targets = targets.view(-1)\n",
    "            \n",
    "            loss = F.cross_entropy(logits, targets)\n",
    "\n",
    "        return logits, loss\n",
    "\n",
    "    def generate(self, idx, max_new_tokens):\n",
    "        # idx is (B, T) array of indices in the current context\n",
    "        for _ in range(max_new_tokens):\n",
    "            # get the logits for the next token\n",
    "            logits, loss = self(idx)\n",
    "            # focus only on the last time step\n",
    "            # (note that we are feeding the whole context each time, however we only care about the last prediction)\n",
    "            # (this make doesn't make sense now, but the function will be modified later)\n",
    "            logits = logits[:, -1, :] # Becomes (B, C) (get the last time step for each sequence)\n",
    "            # apply softmax to convert to probabilities\n",
    "            probs = F.softmax(logits, dim = -1) # (B, C)\n",
    "            # sample from the distribution\n",
    "            idx_next = torch.multinomial(probs, num_samples=1) # (B, 1)\n",
    "            # append sampled token to the context\n",
    "            idx = torch.cat((idx, idx_next), dim = 1) # (B, T + 1)\n",
    "        return idx\n",
    "    \n",
    "\n",
    "m = BigramLanguageModel(vocab_size)\n",
    "logits, loss = m(xb, yb)\n",
    "\n",
    "print(f\"logits shape: {logits.shape}\")\n",
    "print(f\"loss: {loss} | we are expecting a loss of around {torch.log(torch.tensor(vocab_size))}\")"
   ]
  },
  {
   "cell_type": "code",
   "execution_count": 100,
   "metadata": {},
   "outputs": [
    {
     "name": "stdout",
     "output_type": "stream",
     "text": [
      "\n",
      "Sr?qP-QWktXoL&jLDJgOLVz'RIoDqHdhsV&vLLxatjscMpwLERSPyao.qfzs$Ys$zF-w,;eEkzxjgCKFChs!iWW.ObzDnxA Ms$3\n"
     ]
    }
   ],
   "source": [
    "idx = torch.zeros((1,1), dtype = torch.long)\n",
    "generated = m.generate(idx, 100) # shape (1, 101)\n",
    "print(decode(generated[0].tolist()))"
   ]
  },
  {
   "attachments": {},
   "cell_type": "markdown",
   "metadata": {},
   "source": [
    "## 2.2- Training the Model"
   ]
  },
  {
   "cell_type": "code",
   "execution_count": 101,
   "metadata": {},
   "outputs": [
    {
     "name": "stdout",
     "output_type": "stream",
     "text": [
      "loss: 2.5727508068084717\n"
     ]
    }
   ],
   "source": [
    "optimizer = torch.optim.AdamW(m.parameters(), lr = 1e-3)\n",
    "batch_size = 32\n",
    "lossi = []\n",
    "\n",
    "for i in range(10000):\n",
    "    # sample a batch of training data\n",
    "    xb, yb = get_batch(\"train\")\n",
    "\n",
    "    # evaluate the loss\n",
    "    logits, loss = m(xb, yb)\n",
    "    optimizer.zero_grad(set_to_none = True)\n",
    "    loss.backward()\n",
    "    optimizer.step()\n",
    "\n",
    "    lossi.append(loss.item())\n",
    "\n",
    "print(f\"loss: {loss.item()}\")"
   ]
  },
  {
   "cell_type": "code",
   "execution_count": 104,
   "metadata": {},
   "outputs": [
    {
     "data": {
      "image/png": "[encoded data removed]",
      "text/plain": [
       "<Figure size 640x480 with 1 Axes>"
      ]
     },
     "metadata": {},
     "output_type": "display_data"
    }
   ],
   "source": [
    "plt.plot(lossi);"
   ]
  },
  {
   "cell_type": "code",
   "execution_count": 105,
   "metadata": {},
   "outputs": [
    {
     "name": "stdout",
     "output_type": "stream",
     "text": [
      "\n",
      "\n",
      "Wengerofo'dsssit ey\n",
      "KIN d pe wither vouprrouthercc.\n",
      "hathe; d!\n",
      "My hind tt hinig t ouchos tes; st yo hind wotte grotonear 'so it t jod weancotha:\n",
      "h hay.JUCle n prids, r loncave w hollular s O:\n",
      "HIs; ht anjx?\n",
      "\n",
      "DUThinqunt.\n",
      "\n",
      "LaZAnde.\n",
      "athave l.\n",
      "KEONH:\n",
      "ARThanco be y,-hedarwnoddy scace, tridesar, wnl'shenous s ls, theresseys\n",
      "PlorseelapinghiybHen yof GLUCEN t l-t E:\n",
      "I hisgothers je are!-e!\n",
      "QLYotouciullle'z\n"
     ]
    }
   ],
   "source": [
    "# sampling from the model\n",
    "idx = torch.zeros((1,1), dtype = torch.long)\n",
    "generated = m.generate(idx, 400) # shape (1, 101)\n",
    "print(decode(generated[0].tolist()))"
   ]
  },
  {
   "attachments": {},
   "cell_type": "markdown",
   "metadata": {},
   "source": [
    "## 2.3- Porting our code to a script\n",
    "check `bigram.py`"
   ]
  },
  {
   "cell_type": "code",
   "execution_count": 116,
   "metadata": {},
   "outputs": [
    {
     "name": "stdout",
     "output_type": "stream",
     "text": [
      "usage: bigram.py [-h] [--batch_size BATCH_SIZE] [--block_size BLOCK_SIZE]\n",
      "                 [--max_iters MAX_ITERS] [--eval_interval EVAL_INTERVAL]\n",
      "                 [--learning_rate LEARNING_RATE] [--eval_iters EVAL_ITERS]\n",
      "\n",
      "Process some integers.\n",
      "\n",
      "options:\n",
      "  -h, --help            show this help message and exit\n",
      "  --batch_size BATCH_SIZE\n",
      "                        how many independent sequences will we process in\n",
      "                        parallel (default: 4)\n",
      "  --block_size BLOCK_SIZE\n",
      "                        what is the maximum context length for predictions?\n",
      "                        (default: 8)\n",
      "  --max_iters MAX_ITERS\n",
      "                        how many training iterations do we want? (default:\n",
      "                        3000)\n",
      "  --eval_interval EVAL_INTERVAL\n",
      "                        how often do we evaluate the loss on train and val?\n",
      "                        (default: 300)\n",
      "  --learning_rate LEARNING_RATE\n",
      "                        what is the learning rate for the optimizer? (default:\n",
      "                        0.01)\n",
      "  --eval_iters EVAL_ITERS\n",
      "                        how many batches we average the loss over for train\n",
      "                        and val (default: 200)\n"
     ]
    }
   ],
   "source": [
    "!python3 bigram.py -h"
   ]
  },
  {
   "cell_type": "code",
   "execution_count": 118,
   "metadata": {},
   "outputs": [
    {
     "name": "stdout",
     "output_type": "stream",
     "text": [
      " step 0 | train loss: 4.7303 | val loss: 4.7320\n",
      " step 300 | train loss: 3.2123 | val loss: 3.2111\n",
      " step 600 | train loss: 2.7370 | val loss: 2.7890\n",
      " step 900 | train loss: 2.5998 | val loss: 2.5870\n",
      " step 1200 | train loss: 2.5524 | val loss: 2.5206\n",
      " step 1500 | train loss: 2.5420 | val loss: 2.5416\n",
      " step 1800 | train loss: 2.5044 | val loss: 2.5503\n",
      " step 2100 | train loss: 2.4710 | val loss: 2.5091\n",
      " step 2400 | train loss: 2.4881 | val loss: 2.5257\n",
      " step 2700 | train loss: 2.4807 | val loss: 2.5065\n",
      "\n",
      "\n",
      "\n",
      "CEThik brid owindakis s, bth\n",
      "\n",
      "HAPONThobe d e.\n",
      "S:\n",
      "O:3 my d?\n",
      "LUCous:\n",
      "Wanthainusqur, vet?\n",
      "F dXENDoate awice my.\n",
      "\n",
      "HDYoncom oroup\n",
      "Yowh$Frtof isth be V! Whedilin,\n",
      "\n",
      "W:\n",
      "\n",
      "Ye sengmin lat Hetidrovets, and Win nghirileranousel lind pe l.\n",
      "HAule cechiry:\n",
      "Supr aisspll, y.\n",
      "Hentous n Boopetelaves\n",
      "MPOLI s, d mothakeeo Windo wh t pisbys the m dourive ce shiend t so mower; te\n",
      "\n",
      "AN ad nthrupief sor; iris! m:\n",
      "\n",
      "Thiny aleronth,\n",
      "MadPre?\n",
      "\n",
      "WISo myr fursuk!\n",
      "KENob&y, wardsal this ghesthidin cour ay aney Iry ts I&fr t ce.\n",
      "J\n"
     ]
    }
   ],
   "source": [
    "!python3 bigram.py"
   ]
  },
  {
   "attachments": {},
   "cell_type": "markdown",
   "metadata": {},
   "source": [
    "# 3- Self Attention Trick (Averaging the previous tokens embeddings)\n",
    "\n",
    "- we need each token commuinicate with all previous tokens, for example: the 5th token communicate with 1st, 2nd, 3rd, 4th tokens\n",
    "\n",
    "- since we are predicting the next token, we need to consider the previous tokens only\n",
    "\n",
    "- The easiset way to make them communicate is averaging the previous tokens embeddings (it's kinda lossy since we are losing the spatial information)"
   ]
  },
  {
   "attachments": {},
   "cell_type": "markdown",
   "metadata": {},
   "source": [
    "## 3.1- Using Explicit loops "
   ]
  },
  {
   "cell_type": "code",
   "execution_count": 119,
   "metadata": {},
   "outputs": [
    {
     "name": "stdout",
     "output_type": "stream",
     "text": [
      "x shape: torch.Size([4, 8, 2])\n"
     ]
    }
   ],
   "source": [
    "torch.manual_seed(1337)\n",
    "B, T, C = 4, 8, 2 # batch size, time, channels\n",
    "x = torch.randn(B, T, C)\n",
    "print(f\"x shape: {x.shape}\")\n",
    "\n",
    "# We want x[b, t] = mean_(i<=t) x[b, i]\n",
    "xbow = torch.zeros((B, T, C))\n",
    "for b in range(B):\n",
    "    for t in range(T):\n",
    "        xprev = x[b, :t+1] # (t, C)\n",
    "        xbow[b, t] = torch.mean(xprev, dim = 0) # average over time dimension (t)"
   ]
  },
  {
   "cell_type": "code",
   "execution_count": 120,
   "metadata": {},
   "outputs": [
    {
     "name": "stdout",
     "output_type": "stream",
     "text": [
      "x[0]: tensor([[ 0.1808, -0.0700],\n",
      "        [-0.3596, -0.9152],\n",
      "        [ 0.6258,  0.0255],\n",
      "        [ 0.9545,  0.0643],\n",
      "        [ 0.3612,  1.1679],\n",
      "        [-1.3499, -0.5102],\n",
      "        [ 0.2360, -0.2398],\n",
      "        [-0.9211,  1.5433]])\n",
      "xbow[0]: tensor([[ 0.1808, -0.0700],\n",
      "        [-0.0894, -0.4926],\n",
      "        [ 0.1490, -0.3199],\n",
      "        [ 0.3504, -0.2238],\n",
      "        [ 0.3525,  0.0545],\n",
      "        [ 0.0688, -0.0396],\n",
      "        [ 0.0927, -0.0682],\n",
      "        [-0.0341,  0.1332]])\n",
      "tensor([True, True])\n",
      "tensor([True, True])\n"
     ]
    }
   ],
   "source": [
    "# Let's Check the first Batch\n",
    "print(f\"x[0]: {x[0]}\")\n",
    "print(f\"xbow[0]: {xbow[0]}\")\n",
    "\n",
    "# the first row is the same \n",
    "print(x[0, 0] == xbow[0, 0])\n",
    "# the second row is the average of the first two rows\n",
    "print((x[0, 0] + x[0, 1]) / 2 == xbow[0, 1])\n",
    "# etc ..."
   ]
  },
  {
   "attachments": {},
   "cell_type": "markdown",
   "metadata": {},
   "source": [
    "## 3.2- Using Matrix Multiplication\n",
    "- instead of nested loops, we can make it using matrix multiplication\n",
    "- This can be done by multiplying the matrix with lower triangular matrix"
   ]
  },
  {
   "cell_type": "code",
   "execution_count": 121,
   "metadata": {},
   "outputs": [
    {
     "name": "stdout",
     "output_type": "stream",
     "text": [
      "a (shape = torch.Size([3, 3])) =\n",
      "tensor([[1.0000, 0.0000, 0.0000],\n",
      "        [0.5000, 0.5000, 0.0000],\n",
      "        [0.3333, 0.3333, 0.3333]])\n",
      "b (shape = torch.Size([3, 2])) =\n",
      "tensor([[2., 7.],\n",
      "        [6., 4.],\n",
      "        [6., 5.]])\n",
      "c (shape = torch.Size([3, 2])) =\n",
      "tensor([[2.0000, 7.0000],\n",
      "        [4.0000, 5.5000],\n",
      "        [4.6667, 5.3333]])\n"
     ]
    }
   ],
   "source": [
    "\n",
    "torch.manual_seed(42)\n",
    "# lower triangular matrix of ones\n",
    "a = torch.tril(torch.ones(3,3)) \n",
    "# make all rows sum to 1\n",
    "a = a / torch.sum(a, 1, keepdim = True)\n",
    "# create a random matrix\n",
    "b = torch.randint(0, 10, (3, 2)).float() \n",
    "\n",
    "c = a @ b\n",
    "print(f\"a (shape = {a.shape}) =\\n{a}\")\n",
    "print(f\"b (shape = {b.shape}) =\\n{b}\")\n",
    "print(f\"c (shape = {c.shape}) =\\n{c}\")"
   ]
  },
  {
   "cell_type": "code",
   "execution_count": 122,
   "metadata": {},
   "outputs": [
    {
     "name": "stdout",
     "output_type": "stream",
     "text": [
      "True\n"
     ]
    }
   ],
   "source": [
    "# We want x[b, t] = mean_(i<=t) x[b, i]\n",
    "wei = torch.tril(torch.ones(T, T)) # (T, T)\n",
    "# make all rows sum to 1\n",
    "wei = wei / torch.sum(wei, 1, keepdim = True) # (T, T)\n",
    "xbow2 = wei @ x # (T, T) @ (B, T, C) ----broadcasting----> (B, T, T) @ (B, T, C) ➡️ (B, T, C)\n",
    "\n",
    "# check if xbow2 is the same as xbow\n",
    "print(torch.allclose(xbow, xbow2, atol = 1e-7))"
   ]
  },
  {
   "attachments": {},
   "cell_type": "markdown",
   "metadata": {},
   "source": [
    "## 3.3- Using Softmax"
   ]
  },
  {
   "cell_type": "code",
   "execution_count": 124,
   "metadata": {},
   "outputs": [
    {
     "name": "stdout",
     "output_type": "stream",
     "text": [
      "wei:\n",
      "tensor([[0., -inf, -inf, -inf, -inf, -inf, -inf, -inf],\n",
      "        [0., 0., -inf, -inf, -inf, -inf, -inf, -inf],\n",
      "        [0., 0., 0., -inf, -inf, -inf, -inf, -inf],\n",
      "        [0., 0., 0., 0., -inf, -inf, -inf, -inf],\n",
      "        [0., 0., 0., 0., 0., -inf, -inf, -inf],\n",
      "        [0., 0., 0., 0., 0., 0., -inf, -inf],\n",
      "        [0., 0., 0., 0., 0., 0., 0., -inf],\n",
      "        [0., 0., 0., 0., 0., 0., 0., 0.]])\n",
      "wei:\n",
      "tensor([[1.0000, 0.0000, 0.0000, 0.0000, 0.0000, 0.0000, 0.0000, 0.0000],\n",
      "        [0.5000, 0.5000, 0.0000, 0.0000, 0.0000, 0.0000, 0.0000, 0.0000],\n",
      "        [0.3333, 0.3333, 0.3333, 0.0000, 0.0000, 0.0000, 0.0000, 0.0000],\n",
      "        [0.2500, 0.2500, 0.2500, 0.2500, 0.0000, 0.0000, 0.0000, 0.0000],\n",
      "        [0.2000, 0.2000, 0.2000, 0.2000, 0.2000, 0.0000, 0.0000, 0.0000],\n",
      "        [0.1667, 0.1667, 0.1667, 0.1667, 0.1667, 0.1667, 0.0000, 0.0000],\n",
      "        [0.1429, 0.1429, 0.1429, 0.1429, 0.1429, 0.1429, 0.1429, 0.0000],\n",
      "        [0.1250, 0.1250, 0.1250, 0.1250, 0.1250, 0.1250, 0.1250, 0.1250]])\n",
      "True\n"
     ]
    }
   ],
   "source": [
    "tril = torch.tril(torch.ones(T, T))\n",
    "# we start with zeros, but later these will be replaced with data dependent values (affinities)\n",
    "wei = torch.zeros((T, T))\n",
    "# masked_fill: for all elements where tril == 0, replace with float(\"-inf\")\n",
    "wei = wei.masked_fill(tril == 0, float(\"-inf\"))\n",
    "print(f\"wei:\\n{wei}\")\n",
    "wei = F.softmax(wei, dim = -1)\n",
    "print(f\"wei:\\n{wei}\")\n",
    "xbow3 = wei @ x\n",
    "\n",
    "# check if xbow3 is the same as xbow\n",
    "print(torch.allclose(xbow, xbow3, atol = 1e-7))"
   ]
  },
  {
   "attachments": {},
   "cell_type": "markdown",
   "metadata": {},
   "source": [
    "# 4- Minor Code Cleanup\n",
    "(these modifications are done in `bigram.py`)\n"
   ]
  },
  {
   "attachments": {},
   "cell_type": "markdown",
   "metadata": {},
   "source": [
    "## 4.1- Adding variable embedding size\n",
    "1. removing vocab_size from the constructor of `BigramLanguageModel` class, since it's already defiend above\n",
    "2. Modifying the embedding layer to has an output size of `n_embed` instead of `vocab_size`\n",
    "3. Adding a linear layer with `vocab_size` outputs after the embedding layer"
   ]
  },
  {
   "cell_type": "code",
   "execution_count": 16,
   "metadata": {},
   "outputs": [],
   "source": [
    "class BigramLanguageModel(nn.Module):\n",
    "    # no need to pass vocab_size as an argument, since it is a global variable in this file\n",
    "    def __init__(self):\n",
    "        super().__init__()\n",
    "        # each token directly reads off the logits for the next token from a loockup table\n",
    "        self.token_embedding_table = nn.Embedding(vocab_size, n_embed)\n",
    "        # the output layer is a linear layer with vocab_size outputs\n",
    "        self.lm_head = nn.Linear(n_embed, vocab_size)\n",
    "\n",
    "    def forward(self, idx, targets = None):\n",
    "        # idx and targets are both (B, T) tensor of ints\n",
    "        token_emb = self.token_embedding_table(idx) # (B, T, C) = (4, 8 , vocab_size)\n",
    "        logits = self.lm_head(token_emb) # (B, T, vocab_size) = (4, 8, vocab_size)\n",
    "    \n",
    "    # rest of the code .."
   ]
  },
  {
   "attachments": {},
   "cell_type": "markdown",
   "metadata": {},
   "source": [
    "## 4.2- Positional Encoding\n",
    "1. Adding a positional encoding layer to the model `self.position_embedding_table`\n",
    "2. Adding the positional encoding to the input embeddings `x = token_emb + pos_emb`"
   ]
  },
  {
   "cell_type": "code",
   "execution_count": 17,
   "metadata": {},
   "outputs": [],
   "source": [
    "class BigramLanguageModel(nn.Module):\n",
    "    # no need to pass vocab_size as an argument, since it is a global variable in this file\n",
    "    def __init__(self):\n",
    "        super().__init__()\n",
    "        # each token directly reads off the logits for the next token from a loockup table\n",
    "        self.token_embedding_table = nn.Embedding(vocab_size, n_embed)\n",
    "        # each position is also associated with an embedding vector\n",
    "        self.position_embedding_table = nn.Embedding(block_size, n_embed)\n",
    "        # the output layer is a linear layer with vocab_size outputs\n",
    "        self.lm_head = nn.Linear(n_embed, vocab_size)\n",
    "\n",
    "    def forward(self, idx, targets = None):\n",
    "        B, T = idx.shape\n",
    "        # idx and targets are both (B, T) tensor of ints\n",
    "        token_emb = self.token_embedding_table(idx) # (B, T, C) = (4, 8 , vocab_size)\n",
    "        pos_emb = self.position_embedding_table(torch.arange(T, device = idx.device)) # (T, C) = (8, vocab_size)\n",
    "        # x has the token identities + the position embeddings\n",
    "        x = token_emb + pos_emb # (B, T, C) = (4, 8, vocab_size)\n",
    "        logits = self.lm_head(x) # (B, T, vocab_size) = (4, 8, vocab_size)\n",
    "    \n",
    "    # rest of the code .."
   ]
  },
  {
   "attachments": {},
   "cell_type": "markdown",
   "metadata": {},
   "source": [
    "# 5- Self Attention\n",
    "Consider his as `version 4 ` of part 3"
   ]
  },
  {
   "attachments": {},
   "cell_type": "markdown",
   "metadata": {},
   "source": [
    "## 5.1- Previous code from part 3"
   ]
  },
  {
   "cell_type": "code",
   "execution_count": 18,
   "metadata": {},
   "outputs": [
    {
     "name": "stdout",
     "output_type": "stream",
     "text": [
      "tril:\n",
      "tensor([[1., 0., 0., 0., 0., 0., 0., 0.],\n",
      "        [1., 1., 0., 0., 0., 0., 0., 0.],\n",
      "        [1., 1., 1., 0., 0., 0., 0., 0.],\n",
      "        [1., 1., 1., 1., 0., 0., 0., 0.],\n",
      "        [1., 1., 1., 1., 1., 0., 0., 0.],\n",
      "        [1., 1., 1., 1., 1., 1., 0., 0.],\n",
      "        [1., 1., 1., 1., 1., 1., 1., 0.],\n",
      "        [1., 1., 1., 1., 1., 1., 1., 1.]])\n",
      "wei:\n",
      "tensor([[1.0000, 0.0000, 0.0000, 0.0000, 0.0000, 0.0000, 0.0000, 0.0000],\n",
      "        [0.5000, 0.5000, 0.0000, 0.0000, 0.0000, 0.0000, 0.0000, 0.0000],\n",
      "        [0.3333, 0.3333, 0.3333, 0.0000, 0.0000, 0.0000, 0.0000, 0.0000],\n",
      "        [0.2500, 0.2500, 0.2500, 0.2500, 0.0000, 0.0000, 0.0000, 0.0000],\n",
      "        [0.2000, 0.2000, 0.2000, 0.2000, 0.2000, 0.0000, 0.0000, 0.0000],\n",
      "        [0.1667, 0.1667, 0.1667, 0.1667, 0.1667, 0.1667, 0.0000, 0.0000],\n",
      "        [0.1429, 0.1429, 0.1429, 0.1429, 0.1429, 0.1429, 0.1429, 0.0000],\n",
      "        [0.1250, 0.1250, 0.1250, 0.1250, 0.1250, 0.1250, 0.1250, 0.1250]])\n",
      "out.shape:\n",
      "torch.Size([4, 8, 32])\n"
     ]
    }
   ],
   "source": [
    "torch.manual_seed(1337)\n",
    "B, T, C = 4, 8, 32 # batch, time, channels\n",
    "x = torch.randn(B, T, C)\n",
    "\n",
    "tril = torch.tril(torch.ones(T, T))\n",
    "wei = torch.zeros((T, T))\n",
    "wei = wei.masked_fill(tril == 0, float(\"-inf\"))\n",
    "wei = F.softmax(wei, dim = -1)\n",
    "\n",
    "out = wei @ x\n",
    "\n",
    "print(f\"tril:\\n{tril}\")\n",
    "print(f\"wei:\\n{wei}\")\n",
    "print(f\"out.shape:\\n{out.shape}\")\n"
   ]
  },
  {
   "attachments": {},
   "cell_type": "markdown",
   "metadata": {},
   "source": [
    "## 5.2- Building the Self-Attention\n",
    "each token (can be called node too) at each position emmits 2 vectors:\n",
    "1. Query: What I'm looking for?\n",
    "2. Key: What do I contain?\n",
    "3. Value: What I will tell you or the information I have `in this head`?\n",
    "    \n",
    "- affinities between tokens `wei` = my Query @ all Keys\n",
    "- if key and query are aligned ➡️ high value ➡️ learn more about this sequence\n",
    "- instead of multiplying wei with tokens directly, we multiply it with values (which is the information we want to learn about)"
   ]
  },
  {
   "cell_type": "code",
   "execution_count": 41,
   "metadata": {},
   "outputs": [
    {
     "name": "stdout",
     "output_type": "stream",
     "text": [
      "wei[0]: tensor([[1.0000, 0.0000, 0.0000, 0.0000, 0.0000, 0.0000, 0.0000, 0.0000],\n",
      "        [0.1574, 0.8426, 0.0000, 0.0000, 0.0000, 0.0000, 0.0000, 0.0000],\n",
      "        [0.2088, 0.1646, 0.6266, 0.0000, 0.0000, 0.0000, 0.0000, 0.0000],\n",
      "        [0.5792, 0.1187, 0.1889, 0.1131, 0.0000, 0.0000, 0.0000, 0.0000],\n",
      "        [0.0294, 0.1052, 0.0469, 0.0276, 0.7909, 0.0000, 0.0000, 0.0000],\n",
      "        [0.0176, 0.2689, 0.0215, 0.0089, 0.6812, 0.0019, 0.0000, 0.0000],\n",
      "        [0.1691, 0.4066, 0.0438, 0.0416, 0.1048, 0.2012, 0.0329, 0.0000],\n",
      "        [0.0210, 0.0843, 0.0555, 0.2297, 0.0573, 0.0709, 0.2423, 0.2391]],\n",
      "       grad_fn=<SelectBackward0>)\n"
     ]
    }
   ],
   "source": [
    "torch.manual_seed(1337)\n",
    "B, T, C = 4, 8, 32 # batch, time, channels\n",
    "\n",
    "# x is private information of each token\n",
    "x = torch.randn(B, T, C)\n",
    "\n",
    "# single Head perform self-attention\n",
    "head_size = 16\n",
    "key = nn.Linear(C, head_size, bias = False)\n",
    "query = nn.Linear(C, head_size, bias = False)\n",
    "value = nn.Linear(C, head_size, bias = False)\n",
    "\n",
    "\n",
    "k = key(x) # (B, T, head_size) = (4, 8, 16)\n",
    "q = query(x) # (B, T, head_size) = (4, 8, 16)\n",
    "\n",
    "# now every token in every batch is associated with a key and a query (in parallel), no communication between tokens has happened yet\n",
    "\n",
    "wei = q @ k.transpose(-2, -1) # (B, T, head_size) @ (B, head_size, T) = (B, T, T)\n",
    "tril = torch.tril(torch.ones(T, T))\n",
    "# wei are no longer zeros, but data dependent values (affinities)\n",
    "# wei = torch.zeros((T, T))\n",
    "wei = wei.masked_fill(tril == 0, float(\"-inf\"))\n",
    "wei = F.softmax(wei, dim = -1)\n",
    "\n",
    "print(f\"wei[0]: {wei[0]}\")\n",
    "\n",
    "# multiply with value instead of x\n",
    "v = value(x) # (B, T, head_size) = (4, 8, 16)\n",
    "out = wei @ v # (B, T, T) @ (B, T, head_size) = (B, T, head_size)\n",
    "# out = wei @ x\n"
   ]
  },
  {
   "attachments": {},
   "cell_type": "markdown",
   "metadata": {},
   "source": [
    "## 5.3- Notes About Self Attention\n",
    "\n",
    "1. Attention is a **communication mechanism**. Can be seen as nodes in a directed graph looking at each other and aggregating information with a weighted sum from all nodes that point to them, with data-dependent weights.\n",
    "\n",
    "2. There is no notion of space. Attention simply acts over a set of vectors. **This is why we need to positionally encode tokens.**\n",
    "\n",
    "3. Each example across batch dimension is of course processed completely **independently** and **never \"talk\" to each other**\n",
    "\n",
    "4. In an `encoder` attention block just delete the single line that does masking with `tril`, **allowing all tokens to communicate**, it can be used for some applications like translation and sentiment analysis. This block here is called a \"decoder\" attention block because it has triangular masking, and is usually used in autoregressive settings, like **language modeling**.\n",
    "\n",
    "5. `self-attention` just means that the **keys** and **values** are **produced from the same source** as **queries**. In \"cross-attention\", the **queries** still get produced from **x**, but the **keys** and **values** come from some other, external source (e.g. an **encoder** module)\n",
    "\n",
    "6. `Scaled Dot-Product Attention`: $\\text{Attention}(Q, K, V) = \\text{softmax}\\left(\\frac{QK^T}{\\sqrt{d_k}}\\right)V$\n",
    "\n",
    "    `Scaled` attention additional divides `wei` by $\\frac{1}{\\sqrt{\\text{head\\_size}}}$. This makes it so when input `Q`, `K` are unit variance, `wei` will be **unit variance** too and Softmax will stay diffuse and **not saturate** too much. it's important especially in initialization.\n",
    "\n",
    "    if the **variance** is **very high**, **softmax** will **converge** to **one-hot vector**"
   ]
  },
  {
   "cell_type": "code",
   "execution_count": 45,
   "metadata": {},
   "outputs": [
    {
     "name": "stdout",
     "output_type": "stream",
     "text": [
      "Unscaled Attention\n",
      "var(k) = 1.0104080438613892\n",
      "var(q) = 1.0203500986099243\n",
      "var(wei) = 17.684080123901367\n",
      "\n",
      "Scaled Attention\n",
      "var(k) = 1.0104080438613892\n",
      "var(q) = 1.0203500986099243\n",
      "var(wei) = 1.1052550077438354\n"
     ]
    }
   ],
   "source": [
    "# Scaled Attention\n",
    "k = torch.randn(B, T, head_size)\n",
    "q = torch.randn(B, T, head_size)\n",
    "\n",
    "print(\"Unscaled Attention\")\n",
    "wei = q @ k.transpose(-2, -1)\n",
    "print(f\"var(k) = {torch.var(k)}\")\n",
    "print(f\"var(q) = {torch.var(q)}\")\n",
    "print(f\"var(wei) = {torch.var(wei)}\")\n",
    "\n",
    "print(\"\\nScaled Attention\")\n",
    "wei = q @ k.transpose(-2, -1) * (head_size ** -0.5)\n",
    "print(f\"var(k) = {torch.var(k)}\")\n",
    "print(f\"var(q) = {torch.var(q)}\")\n",
    "print(f\"var(wei) = {torch.var(wei)}\")"
   ]
  },
  {
   "attachments": {},
   "cell_type": "markdown",
   "metadata": {},
   "source": [
    "## 5.4- Adding single Self Attention Head to the Bigram Language Model"
   ]
  },
  {
   "attachments": {},
   "cell_type": "markdown",
   "metadata": {},
   "source": [
    "### 5.4.1- Making new `Head` class"
   ]
  },
  {
   "cell_type": "code",
   "execution_count": null,
   "metadata": {},
   "outputs": [],
   "source": [
    "# Making the Head Class\n",
    "class Head(nn.Module):\n",
    "    \"\"\" one head of self attention \"\"\"\n",
    "    \n",
    "    def __init__(self, head_size):\n",
    "        super().__init__()\n",
    "        self.key = nn.Linear(n_embed, head_size, bias = False)\n",
    "        self.query = nn.Linear(n_embed, head_size, bias = False)\n",
    "        self.value = nn.Linear(n_embed, head_size, bias = False)\n",
    "        # since tril isn't a parameter, we register it as a buffer\n",
    "        self.register_buffer(\"tril\", torch.tril(torch.ones(block_size, block_size)))\n",
    "    \n",
    "    def forward(self, x):\n",
    "        B, T, C = x.shape\n",
    "        k = self.key(x) # (B, T, C)\n",
    "        q = self.query(x) # (B, T, C)\n",
    "\n",
    "        # compute attention scores (affinities)\n",
    "        wei = q @ k.transpose(-2, -1) * (C ** -0.5) # (B, T, C) @ (B, C, T) = (B, T, T)\n",
    "        wei = wei.masked_fill(self.tril[:T, :T] == 0 , float(\"-inf\")) # (B, T, T)\n",
    "        wei = F.softmax(wei, dim = -1) # (B, T, T)\n",
    "\n",
    "        # perform weighted aggregation of the values\n",
    "        v = self.value(x) # (B, T, C)\n",
    "        out = wei @ v # (B, T, T) @ (B, T, C) = (B, T, C)\n",
    "        return out"
   ]
  },
  {
   "attachments": {},
   "cell_type": "markdown",
   "metadata": {},
   "source": [
    "### 5.4.2- Modifying `BigramLanguageModel` class\n",
    "1. Adding `Head` to the `BigramLanguageModel` class\n",
    "2. Adding `Head` to the `BigramLanguageModel` forward pass\n",
    "3. for `generate` function, we need crop idx to keep `idx.shape <= block_size`, since we are using `positional embedding`"
   ]
  },
  {
   "cell_type": "code",
   "execution_count": null,
   "metadata": {},
   "outputs": [],
   "source": [
    "# Adding Head to the BigramLanguageModel\n",
    "\n",
    "# super simple bigram model\n",
    "class BigramLanguageModel(nn.Module):\n",
    "    # no need to pass vocab_size as an argument, since it is a global variable in this file\n",
    "    def __init__(self):\n",
    "        super().__init__()\n",
    "        # each token directly reads off the logits for the next token from a loockup table\n",
    "        self.token_embedding_table = nn.Embedding(vocab_size, n_embed)\n",
    "        # each position is also associated with an embedding vector\n",
    "        self.position_embedding_table = nn.Embedding(block_size, n_embed)\n",
    "        # a single head of self attention\n",
    "        self.sa_head = Head(n_embed)\n",
    "        # the output layer is a linear layer with vocab_size outputs\n",
    "        self.lm_head = nn.Linear(n_embed, vocab_size)\n",
    "\n",
    "    def forward(self, idx, targets = None):\n",
    "        B, T = idx.shape\n",
    "        # idx and targets are both (B, T) tensor of ints\n",
    "        token_emb = self.token_embedding_table(idx) # (B, T, C) = (4, 8 , vocab_size)\n",
    "        pos_emb = self.position_embedding_table(torch.arange(T, device = idx.device)) # (T, C) = (8, vocab_size)\n",
    "        # x has the token identities + the position embeddings\n",
    "        x = token_emb + pos_emb # (B, T, C) = (4, 8, vocab_size)\n",
    "        # feed the input to the self attention head\n",
    "        x = self.sa_head(x) # (B, T, C) = (4, 8, vocab_size)\n",
    "        logits = self.lm_head(x) # (B, T, vocab_size) = (4, 8, vocab_size)\n",
    "\n",
    "        if targets is None:\n",
    "            loss = None\n",
    "        else:\n",
    "            # note that F.cross_entropy accepts inputs in shape (B, C, T)\n",
    "            B, T, C = logits.shape\n",
    "            logits = logits.view(B * T, C)\n",
    "            targets = targets.view(B * T) # can be as targets = targets.view(-1)\n",
    "            \n",
    "            loss = F.cross_entropy(logits, targets)\n",
    "\n",
    "        return logits, loss\n",
    "\n",
    "    def generate(self, idx, max_new_tokens):\n",
    "        # idx is (B, T) array of indices in the current context\n",
    "        for _ in range(max_new_tokens):\n",
    "            # crop idx to the last block_size tokens\n",
    "            idx_cond = idx[:, -block_size:] # (B, T)\n",
    "            # get the logits for the next token\n",
    "            logits, loss = self(idx_cond)\n",
    "            # focus only on the last time step\n",
    "            # (note that we are feeding the whole context each time, however we only care about the last prediction)\n",
    "            # (this make doesn't make sense now, but the function will be modified later)\n",
    "            logits = logits[:, -1, :] # Becomes (B, C) (get the last time step for each sequence)\n",
    "            # apply softmax to convert to probabilities\n",
    "            probs = F.softmax(logits, dim = -1) # (B, C)\n",
    "            # sample from the distribution\n",
    "            idx_next = torch.multinomial(probs, num_samples=1) # (B, 1)\n",
    "            # append sampled token to the context\n",
    "            idx = torch.cat((idx, idx_next), dim = 1) # (B, T + 1)\n",
    "        return idx"
   ]
  },
  {
   "attachments": {},
   "cell_type": "markdown",
   "metadata": {},
   "source": [
    "### 5.4.3- Testing\n",
    "(loss is `2.54` instead of `2.57`)"
   ]
  },
  {
   "cell_type": "code",
   "execution_count": 125,
   "metadata": {},
   "outputs": [
    {
     "name": "stdout",
     "output_type": "stream",
     "text": [
      " step 0 | train loss: 4.1985 | val loss: 4.2013\n",
      " step 2999 | train loss: 2.5560 | val loss: 2.5439\n",
      "\n",
      "Whent ak tridcowf, h is t, bte\n",
      "\n",
      "Hiset bube tantavegr-ans thalitanss ar hthaf uwqhe he.\n",
      "War dthas ate awice my.\n",
      "\n",
      "HDEUncom orour\n",
      "Yowts\n",
      "Mtof itichice mil ndilincaes ireeesen cin latistt drov ts, anen k pngan ileranses lhin dite lltenser cechiry ptur haiss hawty.\n",
      "Hllin.\n",
      "I yradpetelaves\n",
      "Mk:\n",
      "I I the tthakleo W-SNAn brt eiibys the m dourive cens ireds pso mowrif te\n",
      "Thak dmnterurt f so;; irist m:\n",
      "EE:\n",
      "I inlerontatise Pre?\n",
      "\n",
      "Wy om.\n",
      "\n",
      "HK-NLI\n",
      "!\n",
      "Ktiybyis:\n",
      "Sadsal this ghest huin cst amaraney Iry ts chan tf ve y\n"
     ]
    }
   ],
   "source": [
    "!python3 bigram.py --eval_interval 2999"
   ]
  },
  {
   "attachments": {},
   "cell_type": "markdown",
   "metadata": {},
   "source": [
    "## 5.5- Multi-Head Attention\n",
    "- make the new `MultiHeadAttention` class"
   ]
  },
  {
   "cell_type": "code",
   "execution_count": null,
   "metadata": {},
   "outputs": [],
   "source": [
    "class MultiHeadAttention(nn.Module):\n",
    "    \"\"\" multiple heads of self-attention in parallel \"\"\"\n",
    "\n",
    "    def __init__(self, num_head, head_size):\n",
    "        super().__init__()\n",
    "        self.heads = nn.ModuleList([Head(head_size) for _ in range(num_head)])\n",
    "    \n",
    "    def forward(self, x):\n",
    "        # concatenate them into the channel dimension\n",
    "        return torch.cat([h(x) for h in self.heads], dim = -1)"
   ]
  },
  {
   "attachments": {},
   "cell_type": "markdown",
   "metadata": {},
   "source": [
    "then add it to `BigramLanguageModel` class \n",
    "\n",
    "previously:\n",
    "```python\n",
    "self.sa_head = Head(n_embed)\n",
    "```\n",
    "now:\n",
    "```python\n",
    "self.sa_heads = MultiHeadAttention(num_head = 4, head_size = n_embed // 4)\n",
    "```"
   ]
  },
  {
   "attachments": {},
   "cell_type": "markdown",
   "metadata": {},
   "source": [
    "### 5.5.1- Testing\n",
    "(loss is `2.51` instead of `2.54`)"
   ]
  },
  {
   "cell_type": "code",
   "execution_count": 126,
   "metadata": {},
   "outputs": [
    {
     "name": "stdout",
     "output_type": "stream",
     "text": [
      " step 0 | train loss: 4.2230 | val loss: 4.2180\n",
      " step 2999 | train loss: 2.5103 | val loss: 2.5133\n",
      "\n",
      "Whent ak tridcowd,\n",
      "T, son, bte\n",
      "\n",
      "Hiret bobe toe.\n",
      "S\n",
      "BO-EIS\n",
      "BF\n",
      "YLTanss arththat uwqhe he.\n",
      "War dilthoate awice my.\n",
      "\n",
      "HDEE:\n",
      "D zorou thowts\n",
      "Mtof is hy ce mil; dilincaes iree sen cin;\n",
      "SWiHmaclrev te anden k ther tilerans!\n",
      "el lindite let-hulr cechiry ptur; niss hiwty.\n",
      "H'n nis kormopetelavle\n",
      "Mom\n",
      "Dy wod methakleo W-ndo whde eiibas the m dourive cen\n",
      "DKen\n",
      "CUC-LOK\n",
      "ANNNTur\n",
      "Te kadmn,\n",
      "ruft f sor; igist m:\n",
      "EE\n",
      "CI I ledont tis derred my om.\n",
      "\n",
      "HKINLI\n",
      "S\n",
      "K,\n",
      "Sb&is:\n",
      "Sadsad thes and thiuin cst asaratny Iry tome fr th vouy\n"
     ]
    }
   ],
   "source": [
    "!python3 bigram.py --eval_interval 2999"
   ]
  },
  {
   "attachments": {},
   "cell_type": "markdown",
   "metadata": {},
   "source": [
    "# 6- Adding FeedForward Layer \n",
    "the feedforward is applied to each token independently"
   ]
  },
  {
   "cell_type": "code",
   "execution_count": 54,
   "metadata": {},
   "outputs": [],
   "source": [
    "class FeedForward(nn.Module):\n",
    "    \"\"\" a simple linear layer followed by a non-linearity \"\"\"\n",
    "    def __init__(self, n_embed):\n",
    "        super().__init__()\n",
    "        self.net = nn.Sequential(\n",
    "            nn.Linear(n_embed, n_embed),\n",
    "            nn.ReLU(),\n",
    "        )\n",
    "    \n",
    "    def forward(self, x):\n",
    "        return self.net(x)"
   ]
  },
  {
   "attachments": {},
   "cell_type": "markdown",
   "metadata": {},
   "source": [
    "# then add it to forward of the BigramLanguageModel\n",
    "``` python\n",
    "# previous code ..\n",
    "x = self.sa_heads(x) # (B, T, C) = (4, 8, vocab_size)\n",
    "# feed the output of the self attention head to the feed forward layer\n",
    "x = self.ff(x) # (B, T, C) = (4, 8, vocab_size)\n",
    "logits = self.lm_head(x) # (B, T, vocab_size) = (4, 8, vocab_size)\n",
    "# rest of the code ..\n",
    "```"
   ]
  },
  {
   "attachments": {},
   "cell_type": "markdown",
   "metadata": {},
   "source": [
    "## 6.1- Test\n",
    "(loss is `2.46` instead of `2.51`)"
   ]
  },
  {
   "cell_type": "code",
   "execution_count": 127,
   "metadata": {},
   "outputs": [
    {
     "name": "stdout",
     "output_type": "stream",
     "text": [
      " step 0 | train loss: 4.2016 | val loss: 4.2023\n",
      " step 2999 | train loss: 2.4432 | val loss: 2.4681\n",
      "\n",
      "And;\n",
      "BRIR\n",
      "INwcow afn is sorst mad set bobe uweravegr-ans meagatanss:\n",
      "Wanthae uwqhe hent?\n",
      "F dilthoate awice my thanstacum onou,\n",
      "Yowts\n",
      "Mtof ist cice mil nowlincaeg ireees, hain lat Heaclrev tea ane the nean!\n",
      "Ferabs!\n",
      "elerind peal.\n",
      "Mns;\n",
      "Sonchiry:\n",
      "Sup; aiss hawty.\n",
      "The nis kormopeeelg Is\n",
      "Mom\n",
      "Ill, demet akleo Windo wher eiiby wey thad, rive cee, irecs poous\n",
      "Alixs bume kadmntertptef son; iris! mef thiny aled ath, af Pri?\n",
      "\n",
      "WISom.\n",
      "\n",
      "HeyNLIE!\n",
      "Ktiybyis:\n",
      "Sads.\n",
      "Wic:\n",
      "Eow she uin cour ayranny Iry thachan yf veay\n"
     ]
    }
   ],
   "source": [
    "!python3 bigram.py --eval_interval 2999"
   ]
  },
  {
   "attachments": {},
   "cell_type": "markdown",
   "metadata": {},
   "source": [
    "# 7- Residual Connections"
   ]
  },
  {
   "attachments": {},
   "cell_type": "markdown",
   "metadata": {},
   "source": [
    "## 7.1 Stacking the Blocks"
   ]
  },
  {
   "cell_type": "code",
   "execution_count": 57,
   "metadata": {},
   "outputs": [],
   "source": [
    "class Block(nn.Module):\n",
    "    \"\"\" Transformer Block: Communication followed by Computation \"\"\"\n",
    "\n",
    "    def __init__(self, n_embed, n_head):\n",
    "        \"\"\" n_embed: embedding dimension\n",
    "            n_head: number of heads in the multi-head attention\n",
    "        \"\"\"\n",
    "        super().__init__()\n",
    "        head_size = n_embed // n_head\n",
    "        self.sa = MultiHeadAttention(n_head, head_size)\n",
    "        self.ffwd = FeedForward(n_embed)\n",
    "    \n",
    "    def forward(self, x):\n",
    "        x = self.sa(x)\n",
    "        x = self.ffwd(x)\n",
    "        return x"
   ]
  },
  {
   "attachments": {},
   "cell_type": "markdown",
   "metadata": {},
   "source": [
    "``` python\n",
    "# previous code ..\n",
    "# each token directly reads off the logits for the next token from a loockup table\n",
    "self.token_embedding_table = nn.Embedding(vocab_size, n_embed)\n",
    "# each position is also associated with an embedding vector\n",
    "self.position_embedding_table = nn.Embedding(block_size, n_embed)\n",
    "# transformer blocks\n",
    "self.blocks = nn.Sequential(\n",
    "        Block(n_embed, n_head = 4),\n",
    "        Block(n_embed, n_head = 4),\n",
    "        Block(n_embed, n_head = 4),\n",
    ")\n",
    "self.lm_head = nn.Linear(n_embed, vocab_size)\n",
    "# rest of the code ..\n",
    "```\n",
    "\n",
    "add them in the forward pass\n",
    "``` python\n",
    "# previous code ..\n",
    "x = token_emb + pos_emb # (B, T, C) = (4, 8, vocab_size)\n",
    "# feed the input to the self attention head\n",
    "x = self.blocks(x) # (B, T, C) = (4, 8, vocab_size)\n",
    "logits = self.lm_head(x) # (B, T, vocab_size) = (4, 8, vocab_size)\n",
    "# rest of the code ..\n",
    "```"
   ]
  },
  {
   "attachments": {},
   "cell_type": "markdown",
   "metadata": {},
   "source": [
    "### 7.1.1 Test\n",
    "(loss is `2.81` instead of `2.46`) ➡️ **WORSE**"
   ]
  },
  {
   "cell_type": "code",
   "execution_count": 128,
   "metadata": {},
   "outputs": [
    {
     "name": "stdout",
     "output_type": "stream",
     "text": [
      " step 0 | train loss: 4.2117 | val loss: 4.2063\n",
      " step 2999 | train loss: 2.8333 | val loss: 2.8197\n",
      "\n",
      "AYCCWADRR\n",
      "INOc'wd,en i on,ert maairet bobe u ehanvgrna mime?\n",
      "Ihauhs:\n",
      "Wa thheuu qhrt tetb cedtlrh a euuwccr moan,fnsdn o zoeou:\n",
      "Yowns\n",
      "Mtof ia hyi!t mil ndil bhaeg ireeus,n cin lat Hetidrov te annen me nean ilera mosel li daee lhhenuer ce wihy:\n",
      "Uuge nisslllwty. nlein'u nor\n",
      "Toetelgvls\n",
      "Mo:\n",
      "Iylwod motenkleo Winso ohdn piibas eoe m dosri Ehaee\n",
      ":Ieeus poo mo ehhore\n",
      "\n",
      "Apkadmntnruft f son; ioy !am:\n",
      "\n",
      "thre maleooats,fsf Pre?\n",
      "\n",
      "W Som.\n",
      "ran-,su\n",
      "Har,dybdi aa adaa Wahes ghesn hoih cotk aaranny Iry tamchan yfca hy\n"
     ]
    }
   ],
   "source": [
    "!python3 bigram.py --eval_interval 2999"
   ]
  },
  {
   "attachments": {},
   "cell_type": "markdown",
   "metadata": {},
   "source": [
    "## 7.2 - Adding Residual Connections (Skip Connections)"
   ]
  },
  {
   "attachments": {},
   "cell_type": "markdown",
   "metadata": {},
   "source": [
    "### 7.2.1- Transformer Block"
   ]
  },
  {
   "cell_type": "code",
   "execution_count": null,
   "metadata": {},
   "outputs": [],
   "source": [
    "class Block(nn.Module):\n",
    "    \"\"\" Transformer Block: Communication followed by Computation \"\"\"\n",
    "\n",
    "    def __init__(self, n_embed, n_head):\n",
    "        \"\"\" n_embed: embedding dimension\n",
    "            n_head: number of heads in the multi-head attention\n",
    "        \"\"\"\n",
    "        super().__init__()\n",
    "        head_size = n_embed // n_head\n",
    "        self.sa = MultiHeadAttention(n_head, head_size)\n",
    "        self.ffwd = FeedForward(n_embed)\n",
    "    \n",
    "    def forward(self, x):\n",
    "        # residual connection (add the input to the output)\n",
    "        x = x + self.sa(x)\n",
    "        x = x + self.ffwd(x)\n",
    "        return x"
   ]
  },
  {
   "attachments": {},
   "cell_type": "markdown",
   "metadata": {},
   "source": [
    "### 7.2.2- Multi-Head Attention"
   ]
  },
  {
   "cell_type": "code",
   "execution_count": 115,
   "metadata": {},
   "outputs": [],
   "source": [
    "# Multi Head Attention Class\n",
    "class MultiHeadAttention(nn.Module):\n",
    "    \"\"\" multiple heads of self-attention in parallel \"\"\"\n",
    "\n",
    "    def __init__(self, num_head, head_size):\n",
    "        super().__init__()\n",
    "        self.heads = nn.ModuleList([Head(head_size) for _ in range(num_head)])\n",
    "        # linear transformation to the output of the multi-head attention as projection back to the residual pathway\n",
    "        self.proj = nn.Linear(n_embed, n_embed)\n",
    "    \n",
    "    def forward(self, x):\n",
    "        # out is the outptu of the multi-head attention\n",
    "        out =  torch.cat([h(x) for h in self.heads], dim = -1)\n",
    "        # apply a linear layer to the concatenated output\n",
    "        out = self.proj(out)\n",
    "        return out"
   ]
  },
  {
   "attachments": {},
   "cell_type": "markdown",
   "metadata": {},
   "source": [
    "### 7.2.3- FeedForward Layer"
   ]
  },
  {
   "cell_type": "code",
   "execution_count": 116,
   "metadata": {},
   "outputs": [],
   "source": [
    "# Feed Forward Class\n",
    "class FeedForward(nn.Module):\n",
    "    \"\"\" a simple linear layer followed by a non-linearity \"\"\"\n",
    "    def __init__(self, n_embed):\n",
    "        super().__init__()\n",
    "        self.net = nn.Sequential(\n",
    "            # multiply by 4 to follow the original implementation\n",
    "            nn.Linear(n_embed, 4 * n_embed),\n",
    "            nn.ReLU(),\n",
    "            nn.Linear(n_embed * 4, n_embed),\n",
    "        )\n",
    "    \n",
    "    def forward(self, x):\n",
    "        return self.net(x)"
   ]
  },
  {
   "attachments": {},
   "cell_type": "markdown",
   "metadata": {},
   "source": [
    "### 7.2.4 Test\n",
    "(loss is `2.33` instead of `2.81` and `2.46` before it)"
   ]
  },
  {
   "cell_type": "code",
   "execution_count": 129,
   "metadata": {},
   "outputs": [
    {
     "name": "stdout",
     "output_type": "stream",
     "text": [
      " step 0 | train loss: 4.6178 | val loss: 4.6449\n",
      " step 2999 | train loss: 2.2907 | val loss: 2.3392\n",
      "\n",
      "\n",
      "Afnt ak bridce?\n",
      ", This s, but\n",
      "\n",
      "Hirenk Bbe die.\n",
      "Sagrth my dagatanss:\n",
      "Watthy, ulqor, vet?\n",
      "redthas ane arche my.\n",
      "\n",
      "ODEZOY F I mun\n",
      "Youns, tof in hy HEvarl noill!,\n",
      "\n",
      "WHENYe:\n",
      "Youcin latistt drov the deen knongh pirerjbm!\n",
      " lelind peal.\n",
      "-hull cechiry prupe aiss hew ye nuren.\n",
      "I yroupe elives\n",
      "Akinty wod moth?\n",
      "\n",
      "KNRWLONARLOLICO:\n",
      "The the m dour sEThe shire sth-LOK:\n",
      "The thume kid nunrtpirf sor; ir he muf thie knled at ffife\n",
      "rred my om.\n",
      "rand, be!\n",
      "re you sar adspe the Eurest huin cour ay, tey Iry thechen you! hy\n"
     ]
    }
   ],
   "source": [
    "!python3 bigram.py --eval_interval 2999 "
   ]
  },
  {
   "attachments": {},
   "cell_type": "markdown",
   "metadata": {},
   "source": [
    "# 8- LayerNorm"
   ]
  },
  {
   "attachments": {},
   "cell_type": "markdown",
   "metadata": {},
   "source": [
    "## 8.1- BatchNorm1d from makemore part 3"
   ]
  },
  {
   "cell_type": "code",
   "execution_count": 142,
   "metadata": {},
   "outputs": [
    {
     "name": "stdout",
     "output_type": "stream",
     "text": [
      "mean of first column: 0.0000 | std of first column: 1.0000\n",
      "mean of first row: 0.0411 | std of first row: 1.0431\n"
     ]
    }
   ],
   "source": [
    "class BatchNorm1d:\n",
    "    def __init__(self, dim, eps=1e-5, momentum = 0.1):\n",
    "        self.eps = eps\n",
    "        self.momentum = momentum\n",
    "        self.training = True\n",
    "\n",
    "        # parameters (trained with backprop)\n",
    "        self.gamma = torch.ones(dim)\n",
    "        self.beta = torch.zeros(dim)\n",
    "\n",
    "        # buffers (trained while running `momentum update`)\n",
    "        self.running_mean = torch.zeros(dim)\n",
    "        self.running_var = torch.ones(dim)\n",
    "\n",
    "    def __call__(self, x):\n",
    "        if self.training:\n",
    "            # batch mean\n",
    "            xmean = x.mean(0, keepdim= True)\n",
    "            # batch variance\n",
    "            xvar = x.var(0, keepdim= True)\n",
    "        else:\n",
    "            xmean = self.running_mean\n",
    "            xvar = self.running_var\n",
    "        \n",
    "        xhat = (x - xmean) / torch.sqrt(xvar + self.eps)\n",
    "        self.out = self.gamma * xhat + self.beta\n",
    "\n",
    "        # update the buffers in training\n",
    "        if self.training:\n",
    "            with torch.no_grad():\n",
    "                self.running_mean = (1 - self.momentum) * self.running_mean + self.momentum * xmean\n",
    "                self.running_var = (1 - self.momentum) * self.running_var + self.momentum * xvar\n",
    "        \n",
    "        return self.out\n",
    "    \n",
    "    def parameters(self):\n",
    "        return [self.gamma, self.beta]\n",
    "\n",
    "torch.manual_seed(1337)\n",
    "module = BatchNorm1d(100)\n",
    "x = torch.randn(32, 100)\n",
    "x = module(x)\n",
    "x.shape\n",
    "\n",
    "# columns are normalized\n",
    "print(f\"mean of first column: {x[:, 0].mean():.4f} | std of first column: {x[:, 0].std():.4f}\")\n",
    "# rows are not normalized ➡️ we need to normalize the rows instead\n",
    "print(f\"mean of first row: {x[0, :].mean():.4f} | std of first row: {x[0, :].std():.4f}\")"
   ]
  },
  {
   "cell_type": "code",
   "execution_count": 143,
   "metadata": {},
   "outputs": [
    {
     "name": "stdout",
     "output_type": "stream",
     "text": [
      "mean of first column: 0.1469 | std of first column: 0.8803\n",
      "mean of first row: -0.0000 | std of first row: 1.0000\n"
     ]
    }
   ],
   "source": [
    "# after normalizing the rows (and removing the buffers too)\n",
    "class BatchNorm1d:\n",
    "    def __init__(self, dim, eps=1e-5, momentum = 0.1):\n",
    "        self.eps = eps\n",
    "        self.gamma = torch.ones(dim)\n",
    "        self.beta = torch.zeros(dim)\n",
    "\n",
    "    def __call__(self, x):\n",
    "        xmean = x.mean(1, keepdim= True)\n",
    "        xvar = x.var(1, keepdim= True)\n",
    "        xhat = (x - xmean) / torch.sqrt(xvar + self.eps)\n",
    "        self.out = self.gamma * xhat + self.beta\n",
    "        return self.out\n",
    "    \n",
    "    def parameters(self):\n",
    "        return [self.gamma, self.beta]\n",
    "\n",
    "torch.manual_seed(1337)\n",
    "module = BatchNorm1d(100)\n",
    "x = torch.randn(32, 100)\n",
    "x = module(x)\n",
    "x.shape\n",
    "\n",
    "# columns are not normalized now\n",
    "print(f\"mean of first column: {x[:, 0].mean():.4f} | std of first column: {x[:, 0].std():.4f}\")\n",
    "# rows are normalized now\n",
    "print(f\"mean of first row: {x[0, :].mean():.4f} | std of first row: {x[0, :].std():.4f}\")"
   ]
  },
  {
   "attachments": {},
   "cell_type": "markdown",
   "metadata": {},
   "source": [
    "## 8.2- Adding LayerNorm"
   ]
  },
  {
   "attachments": {},
   "cell_type": "markdown",
   "metadata": {},
   "source": [
    "### 8.2.1- in the transformer blocks"
   ]
  },
  {
   "cell_type": "code",
   "execution_count": null,
   "metadata": {},
   "outputs": [],
   "source": [
    "class Block(nn.Module):\n",
    "    \"\"\" Transformer Block: Communication followed by Computation \"\"\"\n",
    "\n",
    "    def __init__(self, n_embed, n_head):\n",
    "        \"\"\" n_embed: embedding dimension\n",
    "            n_head: number of heads in the multi-head attention\n",
    "        \"\"\"\n",
    "        super().__init__()\n",
    "        head_size = n_embed // n_head\n",
    "        self.sa = MultiHeadAttention(n_head, head_size)\n",
    "        self.ffwd = FeedForward(n_embed)\n",
    "        # ln1 is applied directly on input before the multi-head attention\n",
    "        self.ln1 = nn.LayerNorm(n_embed)\n",
    "        # ln2 is applied directly on the output of the multi-head attention before the feed-forward layer\n",
    "        self.ln2 = nn.LayerNorm(n_embed)\n",
    "    \n",
    "    def forward(self, x):\n",
    "        # residual connection (add the input to the output)\n",
    "        x = x + self.sa(self.ln1(x))\n",
    "        x = x + self.ffwd(self.ln2(x))\n",
    "        return x"
   ]
  },
  {
   "attachments": {},
   "cell_type": "markdown",
   "metadata": {},
   "source": [
    "### 8.2.1- after all blocks (before last linear layer)"
   ]
  },
  {
   "cell_type": "code",
   "execution_count": null,
   "metadata": {},
   "outputs": [],
   "source": [
    "class BigramLanguageModel(nn.Module):\n",
    "    # no need to pass vocab_size as an argument, since it is a global variable in this file\n",
    "    def __init__(self):\n",
    "        super().__init__()\n",
    "        # each token directly reads off the logits for the next token from a loockup table\n",
    "        self.token_embedding_table = nn.Embedding(vocab_size, n_embed)\n",
    "        # each position is also associated with an embedding vector\n",
    "        self.position_embedding_table = nn.Embedding(block_size, n_embed)\n",
    "        # transformer blocks\n",
    "        self.blocks = nn.Sequential(\n",
    "                Block(n_embed, n_head = 4),\n",
    "                Block(n_embed, n_head = 4),\n",
    "                Block(n_embed, n_head = 4),\n",
    "                # add layernorm here\n",
    "                nn.LayerNorm(n_embed),\n",
    "        )\n",
    "        self.lm_head = nn.Linear(n_embed, vocab_size)"
   ]
  },
  {
   "attachments": {},
   "cell_type": "markdown",
   "metadata": {},
   "source": [
    "# 9- Scaling up the model"
   ]
  },
  {
   "attachments": {},
   "cell_type": "markdown",
   "metadata": {},
   "source": [
    "## 9.1- Adding `n_layer` variable"
   ]
  },
  {
   "cell_type": "code",
   "execution_count": null,
   "metadata": {},
   "outputs": [],
   "source": [
    "# super simple bigram model\n",
    "class BigramLanguageModel(nn.Module):\n",
    "    # no need to pass vocab_size as an argument, since it is a global variable in this file\n",
    "    def __init__(self):\n",
    "        super().__init__()\n",
    "        # each token directly reads off the logits for the next token from a loockup table\n",
    "        self.token_embedding_table = nn.Embedding(vocab_size, n_embed)\n",
    "        # each position is also associated with an embedding vector\n",
    "        self.position_embedding_table = nn.Embedding(block_size, n_embed)\n",
    "        # transformer blocks\n",
    "        self.blocks = nn.Sequential(*[Block(n_embed, n_head = 4) for _ in range(n_layer)])\n",
    "        # Remember to add it in forward too\n",
    "        self.ln_f = nn.LayerNorm(n_embed)\n",
    "        self.lm_head = nn.Linear(n_embed, vocab_size)"
   ]
  },
  {
   "attachments": {},
   "cell_type": "markdown",
   "metadata": {},
   "source": [
    "## 9.2- Adding Dropouts\n",
    "- in `Head` after calculating `wei`\n",
    "- in `MultiHeadAttention` after `self.proj`\n",
    "- in `FeedForward` after last linear"
   ]
  },
  {
   "attachments": {},
   "cell_type": "markdown",
   "metadata": {},
   "source": [
    "## 9.3- Try"
   ]
  },
  {
   "cell_type": "code",
   "execution_count": 151,
   "metadata": {},
   "outputs": [
    {
     "name": "stdout",
     "output_type": "stream",
     "text": [
      " step 0 | train loss: 4.4116 | val loss: 4.4048\n",
      " step 100 | train loss: 2.6539 | val loss: 2.6605\n",
      " step 200 | train loss: 2.5139 | val loss: 2.5159\n",
      " step 300 | train loss: 2.4038 | val loss: 2.4126\n",
      " step 400 | train loss: 2.3433 | val loss: 2.3510\n",
      " step 500 | train loss: 2.2921 | val loss: 2.3006\n",
      " step 600 | train loss: 2.2344 | val loss: 2.2512\n",
      " step 700 | train loss: 2.1932 | val loss: 2.2093\n",
      " step 800 | train loss: 2.1559 | val loss: 2.1801\n",
      " step 900 | train loss: 2.1208 | val loss: 2.1500\n",
      " step 1000 | train loss: 2.0774 | val loss: 2.1180\n",
      " step 1100 | train loss: 2.0619 | val loss: 2.1036\n",
      " step 1200 | train loss: 2.0294 | val loss: 2.0747\n",
      " step 1300 | train loss: 2.0156 | val loss: 2.0591\n",
      " step 1400 | train loss: 1.9943 | val loss: 2.0548\n",
      " step 1500 | train loss: 1.9765 | val loss: 2.0379\n",
      " step 1600 | train loss: 1.9503 | val loss: 2.0301\n",
      " step 1700 | train loss: 1.9322 | val loss: 2.0212\n",
      " step 1800 | train loss: 1.9143 | val loss: 2.0021\n",
      " step 1900 | train loss: 1.9076 | val loss: 2.0012\n",
      " step 2000 | train loss: 1.8849 | val loss: 1.9906\n",
      " step 2100 | train loss: 1.8666 | val loss: 1.9728\n",
      " step 2200 | train loss: 1.8726 | val loss: 1.9664\n",
      " step 2300 | train loss: 1.8506 | val loss: 1.9482\n",
      " step 2400 | train loss: 1.8424 | val loss: 1.9487\n",
      " step 2500 | train loss: 1.8296 | val loss: 1.9448\n",
      " step 2600 | train loss: 1.8122 | val loss: 1.9379\n",
      " step 2700 | train loss: 1.8075 | val loss: 1.9298\n",
      " step 2800 | train loss: 1.8044 | val loss: 1.9225\n",
      " step 2900 | train loss: 1.7831 | val loss: 1.9009\n",
      " step 3000 | train loss: 1.7788 | val loss: 1.8989\n",
      " step 3100 | train loss: 1.7812 | val loss: 1.9153\n",
      " step 3200 | train loss: 1.7774 | val loss: 1.9140\n",
      " step 3300 | train loss: 1.7530 | val loss: 1.8908\n",
      " step 3400 | train loss: 1.7552 | val loss: 1.8924\n",
      " step 3500 | train loss: 1.7409 | val loss: 1.8869\n",
      " step 3600 | train loss: 1.7349 | val loss: 1.8675\n",
      " step 3700 | train loss: 1.7289 | val loss: 1.8794\n",
      " step 3800 | train loss: 1.7138 | val loss: 1.8651\n",
      " step 3900 | train loss: 1.7235 | val loss: 1.8700\n",
      " step 4000 | train loss: 1.7144 | val loss: 1.8609\n",
      " step 4100 | train loss: 1.7039 | val loss: 1.8623\n",
      " step 4200 | train loss: 1.7089 | val loss: 1.8444\n",
      " step 4300 | train loss: 1.7015 | val loss: 1.8448\n",
      " step 4400 | train loss: 1.6836 | val loss: 1.8415\n",
      " step 4500 | train loss: 1.6991 | val loss: 1.8510\n",
      " step 4600 | train loss: 1.6972 | val loss: 1.8480\n",
      " step 4700 | train loss: 1.6860 | val loss: 1.8427\n",
      " step 4800 | train loss: 1.6801 | val loss: 1.8325\n",
      " step 4900 | train loss: 1.6725 | val loss: 1.8227\n",
      "\n",
      "\n",
      "Clown:\n",
      "Romiolow and is so bleman and boay tongurage-and me?\n",
      "Than your baphed wearth. that dilay ane away, my feance,\n",
      "And I make what tofficion!\n",
      "\n",
      "VOLUMNIA:\n",
      "What misters, hoin latise, lieve to done me now on trans!\n",
      "\n",
      "AUlingion upolish wouch by atchminess havey.\n",
      "\n",
      "Slings norforething sonder.\n",
      "Who like again Wilike have iinstreng more rive weephing strong\n",
      "of his burder of thrust for armiging must with allook,\n",
      "To figrand my of trangious! stild is wards.\n",
      "Wich Edward huil couragain.\n",
      "\n",
      "Clry tomenan you!\n",
      "My\n"
     ]
    }
   ],
   "source": [
    "!python3 bigram.py"
   ]
  }
 ],
 "metadata": {
  "kernelspec": {
   "display_name": "main",
   "language": "python",
   "name": "python3"
  },
  "language_info": {
   "codemirror_mode": {
    "name": "ipython",
    "version": 3
   },
   "file_extension": ".py",
   "mimetype": "text/x-python",
   "name": "python",
   "nbconvert_exporter": "python",
   "pygments_lexer": "ipython3",
   "version": "3.11.3"
  },
  "orig_nbformat": 4
 },
 "nbformat": 4,
 "nbformat_minor": 2
}
