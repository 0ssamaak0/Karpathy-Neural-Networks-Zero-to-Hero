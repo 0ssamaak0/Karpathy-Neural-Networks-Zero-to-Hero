{
 "cells": [
  {
   "cell_type": "code",
   "execution_count": 4,
   "metadata": {},
   "outputs": [],
   "source": [
    "import torch\n",
    "import math\n",
    "import matplotlib.pyplot as plt\n",
    "import random"
   ]
  },
  {
   "cell_type": "markdown",
   "metadata": {},
   "source": [
    "# Part 1: Value Class"
   ]
  },
  {
   "cell_type": "code",
   "execution_count": 5,
   "metadata": {},
   "outputs": [],
   "source": [
    "class Value:\n",
    "\n",
    "    def __init__(self, data, _children = (), _op = '', label = ''):\n",
    "        self.data = data\n",
    "        self.grad = 0.0\n",
    "        self._backward = lambda: None\n",
    "        self._prev = set(_children)\n",
    "        self._op = _op\n",
    "        self.label = label\n",
    "\n",
    "    def __repr__(self):\n",
    "        if self.label:\n",
    "            return f\"Value(label: {self.label} | data = {self.data})\"\n",
    "        else:\n",
    "            return f\"Value(data = {self.data})\"\n",
    "\n",
    "    def __add__(self, other):\n",
    "        other = other if isinstance(other, Value) else Value(other)\n",
    "        out = Value(self.data + other.data, (self, other), _op = \"+\")\n",
    "\n",
    "        def _backward():\n",
    "            self.grad += 1.0 * out.grad\n",
    "            other.grad += 1.0 * out.grad\n",
    "        out._backward = _backward\n",
    "\n",
    "        return out\n",
    "    \n",
    "    def __radd__(self, other):\n",
    "        return self + other\n",
    "    \n",
    "    def __neg__(self):\n",
    "        return self * -1\n",
    "    \n",
    "    def __sub__(self, other):\n",
    "        return self + (-other)\n",
    "    \n",
    "    def __rsub__(self, other):\n",
    "        return (-self) + other\n",
    "    \n",
    "    def __mul__(self, other):\n",
    "        other = other if isinstance(other, Value) else Value(other)\n",
    "        out = Value(self.data * other.data, (self, other), _op = \"*\")\n",
    "\n",
    "        def _backward():\n",
    "            self.grad += other.data * out.grad\n",
    "            other.grad += self.data * out.grad\n",
    "        out._backward = _backward\n",
    "\n",
    "        return out\n",
    "    \n",
    "\n",
    "    def __pow__(self, other):\n",
    "        assert isinstance(other, (int, float))\n",
    "        out = Value(self.data ** other, (self,), _op = f\"**{other}\")\n",
    "\n",
    "        def _backward():\n",
    "            self.grad += (self.data ** (other - 1)) * other * out.grad\n",
    "        out._backward = _backward\n",
    "\n",
    "        return out\n",
    "\n",
    "    def __rmul__(self, other):\n",
    "        return self * other\n",
    "    \n",
    "    def __truediv__(self, other):\n",
    "        return self * (other ** -1)\n",
    "    \n",
    "    def __rtruediv__(self, other):\n",
    "        return other * (self ** -1)\n",
    "\n",
    "    def tanh(self):\n",
    "        n = self.data\n",
    "        t = (math.exp(2 * n) - 1) / (math.exp(2 * n) + 1)\n",
    "        out = Value(t, (self,), _op = \"tanh\")\n",
    "\n",
    "        def _backward():\n",
    "            self.grad += (1 - t ** 2) * out.grad\n",
    "        out._backward = _backward\n",
    "\n",
    "        return out\n",
    "    \n",
    "    def exp(self):\n",
    "        x = self.data\n",
    "        out = Value(math.exp(x), (self,), _op = \"exp\")\n",
    "\n",
    "        def _backward():\n",
    "            self.grad += math.exp(x) * out.grad\n",
    "        out._backward = _backward\n",
    "\n",
    "        return out\n",
    "\n",
    "\n",
    "    def backward(self):\n",
    "        topo = []\n",
    "        visited = set()\n",
    "        def build_topo(v):\n",
    "            if v not in visited:\n",
    "                visited.add(v)\n",
    "                for child in v._prev:\n",
    "                    build_topo(child)\n",
    "                topo.append(v)\n",
    "\n",
    "        build_topo(self)\n",
    "        self.grad = 1.0\n",
    "        for node in reversed(topo):\n",
    "            node._backward()\n",
    "\n",
    "    def print_full(self):\n",
    "        print(f\"{self.label} data: {self.data} grad: {self.grad}\")"
   ]
  },
  {
   "cell_type": "markdown",
   "metadata": {},
   "source": [
    "## Graphviz function"
   ]
  },
  {
   "cell_type": "code",
   "execution_count": 9,
   "metadata": {},
   "outputs": [],
   "source": [
    "from graphviz import Digraph\n",
    "\n",
    "def trace(root):\n",
    "  # builds a set of all nodes and edges in a graph\n",
    "  nodes, edges = set(), set()\n",
    "  def build(v):\n",
    "    if v not in nodes:\n",
    "      nodes.add(v)\n",
    "      for child in v._prev:\n",
    "        edges.add((child, v))\n",
    "        build(child)\n",
    "  build(root)\n",
    "  return nodes, edges\n",
    "\n",
    "def draw_dot(root):\n",
    "  dot = Digraph(format='svg', graph_attr={'rankdir': 'LR'}) # LR = left to right\n",
    "  \n",
    "  nodes, edges = trace(root)\n",
    "  for n in nodes:\n",
    "    uid = str(id(n))\n",
    "    # for any value in the graph, create a rectangular ('record') node for it\n",
    "    dot.node(name = uid, label = \"{ %s | data %.4f | grad %.4f }\" % (n.label, n.data, n.grad), shape='record')\n",
    "    if n._op:\n",
    "      # if this value is a result of some operation, create an op node for it\n",
    "      dot.node(name = uid + n._op, label = n._op)\n",
    "      # and connect this node to it\n",
    "      dot.edge(uid + n._op, uid)\n",
    "\n",
    "  for n1, n2 in edges:\n",
    "    # connect n1 to the op node of n2\n",
    "    dot.edge(str(id(n1)), str(id(n2)) + n2._op)\n",
    "\n",
    "  return dot"
   ]
  },
  {
   "attachments": {},
   "cell_type": "markdown",
   "metadata": {},
   "source": [
    "## Examples"
   ]
  },
  {
   "attachments": {},
   "cell_type": "markdown",
   "metadata": {},
   "source": [
    "### 1. Simple Expression"
   ]
  },
  {
   "cell_type": "code",
   "execution_count": 6,
   "metadata": {},
   "outputs": [
    {
     "name": "stdout",
     "output_type": "stream",
     "text": [
      "3.9999999999995595\n"
     ]
    }
   ],
   "source": [
    "def lol():\n",
    "    h = 0.0001\n",
    "\n",
    "    a = Value(2.0, label = \"a\")\n",
    "    b = Value(-3.0, label = \"b\")\n",
    "    c = Value(10.0, label = \"c\")\n",
    "    e = a * b; e.label = \"e\"\n",
    "    d = e + c; d.label = \"d\"\n",
    "    f = Value(-2.0, label = \"f\")\n",
    "    L = d * f; L.label = \"L\"\n",
    "    \n",
    "    L1 = L.data\n",
    "\n",
    "    a = Value(2.0, label = \"a\")\n",
    "    b = Value(-3.0, label = \"b\")\n",
    "    c = Value(10.0, label = \"c\")\n",
    "    e = a * b; e.label = \"e\"\n",
    "    d = e + c; d.label = \"d\"\n",
    "    f = Value(-2.0 + h, label = \"f\")\n",
    "    L = d * f; L.label = \"L\"\n",
    "\n",
    "    L2 = L.data\n",
    "\n",
    "    print((L2 - L1) / h)\n",
    "\n",
    "lol()"
   ]
  },
  {
   "attachments": {},
   "cell_type": "markdown",
   "metadata": {},
   "source": [
    "### 2. Neuron"
   ]
  },
  {
   "cell_type": "code",
   "execution_count": 7,
   "metadata": {},
   "outputs": [],
   "source": [
    "x1 = Value(2.0, label = \"x1\")\n",
    "x2 = Value(0.0, label = \"x2\")\n",
    "\n",
    "w1 = Value(-3.0, label = \"w1\")\n",
    "w2 = Value(1.0, label = \"w2\")\n",
    "\n",
    "b = Value(6.881373, label = \"b\")\n",
    "\n",
    "x1w1 = x1 * w1; x1w1.label = \"x1w1\"\n",
    "x2w2 = x2 * w2; x2w2.label = \"x2w2\"\n",
    "\n",
    "x1w1x2w2 = x1w1 + x2w2; x1w1x2w2.label = \"x1w1x2w2\"\n",
    "n = x1w1x2w2 + b; n.label = \"n\"\n",
    "o = n.tanh(); o.label = \"o\""
   ]
  },
  {
   "cell_type": "code",
   "execution_count": 10,
   "metadata": {},
   "outputs": [
    {
     "data": {
      "image/svg+xml": "<?xml version=\"1.0\" encoding=\"UTF-8\" standalone=\"no\"?>\n<!DOCTYPE svg PUBLIC \"-//W3C//DTD SVG 1.1//EN\"\n \"http://www.w3.org/Graphics/SVG/1.1/DTD/svg11.dtd\">\n<!-- Generated by graphviz version 2.50.0 (0)\n -->\n<!-- Pages: 1 -->\n<svg width=\"1804pt\" height=\"210pt\"\n viewBox=\"0.00 0.00 1803.69 210.00\" xmlns=\"http://www.w3.org/2000/svg\" xmlns:xlink=\"http://www.w3.org/1999/xlink\">\n<g id=\"graph0\" class=\"graph\" transform=\"scale(1 1) rotate(0) translate(4 206)\">\n<polygon fill=\"white\" stroke=\"transparent\" points=\"-4,4 -4,-206 1799.69,-206 1799.69,4 -4,4\"/>\n<!-- 139856102643344 -->\n<g id=\"node1\" class=\"node\">\n<title>139856102643344</title>\n<polygon fill=\"none\" stroke=\"black\" points=\"375,-55.5 375,-91.5 641,-91.5 641,-55.5 375,-55.5\"/>\n<text text-anchor=\"middle\" x=\"402.5\" y=\"-69.8\" font-family=\"Times,serif\" font-size=\"14.00\">x1w1</text>\n<polyline fill=\"none\" stroke=\"black\" points=\"430,-55.5 430,-91.5 \"/>\n<text text-anchor=\"middle\" x=\"483.5\" y=\"-69.8\" font-family=\"Times,serif\" font-size=\"14.00\">data &#45;6.0000</text>\n<polyline fill=\"none\" stroke=\"black\" points=\"537,-55.5 537,-91.5 \"/>\n<text text-anchor=\"middle\" x=\"589\" y=\"-69.8\" font-family=\"Times,serif\" font-size=\"14.00\">grad 2.0000</text>\n</g>\n<!-- 139856102651600+ -->\n<g id=\"node5\" class=\"node\">\n<title>139856102651600+</title>\n<ellipse fill=\"none\" stroke=\"black\" cx=\"704\" cy=\"-100.5\" rx=\"27\" ry=\"18\"/>\n<text text-anchor=\"middle\" x=\"704\" y=\"-96.8\" font-family=\"Times,serif\" font-size=\"14.00\">+</text>\n</g>\n<!-- 139856102643344&#45;&gt;139856102651600+ -->\n<g id=\"edge11\" class=\"edge\">\n<title>139856102643344&#45;&gt;139856102651600+</title>\n<path fill=\"none\" stroke=\"black\" d=\"M638.4,-91.51C648.78,-92.95 658.6,-94.32 667.3,-95.53\"/>\n<polygon fill=\"black\" stroke=\"black\" points=\"666.94,-99.01 677.32,-96.93 667.9,-92.08 666.94,-99.01\"/>\n</g>\n<!-- 139856102643344* -->\n<g id=\"node2\" class=\"node\">\n<title>139856102643344*</title>\n<ellipse fill=\"none\" stroke=\"black\" cx=\"312\" cy=\"-73.5\" rx=\"27\" ry=\"18\"/>\n<text text-anchor=\"middle\" x=\"312\" y=\"-69.8\" font-family=\"Times,serif\" font-size=\"14.00\">*</text>\n</g>\n<!-- 139856102643344*&#45;&gt;139856102643344 -->\n<g id=\"edge1\" class=\"edge\">\n<title>139856102643344*&#45;&gt;139856102643344</title>\n<path fill=\"none\" stroke=\"black\" d=\"M339.16,-73.5C346.61,-73.5 355.28,-73.5 364.68,-73.5\"/>\n<polygon fill=\"black\" stroke=\"black\" points=\"364.73,-77 374.73,-73.5 364.73,-70 364.73,-77\"/>\n</g>\n<!-- 139856102639792 -->\n<g id=\"node3\" class=\"node\">\n<title>139856102639792</title>\n<polygon fill=\"none\" stroke=\"black\" points=\"803,-137.5 803,-173.5 1035,-173.5 1035,-137.5 803,-137.5\"/>\n<text text-anchor=\"middle\" x=\"816\" y=\"-151.8\" font-family=\"Times,serif\" font-size=\"14.00\">b</text>\n<polyline fill=\"none\" stroke=\"black\" points=\"829,-137.5 829,-173.5 \"/>\n<text text-anchor=\"middle\" x=\"880\" y=\"-151.8\" font-family=\"Times,serif\" font-size=\"14.00\">data 6.8814</text>\n<polyline fill=\"none\" stroke=\"black\" points=\"931,-137.5 931,-173.5 \"/>\n<text text-anchor=\"middle\" x=\"983\" y=\"-151.8\" font-family=\"Times,serif\" font-size=\"14.00\">grad 1.5000</text>\n</g>\n<!-- 139856102646608+ -->\n<g id=\"node12\" class=\"node\">\n<title>139856102646608+</title>\n<ellipse fill=\"none\" stroke=\"black\" cx=\"1134\" cy=\"-127.5\" rx=\"27\" ry=\"18\"/>\n<text text-anchor=\"middle\" x=\"1134\" y=\"-123.8\" font-family=\"Times,serif\" font-size=\"14.00\">+</text>\n</g>\n<!-- 139856102639792&#45;&gt;139856102646608+ -->\n<g id=\"edge10\" class=\"edge\">\n<title>139856102639792&#45;&gt;139856102646608+</title>\n<path fill=\"none\" stroke=\"black\" d=\"M1035.23,-140.35C1057.63,-137.41 1079.52,-134.53 1096.88,-132.25\"/>\n<polygon fill=\"black\" stroke=\"black\" points=\"1097.62,-135.68 1107.08,-130.91 1096.7,-128.74 1097.62,-135.68\"/>\n</g>\n<!-- 139856102651600 -->\n<g id=\"node4\" class=\"node\">\n<title>139856102651600</title>\n<polygon fill=\"none\" stroke=\"black\" points=\"767,-82.5 767,-118.5 1071,-118.5 1071,-82.5 767,-82.5\"/>\n<text text-anchor=\"middle\" x=\"813.5\" y=\"-96.8\" font-family=\"Times,serif\" font-size=\"14.00\">x1w1x2w2</text>\n<polyline fill=\"none\" stroke=\"black\" points=\"860,-82.5 860,-118.5 \"/>\n<text text-anchor=\"middle\" x=\"913.5\" y=\"-96.8\" font-family=\"Times,serif\" font-size=\"14.00\">data &#45;6.0000</text>\n<polyline fill=\"none\" stroke=\"black\" points=\"967,-82.5 967,-118.5 \"/>\n<text text-anchor=\"middle\" x=\"1019\" y=\"-96.8\" font-family=\"Times,serif\" font-size=\"14.00\">grad 1.5000</text>\n</g>\n<!-- 139856102651600&#45;&gt;139856102646608+ -->\n<g id=\"edge12\" class=\"edge\">\n<title>139856102651600&#45;&gt;139856102646608+</title>\n<path fill=\"none\" stroke=\"black\" d=\"M1062.07,-118.51C1074.76,-120.12 1086.69,-121.63 1097.01,-122.94\"/>\n<polygon fill=\"black\" stroke=\"black\" points=\"1096.79,-126.44 1107.15,-124.22 1097.67,-119.49 1096.79,-126.44\"/>\n</g>\n<!-- 139856102651600+&#45;&gt;139856102651600 -->\n<g id=\"edge2\" class=\"edge\">\n<title>139856102651600+&#45;&gt;139856102651600</title>\n<path fill=\"none\" stroke=\"black\" d=\"M731.12,-100.5C738.54,-100.5 747.2,-100.5 756.66,-100.5\"/>\n<polygon fill=\"black\" stroke=\"black\" points=\"756.79,-104 766.79,-100.5 756.79,-97 756.79,-104\"/>\n</g>\n<!-- 139856102645456 -->\n<g id=\"node6\" class=\"node\">\n<title>139856102645456</title>\n<polygon fill=\"none\" stroke=\"black\" points=\"2.5,-165.5 2.5,-201.5 246.5,-201.5 246.5,-165.5 2.5,-165.5\"/>\n<text text-anchor=\"middle\" x=\"21.5\" y=\"-179.8\" font-family=\"Times,serif\" font-size=\"14.00\">w2</text>\n<polyline fill=\"none\" stroke=\"black\" points=\"40.5,-165.5 40.5,-201.5 \"/>\n<text text-anchor=\"middle\" x=\"91.5\" y=\"-179.8\" font-family=\"Times,serif\" font-size=\"14.00\">data 1.0000</text>\n<polyline fill=\"none\" stroke=\"black\" points=\"142.5,-165.5 142.5,-201.5 \"/>\n<text text-anchor=\"middle\" x=\"194.5\" y=\"-179.8\" font-family=\"Times,serif\" font-size=\"14.00\">grad 0.0000</text>\n</g>\n<!-- 139856102651360* -->\n<g id=\"node8\" class=\"node\">\n<title>139856102651360*</title>\n<ellipse fill=\"none\" stroke=\"black\" cx=\"312\" cy=\"-128.5\" rx=\"27\" ry=\"18\"/>\n<text text-anchor=\"middle\" x=\"312\" y=\"-124.8\" font-family=\"Times,serif\" font-size=\"14.00\">*</text>\n</g>\n<!-- 139856102645456&#45;&gt;139856102651360* -->\n<g id=\"edge8\" class=\"edge\">\n<title>139856102645456&#45;&gt;139856102651360*</title>\n<path fill=\"none\" stroke=\"black\" d=\"M218.13,-165.46C228.63,-162.77 239.1,-159.78 249,-156.5 259.71,-152.96 271.05,-148.16 281.07,-143.54\"/>\n<polygon fill=\"black\" stroke=\"black\" points=\"282.67,-146.66 290.2,-139.21 279.67,-140.33 282.67,-146.66\"/>\n</g>\n<!-- 139856102651360 -->\n<g id=\"node7\" class=\"node\">\n<title>139856102651360</title>\n<polygon fill=\"none\" stroke=\"black\" points=\"377.5,-110.5 377.5,-146.5 638.5,-146.5 638.5,-110.5 377.5,-110.5\"/>\n<text text-anchor=\"middle\" x=\"405\" y=\"-124.8\" font-family=\"Times,serif\" font-size=\"14.00\">x2w2</text>\n<polyline fill=\"none\" stroke=\"black\" points=\"432.5,-110.5 432.5,-146.5 \"/>\n<text text-anchor=\"middle\" x=\"483.5\" y=\"-124.8\" font-family=\"Times,serif\" font-size=\"14.00\">data 0.0000</text>\n<polyline fill=\"none\" stroke=\"black\" points=\"534.5,-110.5 534.5,-146.5 \"/>\n<text text-anchor=\"middle\" x=\"586.5\" y=\"-124.8\" font-family=\"Times,serif\" font-size=\"14.00\">grad 2.0000</text>\n</g>\n<!-- 139856102651360&#45;&gt;139856102651600+ -->\n<g id=\"edge9\" class=\"edge\">\n<title>139856102651360&#45;&gt;139856102651600+</title>\n<path fill=\"none\" stroke=\"black\" d=\"M633.78,-110.49C645.77,-108.76 657.15,-107.12 667.08,-105.68\"/>\n<polygon fill=\"black\" stroke=\"black\" points=\"667.86,-109.11 677.25,-104.22 666.86,-102.18 667.86,-109.11\"/>\n</g>\n<!-- 139856102651360*&#45;&gt;139856102651360 -->\n<g id=\"edge3\" class=\"edge\">\n<title>139856102651360*&#45;&gt;139856102651360</title>\n<path fill=\"none\" stroke=\"black\" d=\"M339.16,-128.5C347.24,-128.5 356.75,-128.5 367.07,-128.5\"/>\n<polygon fill=\"black\" stroke=\"black\" points=\"367.2,-132 377.2,-128.5 367.2,-125 367.2,-132\"/>\n</g>\n<!-- 139856102645552 -->\n<g id=\"node9\" class=\"node\">\n<title>139856102645552</title>\n<polygon fill=\"none\" stroke=\"black\" points=\"0,-55.5 0,-91.5 249,-91.5 249,-55.5 0,-55.5\"/>\n<text text-anchor=\"middle\" x=\"19\" y=\"-69.8\" font-family=\"Times,serif\" font-size=\"14.00\">w1</text>\n<polyline fill=\"none\" stroke=\"black\" points=\"38,-55.5 38,-91.5 \"/>\n<text text-anchor=\"middle\" x=\"91.5\" y=\"-69.8\" font-family=\"Times,serif\" font-size=\"14.00\">data &#45;3.0000</text>\n<polyline fill=\"none\" stroke=\"black\" points=\"145,-55.5 145,-91.5 \"/>\n<text text-anchor=\"middle\" x=\"197\" y=\"-69.8\" font-family=\"Times,serif\" font-size=\"14.00\">grad 5.0000</text>\n</g>\n<!-- 139856102645552&#45;&gt;139856102643344* -->\n<g id=\"edge13\" class=\"edge\">\n<title>139856102645552&#45;&gt;139856102643344*</title>\n<path fill=\"none\" stroke=\"black\" d=\"M249.23,-73.5C258.37,-73.5 267.05,-73.5 274.87,-73.5\"/>\n<polygon fill=\"black\" stroke=\"black\" points=\"274.95,-77 284.95,-73.5 274.95,-70 274.95,-77\"/>\n</g>\n<!-- 139856102639936 -->\n<g id=\"node10\" class=\"node\">\n<title>139856102639936</title>\n<polygon fill=\"none\" stroke=\"black\" points=\"4.5,-110.5 4.5,-146.5 244.5,-146.5 244.5,-110.5 4.5,-110.5\"/>\n<text text-anchor=\"middle\" x=\"21.5\" y=\"-124.8\" font-family=\"Times,serif\" font-size=\"14.00\">x2</text>\n<polyline fill=\"none\" stroke=\"black\" points=\"38.5,-110.5 38.5,-146.5 \"/>\n<text text-anchor=\"middle\" x=\"89.5\" y=\"-124.8\" font-family=\"Times,serif\" font-size=\"14.00\">data 0.0000</text>\n<polyline fill=\"none\" stroke=\"black\" points=\"140.5,-110.5 140.5,-146.5 \"/>\n<text text-anchor=\"middle\" x=\"192.5\" y=\"-124.8\" font-family=\"Times,serif\" font-size=\"14.00\">grad 2.5000</text>\n</g>\n<!-- 139856102639936&#45;&gt;139856102651360* -->\n<g id=\"edge7\" class=\"edge\">\n<title>139856102639936&#45;&gt;139856102651360*</title>\n<path fill=\"none\" stroke=\"black\" d=\"M244.55,-128.5C255.31,-128.5 265.54,-128.5 274.62,-128.5\"/>\n<polygon fill=\"black\" stroke=\"black\" points=\"274.7,-132 284.7,-128.5 274.7,-125 274.7,-132\"/>\n</g>\n<!-- 139856102646608 -->\n<g id=\"node11\" class=\"node\">\n<title>139856102646608</title>\n<polygon fill=\"none\" stroke=\"black\" points=\"1197,-109.5 1197,-145.5 1429,-145.5 1429,-109.5 1197,-109.5\"/>\n<text text-anchor=\"middle\" x=\"1210\" y=\"-123.8\" font-family=\"Times,serif\" font-size=\"14.00\">n</text>\n<polyline fill=\"none\" stroke=\"black\" points=\"1223,-109.5 1223,-145.5 \"/>\n<text text-anchor=\"middle\" x=\"1274\" y=\"-123.8\" font-family=\"Times,serif\" font-size=\"14.00\">data 0.8814</text>\n<polyline fill=\"none\" stroke=\"black\" points=\"1325,-109.5 1325,-145.5 \"/>\n<text text-anchor=\"middle\" x=\"1377\" y=\"-123.8\" font-family=\"Times,serif\" font-size=\"14.00\">grad 1.0000</text>\n</g>\n<!-- 139856102646752tanh -->\n<g id=\"node14\" class=\"node\">\n<title>139856102646752tanh</title>\n<ellipse fill=\"none\" stroke=\"black\" cx=\"1496.85\" cy=\"-127.5\" rx=\"31.7\" ry=\"18\"/>\n<text text-anchor=\"middle\" x=\"1496.85\" y=\"-123.8\" font-family=\"Times,serif\" font-size=\"14.00\">tanh</text>\n</g>\n<!-- 139856102646608&#45;&gt;139856102646752tanh -->\n<g id=\"edge6\" class=\"edge\">\n<title>139856102646608&#45;&gt;139856102646752tanh</title>\n<path fill=\"none\" stroke=\"black\" d=\"M1429.17,-127.5C1438.08,-127.5 1446.66,-127.5 1454.53,-127.5\"/>\n<polygon fill=\"black\" stroke=\"black\" points=\"1454.78,-131 1464.78,-127.5 1454.78,-124 1454.78,-131\"/>\n</g>\n<!-- 139856102646608+&#45;&gt;139856102646608 -->\n<g id=\"edge4\" class=\"edge\">\n<title>139856102646608+&#45;&gt;139856102646608</title>\n<path fill=\"none\" stroke=\"black\" d=\"M1161.12,-127.5C1168.53,-127.5 1177.14,-127.5 1186.4,-127.5\"/>\n<polygon fill=\"black\" stroke=\"black\" points=\"1186.69,-131 1196.69,-127.5 1186.69,-124 1186.69,-131\"/>\n</g>\n<!-- 139856102646752 -->\n<g id=\"node13\" class=\"node\">\n<title>139856102646752</title>\n<polygon fill=\"none\" stroke=\"black\" points=\"1564.69,-109.5 1564.69,-145.5 1795.69,-145.5 1795.69,-109.5 1564.69,-109.5\"/>\n<text text-anchor=\"middle\" x=\"1577.19\" y=\"-123.8\" font-family=\"Times,serif\" font-size=\"14.00\">o</text>\n<polyline fill=\"none\" stroke=\"black\" points=\"1589.69,-109.5 1589.69,-145.5 \"/>\n<text text-anchor=\"middle\" x=\"1640.69\" y=\"-123.8\" font-family=\"Times,serif\" font-size=\"14.00\">data 0.7071</text>\n<polyline fill=\"none\" stroke=\"black\" points=\"1691.69,-109.5 1691.69,-145.5 \"/>\n<text text-anchor=\"middle\" x=\"1743.69\" y=\"-123.8\" font-family=\"Times,serif\" font-size=\"14.00\">grad 1.0000</text>\n</g>\n<!-- 139856102646752tanh&#45;&gt;139856102646752 -->\n<g id=\"edge5\" class=\"edge\">\n<title>139856102646752tanh&#45;&gt;139856102646752</title>\n<path fill=\"none\" stroke=\"black\" d=\"M1529.02,-127.5C1536.61,-127.5 1545.19,-127.5 1554.31,-127.5\"/>\n<polygon fill=\"black\" stroke=\"black\" points=\"1554.4,-131 1564.4,-127.5 1554.4,-124 1554.4,-131\"/>\n</g>\n<!-- 139856102642672 -->\n<g id=\"node15\" class=\"node\">\n<title>139856102642672</title>\n<polygon fill=\"none\" stroke=\"black\" points=\"2.5,-0.5 2.5,-36.5 246.5,-36.5 246.5,-0.5 2.5,-0.5\"/>\n<text text-anchor=\"middle\" x=\"19.5\" y=\"-14.8\" font-family=\"Times,serif\" font-size=\"14.00\">x1</text>\n<polyline fill=\"none\" stroke=\"black\" points=\"36.5,-0.5 36.5,-36.5 \"/>\n<text text-anchor=\"middle\" x=\"87.5\" y=\"-14.8\" font-family=\"Times,serif\" font-size=\"14.00\">data 2.0000</text>\n<polyline fill=\"none\" stroke=\"black\" points=\"138.5,-0.5 138.5,-36.5 \"/>\n<text text-anchor=\"middle\" x=\"192.5\" y=\"-14.8\" font-family=\"Times,serif\" font-size=\"14.00\">grad &#45;7.5000</text>\n</g>\n<!-- 139856102642672&#45;&gt;139856102643344* -->\n<g id=\"edge14\" class=\"edge\">\n<title>139856102642672&#45;&gt;139856102643344*</title>\n<path fill=\"none\" stroke=\"black\" d=\"M214.42,-36.55C226.15,-39.54 237.93,-42.87 249,-46.5 259.46,-49.93 270.57,-54.47 280.46,-58.84\"/>\n<polygon fill=\"black\" stroke=\"black\" points=\"279.31,-62.17 289.87,-63.12 282.21,-55.79 279.31,-62.17\"/>\n</g>\n</g>\n</svg>\n",
      "text/plain": [
       "<graphviz.graphs.Digraph at 0x7f32c9514280>"
      ]
     },
     "execution_count": 10,
     "metadata": {},
     "output_type": "execute_result"
    }
   ],
   "source": [
    "o.backward()\n",
    "draw_dot(o)"
   ]
  },
  {
   "attachments": {},
   "cell_type": "markdown",
   "metadata": {},
   "source": [
    "#### Automatic test"
   ]
  },
  {
   "cell_type": "code",
   "execution_count": 121,
   "metadata": {},
   "outputs": [],
   "source": [
    "o.grad = 1.0\n",
    "o._backward()\n",
    "n._backward()\n",
    "x1w1x2w2._backward()\n",
    "x1w1._backward()\n",
    "x2w2._backward()"
   ]
  },
  {
   "attachments": {},
   "cell_type": "markdown",
   "metadata": {},
   "source": [
    "#### Manual"
   ]
  },
  {
   "cell_type": "code",
   "execution_count": 91,
   "metadata": {},
   "outputs": [],
   "source": [
    "o.grad = 1.0\n",
    "n.grad = 1 - o.data ** 2\n",
    "b.grad = n.grad\n",
    "x1w1x2w2.grad = n.grad\n",
    "x1w1.grad = x1w1x2w2.grad\n",
    "x2w2.grad = x1w1x2w2.grad\n",
    "x1.grad = x1w1.grad * w1.data\n",
    "x2.grad = x2w2.grad * w2.data\n",
    "w1.grad = x1w1.grad * x1.data\n",
    "w2.grad = x2w2.grad * x2.data"
   ]
  },
  {
   "attachments": {},
   "cell_type": "markdown",
   "metadata": {},
   "source": [
    "## bug when using the same node twice"
   ]
  },
  {
   "cell_type": "code",
   "execution_count": 146,
   "metadata": {},
   "outputs": [
    {
     "data": {
      "image/svg+xml": "<?xml version=\"1.0\" encoding=\"UTF-8\" standalone=\"no\"?>\n<!DOCTYPE svg PUBLIC \"-//W3C//DTD SVG 1.1//EN\"\n \"http://www.w3.org/Graphics/SVG/1.1/DTD/svg11.dtd\">\n<!-- Generated by graphviz version 2.50.0 (0)\n -->\n<!-- Pages: 1 -->\n<svg width=\"581pt\" height=\"46pt\"\n viewBox=\"0.00 0.00 580.70 45.70\" xmlns=\"http://www.w3.org/2000/svg\" xmlns:xlink=\"http://www.w3.org/1999/xlink\">\n<g id=\"graph0\" class=\"graph\" transform=\"scale(1 1) rotate(0) translate(4 41.7)\">\n<polygon fill=\"white\" stroke=\"transparent\" points=\"-4,4 -4,-41.7 576.7,-41.7 576.7,4 -4,4\"/>\n<!-- 140641543290496 -->\n<g id=\"node1\" class=\"node\">\n<title>140641543290496</title>\n<polygon fill=\"none\" stroke=\"black\" points=\"340.7,-0.85 340.7,-36.85 572.7,-36.85 572.7,-0.85 340.7,-0.85\"/>\n<text text-anchor=\"middle\" x=\"353.7\" y=\"-15.15\" font-family=\"Times,serif\" font-size=\"14.00\">b</text>\n<polyline fill=\"none\" stroke=\"black\" points=\"366.7,-0.85 366.7,-36.85 \"/>\n<text text-anchor=\"middle\" x=\"417.7\" y=\"-15.15\" font-family=\"Times,serif\" font-size=\"14.00\">data 4.0000</text>\n<polyline fill=\"none\" stroke=\"black\" points=\"468.7,-0.85 468.7,-36.85 \"/>\n<text text-anchor=\"middle\" x=\"520.7\" y=\"-15.15\" font-family=\"Times,serif\" font-size=\"14.00\">grad 1.0000</text>\n</g>\n<!-- 140641543290496_op -->\n<g id=\"node2\" class=\"node\">\n<title>140641543290496_op</title>\n<ellipse fill=\"none\" stroke=\"black\" cx=\"285.85\" cy=\"-18.85\" rx=\"18.7\" ry=\"18.7\"/>\n<text text-anchor=\"middle\" x=\"285.85\" y=\"-15.15\" font-family=\"Times,serif\" font-size=\"14.00\">+</text>\n</g>\n<!-- 140641543290496_op&#45;&gt;140641543290496 -->\n<g id=\"edge1\" class=\"edge\">\n<title>140641543290496_op&#45;&gt;140641543290496</title>\n<path fill=\"none\" stroke=\"black\" d=\"M304.92,-18.85C312,-18.85 320.77,-18.85 330.48,-18.85\"/>\n<polygon fill=\"black\" stroke=\"black\" points=\"330.48,-22.35 340.48,-18.85 330.48,-15.35 330.48,-22.35\"/>\n</g>\n<!-- 140641543288000 -->\n<g id=\"node3\" class=\"node\">\n<title>140641543288000</title>\n<polygon fill=\"none\" stroke=\"black\" points=\"0,-0.85 0,-36.85 231,-36.85 231,-0.85 0,-0.85\"/>\n<text text-anchor=\"middle\" x=\"12.5\" y=\"-15.15\" font-family=\"Times,serif\" font-size=\"14.00\">a</text>\n<polyline fill=\"none\" stroke=\"black\" points=\"25,-0.85 25,-36.85 \"/>\n<text text-anchor=\"middle\" x=\"76\" y=\"-15.15\" font-family=\"Times,serif\" font-size=\"14.00\">data 2.0000</text>\n<polyline fill=\"none\" stroke=\"black\" points=\"127,-0.85 127,-36.85 \"/>\n<text text-anchor=\"middle\" x=\"179\" y=\"-15.15\" font-family=\"Times,serif\" font-size=\"14.00\">grad 2.0000</text>\n</g>\n<!-- 140641543288000&#45;&gt;140641543290496_op -->\n<g id=\"edge2\" class=\"edge\">\n<title>140641543288000&#45;&gt;140641543290496_op</title>\n<path fill=\"none\" stroke=\"black\" d=\"M231.12,-18.85C240.35,-18.85 249.02,-18.85 256.58,-18.85\"/>\n<polygon fill=\"black\" stroke=\"black\" points=\"256.82,-22.35 266.82,-18.85 256.82,-15.35 256.82,-22.35\"/>\n</g>\n</g>\n</svg>\n",
      "text/plain": [
       "<graphviz.graphs.Digraph at 0x7fe9a94af490>"
      ]
     },
     "execution_count": 146,
     "metadata": {},
     "output_type": "execute_result"
    }
   ],
   "source": [
    "a = Value(2.0, label = \"a\")\n",
    "b = a + a; b.label = \"b\"\n",
    "b.backward()\n",
    "draw_dot(b)\n",
    "\n",
    "# solved by accumulating gradients (+= instead of =)"
   ]
  },
  {
   "attachments": {},
   "cell_type": "markdown",
   "metadata": {},
   "source": [
    "## Breaking up tanh"
   ]
  },
  {
   "cell_type": "code",
   "execution_count": 175,
   "metadata": {},
   "outputs": [
    {
     "name": "stdout",
     "output_type": "stream",
     "text": [
      "None\n"
     ]
    }
   ],
   "source": [
    "print((2 * n).exp())"
   ]
  },
  {
   "cell_type": "code",
   "execution_count": 198,
   "metadata": {},
   "outputs": [
    {
     "data": {
      "image/svg+xml": "<?xml version=\"1.0\" encoding=\"UTF-8\" standalone=\"no\"?>\n<!DOCTYPE svg PUBLIC \"-//W3C//DTD SVG 1.1//EN\"\n \"http://www.w3.org/Graphics/SVG/1.1/DTD/svg11.dtd\">\n<!-- Generated by graphviz version 2.50.0 (0)\n -->\n<!-- Pages: 1 -->\n<svg width=\"3385pt\" height=\"210pt\"\n viewBox=\"0.00 0.00 3384.60 210.00\" xmlns=\"http://www.w3.org/2000/svg\" xmlns:xlink=\"http://www.w3.org/1999/xlink\">\n<g id=\"graph0\" class=\"graph\" transform=\"scale(1 1) rotate(0) translate(4 206)\">\n<polygon fill=\"white\" stroke=\"transparent\" points=\"-4,4 -4,-206 3380.6,-206 3380.6,4 -4,4\"/>\n<!-- 140641541345328 -->\n<g id=\"node1\" class=\"node\">\n<title>140641541345328</title>\n<polygon fill=\"none\" stroke=\"black\" points=\"2796.6,-57.5 2796.6,-93.5 3023.6,-93.5 3023.6,-57.5 2796.6,-57.5\"/>\n<text text-anchor=\"middle\" x=\"2807.1\" y=\"-71.8\" font-family=\"Times,serif\" font-size=\"14.00\"> </text>\n<polyline fill=\"none\" stroke=\"black\" points=\"2817.6,-57.5 2817.6,-93.5 \"/>\n<text text-anchor=\"middle\" x=\"2868.6\" y=\"-71.8\" font-family=\"Times,serif\" font-size=\"14.00\">data 0.1464</text>\n<polyline fill=\"none\" stroke=\"black\" points=\"2919.6,-57.5 2919.6,-93.5 \"/>\n<text text-anchor=\"middle\" x=\"2971.6\" y=\"-71.8\" font-family=\"Times,serif\" font-size=\"14.00\">grad 4.8284</text>\n</g>\n<!-- 140641541345184* -->\n<g id=\"node25\" class=\"node\">\n<title>140641541345184*</title>\n<ellipse fill=\"none\" stroke=\"black\" cx=\"3086.6\" cy=\"-98.5\" rx=\"27\" ry=\"18\"/>\n<text text-anchor=\"middle\" x=\"3086.6\" y=\"-94.8\" font-family=\"Times,serif\" font-size=\"14.00\">*</text>\n</g>\n<!-- 140641541345328&#45;&gt;140641541345184* -->\n<g id=\"edge18\" class=\"edge\">\n<title>140641541345328&#45;&gt;140641541345184*</title>\n<path fill=\"none\" stroke=\"black\" d=\"M3024.07,-90.39C3033.17,-91.59 3041.86,-92.74 3049.69,-93.77\"/>\n<polygon fill=\"black\" stroke=\"black\" points=\"3049.43,-97.26 3059.8,-95.1 3050.34,-90.32 3049.43,-97.26\"/>\n</g>\n<!-- 140641541345328**&#45;1 -->\n<g id=\"node2\" class=\"node\">\n<title>140641541345328**&#45;1</title>\n<ellipse fill=\"none\" stroke=\"black\" cx=\"2647.1\" cy=\"-71.5\" rx=\"28.7\" ry=\"18\"/>\n<text text-anchor=\"middle\" x=\"2647.1\" y=\"-67.8\" font-family=\"Times,serif\" font-size=\"14.00\">**&#45;1</text>\n</g>\n<!-- 140641541345328**&#45;1&#45;&gt;140641541345328 -->\n<g id=\"edge1\" class=\"edge\">\n<title>140641541345328**&#45;1&#45;&gt;140641541345328</title>\n<path fill=\"none\" stroke=\"black\" d=\"M2676.03,-71.93C2702.75,-72.34 2744.99,-72.98 2786.21,-73.62\"/>\n<polygon fill=\"black\" stroke=\"black\" points=\"2786.32,-77.12 2796.37,-73.77 2786.43,-70.12 2786.32,-77.12\"/>\n</g>\n<!-- 140641541350464 -->\n<g id=\"node3\" class=\"node\">\n<title>140641541350464</title>\n<polygon fill=\"none\" stroke=\"black\" points=\"1909.1,-26.5 1909.1,-62.5 2140.1,-62.5 2140.1,-26.5 1909.1,-26.5\"/>\n<text text-anchor=\"middle\" x=\"1919.6\" y=\"-40.8\" font-family=\"Times,serif\" font-size=\"14.00\"> </text>\n<polyline fill=\"none\" stroke=\"black\" points=\"1930.1,-26.5 1930.1,-62.5 \"/>\n<text text-anchor=\"middle\" x=\"1981.1\" y=\"-40.8\" font-family=\"Times,serif\" font-size=\"14.00\">data 1.0000</text>\n<polyline fill=\"none\" stroke=\"black\" points=\"2032.1,-26.5 2032.1,-62.5 \"/>\n<text text-anchor=\"middle\" x=\"2086.1\" y=\"-40.8\" font-family=\"Times,serif\" font-size=\"14.00\">grad &#45;0.1036</text>\n</g>\n<!-- 140641541349696+ -->\n<g id=\"node18\" class=\"node\">\n<title>140641541349696+</title>\n<ellipse fill=\"none\" stroke=\"black\" cx=\"2203.6\" cy=\"-71.5\" rx=\"27\" ry=\"18\"/>\n<text text-anchor=\"middle\" x=\"2203.6\" y=\"-67.8\" font-family=\"Times,serif\" font-size=\"14.00\">+</text>\n</g>\n<!-- 140641541350464&#45;&gt;140641541349696+ -->\n<g id=\"edge28\" class=\"edge\">\n<title>140641541350464&#45;&gt;140641541349696+</title>\n<path fill=\"none\" stroke=\"black\" d=\"M2140.19,-61.98C2149.71,-63.43 2158.79,-64.82 2166.93,-66.06\"/>\n<polygon fill=\"black\" stroke=\"black\" points=\"2166.63,-69.55 2177.04,-67.6 2167.68,-62.63 2166.63,-69.55\"/>\n</g>\n<!-- 140641541346912 -->\n<g id=\"node4\" class=\"node\">\n<title>140641541346912</title>\n<polygon fill=\"none\" stroke=\"black\" points=\"377.5,-110.5 377.5,-146.5 638.5,-146.5 638.5,-110.5 377.5,-110.5\"/>\n<text text-anchor=\"middle\" x=\"405\" y=\"-124.8\" font-family=\"Times,serif\" font-size=\"14.00\">x2w2</text>\n<polyline fill=\"none\" stroke=\"black\" points=\"432.5,-110.5 432.5,-146.5 \"/>\n<text text-anchor=\"middle\" x=\"483.5\" y=\"-124.8\" font-family=\"Times,serif\" font-size=\"14.00\">data 0.0000</text>\n<polyline fill=\"none\" stroke=\"black\" points=\"534.5,-110.5 534.5,-146.5 \"/>\n<text text-anchor=\"middle\" x=\"586.5\" y=\"-124.8\" font-family=\"Times,serif\" font-size=\"14.00\">grad 0.5000</text>\n</g>\n<!-- 140641541347008+ -->\n<g id=\"node10\" class=\"node\">\n<title>140641541347008+</title>\n<ellipse fill=\"none\" stroke=\"black\" cx=\"704\" cy=\"-100.5\" rx=\"27\" ry=\"18\"/>\n<text text-anchor=\"middle\" x=\"704\" y=\"-96.8\" font-family=\"Times,serif\" font-size=\"14.00\">+</text>\n</g>\n<!-- 140641541346912&#45;&gt;140641541347008+ -->\n<g id=\"edge21\" class=\"edge\">\n<title>140641541346912&#45;&gt;140641541347008+</title>\n<path fill=\"none\" stroke=\"black\" d=\"M633.78,-110.49C645.77,-108.76 657.15,-107.12 667.08,-105.68\"/>\n<polygon fill=\"black\" stroke=\"black\" points=\"667.86,-109.11 677.25,-104.22 666.86,-102.18 667.86,-109.11\"/>\n</g>\n<!-- 140641541346912* -->\n<g id=\"node5\" class=\"node\">\n<title>140641541346912*</title>\n<ellipse fill=\"none\" stroke=\"black\" cx=\"312\" cy=\"-128.5\" rx=\"27\" ry=\"18\"/>\n<text text-anchor=\"middle\" x=\"312\" y=\"-124.8\" font-family=\"Times,serif\" font-size=\"14.00\">*</text>\n</g>\n<!-- 140641541346912*&#45;&gt;140641541346912 -->\n<g id=\"edge2\" class=\"edge\">\n<title>140641541346912*&#45;&gt;140641541346912</title>\n<path fill=\"none\" stroke=\"black\" d=\"M339.16,-128.5C347.24,-128.5 356.75,-128.5 367.07,-128.5\"/>\n<polygon fill=\"black\" stroke=\"black\" points=\"367.2,-132 377.2,-128.5 367.2,-125 367.2,-132\"/>\n</g>\n<!-- 140641541350560 -->\n<g id=\"node6\" class=\"node\">\n<title>140641541350560</title>\n<polygon fill=\"none\" stroke=\"black\" points=\"2533.6,-108.5 2533.6,-144.5 2760.6,-144.5 2760.6,-108.5 2533.6,-108.5\"/>\n<text text-anchor=\"middle\" x=\"2544.1\" y=\"-122.8\" font-family=\"Times,serif\" font-size=\"14.00\"> </text>\n<polyline fill=\"none\" stroke=\"black\" points=\"2554.6,-108.5 2554.6,-144.5 \"/>\n<text text-anchor=\"middle\" x=\"2605.6\" y=\"-122.8\" font-family=\"Times,serif\" font-size=\"14.00\">data 4.8284</text>\n<polyline fill=\"none\" stroke=\"black\" points=\"2656.6,-108.5 2656.6,-144.5 \"/>\n<text text-anchor=\"middle\" x=\"2708.6\" y=\"-122.8\" font-family=\"Times,serif\" font-size=\"14.00\">grad 0.1464</text>\n</g>\n<!-- 140641541350560&#45;&gt;140641541345184* -->\n<g id=\"edge26\" class=\"edge\">\n<title>140641541350560&#45;&gt;140641541345184*</title>\n<path fill=\"none\" stroke=\"black\" d=\"M2760.69,-120.17C2835.29,-115.84 2935.32,-109.76 3023.6,-103.5 3032.02,-102.9 3041.08,-102.2 3049.61,-101.52\"/>\n<polygon fill=\"black\" stroke=\"black\" points=\"3049.98,-105 3059.66,-100.7 3049.41,-98.03 3049.98,-105\"/>\n</g>\n<!-- 140641541350560+ -->\n<g id=\"node7\" class=\"node\">\n<title>140641541350560+</title>\n<ellipse fill=\"none\" stroke=\"black\" cx=\"2203.6\" cy=\"-126.5\" rx=\"27\" ry=\"18\"/>\n<text text-anchor=\"middle\" x=\"2203.6\" y=\"-122.8\" font-family=\"Times,serif\" font-size=\"14.00\">+</text>\n</g>\n<!-- 140641541350560+&#45;&gt;140641541350560 -->\n<g id=\"edge3\" class=\"edge\">\n<title>140641541350560+&#45;&gt;140641541350560</title>\n<path fill=\"none\" stroke=\"black\" d=\"M2230.89,-126.5C2287.16,-126.5 2422.31,-126.5 2523.23,-126.5\"/>\n<polygon fill=\"black\" stroke=\"black\" points=\"2523.5,-130 2533.5,-126.5 2523.5,-123 2523.5,-130\"/>\n</g>\n<!-- 140641542227616 -->\n<g id=\"node8\" class=\"node\">\n<title>140641542227616</title>\n<polygon fill=\"none\" stroke=\"black\" points=\"2.5,-55.5 2.5,-91.5 246.5,-91.5 246.5,-55.5 2.5,-55.5\"/>\n<text text-anchor=\"middle\" x=\"19.5\" y=\"-69.8\" font-family=\"Times,serif\" font-size=\"14.00\">x1</text>\n<polyline fill=\"none\" stroke=\"black\" points=\"36.5,-55.5 36.5,-91.5 \"/>\n<text text-anchor=\"middle\" x=\"87.5\" y=\"-69.8\" font-family=\"Times,serif\" font-size=\"14.00\">data 2.0000</text>\n<polyline fill=\"none\" stroke=\"black\" points=\"138.5,-55.5 138.5,-91.5 \"/>\n<text text-anchor=\"middle\" x=\"192.5\" y=\"-69.8\" font-family=\"Times,serif\" font-size=\"14.00\">grad &#45;1.5000</text>\n</g>\n<!-- 140641542240240* -->\n<g id=\"node21\" class=\"node\">\n<title>140641542240240*</title>\n<ellipse fill=\"none\" stroke=\"black\" cx=\"312\" cy=\"-73.5\" rx=\"27\" ry=\"18\"/>\n<text text-anchor=\"middle\" x=\"312\" y=\"-69.8\" font-family=\"Times,serif\" font-size=\"14.00\">*</text>\n</g>\n<!-- 140641542227616&#45;&gt;140641542240240* -->\n<g id=\"edge16\" class=\"edge\">\n<title>140641542227616&#45;&gt;140641542240240*</title>\n<path fill=\"none\" stroke=\"black\" d=\"M246.64,-73.5C256.7,-73.5 266.26,-73.5 274.79,-73.5\"/>\n<polygon fill=\"black\" stroke=\"black\" points=\"275,-77 285,-73.5 275,-70 275,-77\"/>\n</g>\n<!-- 140641541347008 -->\n<g id=\"node9\" class=\"node\">\n<title>140641541347008</title>\n<polygon fill=\"none\" stroke=\"black\" points=\"767,-82.5 767,-118.5 1071,-118.5 1071,-82.5 767,-82.5\"/>\n<text text-anchor=\"middle\" x=\"813.5\" y=\"-96.8\" font-family=\"Times,serif\" font-size=\"14.00\">x1w1x2w2</text>\n<polyline fill=\"none\" stroke=\"black\" points=\"860,-82.5 860,-118.5 \"/>\n<text text-anchor=\"middle\" x=\"913.5\" y=\"-96.8\" font-family=\"Times,serif\" font-size=\"14.00\">data &#45;6.0000</text>\n<polyline fill=\"none\" stroke=\"black\" points=\"967,-82.5 967,-118.5 \"/>\n<text text-anchor=\"middle\" x=\"1019\" y=\"-96.8\" font-family=\"Times,serif\" font-size=\"14.00\">grad 0.5000</text>\n</g>\n<!-- 140641541347200+ -->\n<g id=\"node23\" class=\"node\">\n<title>140641541347200+</title>\n<ellipse fill=\"none\" stroke=\"black\" cx=\"1134\" cy=\"-72.5\" rx=\"27\" ry=\"18\"/>\n<text text-anchor=\"middle\" x=\"1134\" y=\"-68.8\" font-family=\"Times,serif\" font-size=\"14.00\">+</text>\n</g>\n<!-- 140641541347008&#45;&gt;140641541347200+ -->\n<g id=\"edge27\" class=\"edge\">\n<title>140641541347008&#45;&gt;140641541347200+</title>\n<path fill=\"none\" stroke=\"black\" d=\"M1057,-82.49C1071.6,-80.57 1085.35,-78.76 1097.05,-77.23\"/>\n<polygon fill=\"black\" stroke=\"black\" points=\"1097.71,-80.67 1107.17,-75.9 1096.8,-73.73 1097.71,-80.67\"/>\n</g>\n<!-- 140641541347008+&#45;&gt;140641541347008 -->\n<g id=\"edge4\" class=\"edge\">\n<title>140641541347008+&#45;&gt;140641541347008</title>\n<path fill=\"none\" stroke=\"black\" d=\"M731.12,-100.5C738.54,-100.5 747.2,-100.5 756.66,-100.5\"/>\n<polygon fill=\"black\" stroke=\"black\" points=\"756.79,-104 766.79,-100.5 756.79,-97 756.79,-104\"/>\n</g>\n<!-- 140641542240960 -->\n<g id=\"node11\" class=\"node\">\n<title>140641542240960</title>\n<polygon fill=\"none\" stroke=\"black\" points=\"2.5,-165.5 2.5,-201.5 246.5,-201.5 246.5,-165.5 2.5,-165.5\"/>\n<text text-anchor=\"middle\" x=\"21.5\" y=\"-179.8\" font-family=\"Times,serif\" font-size=\"14.00\">w2</text>\n<polyline fill=\"none\" stroke=\"black\" points=\"40.5,-165.5 40.5,-201.5 \"/>\n<text text-anchor=\"middle\" x=\"91.5\" y=\"-179.8\" font-family=\"Times,serif\" font-size=\"14.00\">data 1.0000</text>\n<polyline fill=\"none\" stroke=\"black\" points=\"142.5,-165.5 142.5,-201.5 \"/>\n<text text-anchor=\"middle\" x=\"194.5\" y=\"-179.8\" font-family=\"Times,serif\" font-size=\"14.00\">grad 0.0000</text>\n</g>\n<!-- 140641542240960&#45;&gt;140641541346912* -->\n<g id=\"edge13\" class=\"edge\">\n<title>140641542240960&#45;&gt;140641541346912*</title>\n<path fill=\"none\" stroke=\"black\" d=\"M218.13,-165.46C228.63,-162.77 239.1,-159.78 249,-156.5 259.71,-152.96 271.05,-148.16 281.07,-143.54\"/>\n<polygon fill=\"black\" stroke=\"black\" points=\"282.67,-146.66 290.2,-139.21 279.67,-140.33 282.67,-146.66\"/>\n</g>\n<!-- 140641541346720 -->\n<g id=\"node12\" class=\"node\">\n<title>140641541346720</title>\n<polygon fill=\"none\" stroke=\"black\" points=\"1199.5,-109.5 1199.5,-145.5 1426.5,-145.5 1426.5,-109.5 1199.5,-109.5\"/>\n<text text-anchor=\"middle\" x=\"1210\" y=\"-123.8\" font-family=\"Times,serif\" font-size=\"14.00\"> </text>\n<polyline fill=\"none\" stroke=\"black\" points=\"1220.5,-109.5 1220.5,-145.5 \"/>\n<text text-anchor=\"middle\" x=\"1271.5\" y=\"-123.8\" font-family=\"Times,serif\" font-size=\"14.00\">data 2.0000</text>\n<polyline fill=\"none\" stroke=\"black\" points=\"1322.5,-109.5 1322.5,-145.5 \"/>\n<text text-anchor=\"middle\" x=\"1374.5\" y=\"-123.8\" font-family=\"Times,serif\" font-size=\"14.00\">grad 0.2203</text>\n</g>\n<!-- 140641541351184* -->\n<g id=\"node15\" class=\"node\">\n<title>140641541351184*</title>\n<ellipse fill=\"none\" stroke=\"black\" cx=\"1492\" cy=\"-99.5\" rx=\"27\" ry=\"18\"/>\n<text text-anchor=\"middle\" x=\"1492\" y=\"-95.8\" font-family=\"Times,serif\" font-size=\"14.00\">*</text>\n</g>\n<!-- 140641541346720&#45;&gt;140641541351184* -->\n<g id=\"edge14\" class=\"edge\">\n<title>140641541346720&#45;&gt;140641541351184*</title>\n<path fill=\"none\" stroke=\"black\" d=\"M1426.6,-109.69C1436.87,-108.06 1446.68,-106.51 1455.4,-105.13\"/>\n<polygon fill=\"black\" stroke=\"black\" points=\"1456.14,-108.56 1465.47,-103.54 1455.04,-101.64 1456.14,-108.56\"/>\n</g>\n<!-- 140641542226176 -->\n<g id=\"node13\" class=\"node\">\n<title>140641542226176</title>\n<polygon fill=\"none\" stroke=\"black\" points=\"803,-27.5 803,-63.5 1035,-63.5 1035,-27.5 803,-27.5\"/>\n<text text-anchor=\"middle\" x=\"816\" y=\"-41.8\" font-family=\"Times,serif\" font-size=\"14.00\">b</text>\n<polyline fill=\"none\" stroke=\"black\" points=\"829,-27.5 829,-63.5 \"/>\n<text text-anchor=\"middle\" x=\"880\" y=\"-41.8\" font-family=\"Times,serif\" font-size=\"14.00\">data 6.8814</text>\n<polyline fill=\"none\" stroke=\"black\" points=\"931,-27.5 931,-63.5 \"/>\n<text text-anchor=\"middle\" x=\"983\" y=\"-41.8\" font-family=\"Times,serif\" font-size=\"14.00\">grad 0.5000</text>\n</g>\n<!-- 140641542226176&#45;&gt;140641541347200+ -->\n<g id=\"edge24\" class=\"edge\">\n<title>140641542226176&#45;&gt;140641541347200+</title>\n<path fill=\"none\" stroke=\"black\" d=\"M1035.23,-60.11C1057.63,-62.95 1079.52,-65.72 1096.88,-67.92\"/>\n<polygon fill=\"black\" stroke=\"black\" points=\"1096.71,-71.43 1107.08,-69.21 1097.59,-64.48 1096.71,-71.43\"/>\n</g>\n<!-- 140641541351184 -->\n<g id=\"node14\" class=\"node\">\n<title>140641541351184</title>\n<polygon fill=\"none\" stroke=\"black\" points=\"1555,-81.5 1555,-117.5 1782,-117.5 1782,-81.5 1555,-81.5\"/>\n<text text-anchor=\"middle\" x=\"1565.5\" y=\"-95.8\" font-family=\"Times,serif\" font-size=\"14.00\"> </text>\n<polyline fill=\"none\" stroke=\"black\" points=\"1576,-81.5 1576,-117.5 \"/>\n<text text-anchor=\"middle\" x=\"1627\" y=\"-95.8\" font-family=\"Times,serif\" font-size=\"14.00\">data 1.7627</text>\n<polyline fill=\"none\" stroke=\"black\" points=\"1678,-81.5 1678,-117.5 \"/>\n<text text-anchor=\"middle\" x=\"1730\" y=\"-95.8\" font-family=\"Times,serif\" font-size=\"14.00\">grad 0.2500</text>\n</g>\n<!-- 140641541350896exp -->\n<g id=\"node28\" class=\"node\">\n<title>140641541350896exp</title>\n<ellipse fill=\"none\" stroke=\"black\" cx=\"1845.3\" cy=\"-99.5\" rx=\"27.1\" ry=\"18\"/>\n<text text-anchor=\"middle\" x=\"1845.3\" y=\"-95.8\" font-family=\"Times,serif\" font-size=\"14.00\">exp</text>\n</g>\n<!-- 140641541351184&#45;&gt;140641541350896exp -->\n<g id=\"edge25\" class=\"edge\">\n<title>140641541351184&#45;&gt;140641541350896exp</title>\n<path fill=\"none\" stroke=\"black\" d=\"M1782.18,-99.5C1791.26,-99.5 1799.95,-99.5 1807.79,-99.5\"/>\n<polygon fill=\"black\" stroke=\"black\" points=\"1807.93,-103 1817.93,-99.5 1807.93,-96 1807.93,-103\"/>\n</g>\n<!-- 140641541351184*&#45;&gt;140641541351184 -->\n<g id=\"edge5\" class=\"edge\">\n<title>140641541351184*&#45;&gt;140641541351184</title>\n<path fill=\"none\" stroke=\"black\" d=\"M1519.12,-99.5C1526.67,-99.5 1535.45,-99.5 1544.9,-99.5\"/>\n<polygon fill=\"black\" stroke=\"black\" points=\"1544.95,-103 1554.95,-99.5 1544.95,-96 1544.95,-103\"/>\n</g>\n<!-- 140641541350704 -->\n<g id=\"node16\" class=\"node\">\n<title>140641541350704</title>\n<polygon fill=\"none\" stroke=\"black\" points=\"1908.6,-136.5 1908.6,-172.5 2140.6,-172.5 2140.6,-136.5 1908.6,-136.5\"/>\n<text text-anchor=\"middle\" x=\"1919.1\" y=\"-150.8\" font-family=\"Times,serif\" font-size=\"14.00\"> </text>\n<polyline fill=\"none\" stroke=\"black\" points=\"1929.6,-136.5 1929.6,-172.5 \"/>\n<text text-anchor=\"middle\" x=\"1983.1\" y=\"-150.8\" font-family=\"Times,serif\" font-size=\"14.00\">data &#45;1.0000</text>\n<polyline fill=\"none\" stroke=\"black\" points=\"2036.6,-136.5 2036.6,-172.5 \"/>\n<text text-anchor=\"middle\" x=\"2088.6\" y=\"-150.8\" font-family=\"Times,serif\" font-size=\"14.00\">grad 0.1464</text>\n</g>\n<!-- 140641541350704&#45;&gt;140641541350560+ -->\n<g id=\"edge19\" class=\"edge\">\n<title>140641541350704&#45;&gt;140641541350560+</title>\n<path fill=\"none\" stroke=\"black\" d=\"M2139.69,-136.45C2149.48,-134.9 2158.8,-133.43 2167.14,-132.11\"/>\n<polygon fill=\"black\" stroke=\"black\" points=\"2167.79,-135.55 2177.12,-130.53 2166.69,-128.64 2167.79,-135.55\"/>\n</g>\n<!-- 140641541349696 -->\n<g id=\"node17\" class=\"node\">\n<title>140641541349696</title>\n<polygon fill=\"none\" stroke=\"black\" points=\"2266.6,-53.5 2266.6,-89.5 2497.6,-89.5 2497.6,-53.5 2266.6,-53.5\"/>\n<text text-anchor=\"middle\" x=\"2277.1\" y=\"-67.8\" font-family=\"Times,serif\" font-size=\"14.00\"> </text>\n<polyline fill=\"none\" stroke=\"black\" points=\"2287.6,-53.5 2287.6,-89.5 \"/>\n<text text-anchor=\"middle\" x=\"2338.6\" y=\"-67.8\" font-family=\"Times,serif\" font-size=\"14.00\">data 6.8284</text>\n<polyline fill=\"none\" stroke=\"black\" points=\"2389.6,-53.5 2389.6,-89.5 \"/>\n<text text-anchor=\"middle\" x=\"2443.6\" y=\"-67.8\" font-family=\"Times,serif\" font-size=\"14.00\">grad &#45;0.1036</text>\n</g>\n<!-- 140641541349696&#45;&gt;140641541345328**&#45;1 -->\n<g id=\"edge17\" class=\"edge\">\n<title>140641541349696&#45;&gt;140641541345328**&#45;1</title>\n<path fill=\"none\" stroke=\"black\" d=\"M2497.69,-71.5C2537.38,-71.5 2579.17,-71.5 2608.25,-71.5\"/>\n<polygon fill=\"black\" stroke=\"black\" points=\"2608.37,-75 2618.37,-71.5 2608.37,-68 2608.37,-75\"/>\n</g>\n<!-- 140641541349696+&#45;&gt;140641541349696 -->\n<g id=\"edge6\" class=\"edge\">\n<title>140641541349696+&#45;&gt;140641541349696</title>\n<path fill=\"none\" stroke=\"black\" d=\"M2230.64,-71.5C2238.18,-71.5 2246.96,-71.5 2256.41,-71.5\"/>\n<polygon fill=\"black\" stroke=\"black\" points=\"2256.49,-75 2266.49,-71.5 2256.49,-68 2256.49,-75\"/>\n</g>\n<!-- 140641542233424 -->\n<g id=\"node19\" class=\"node\">\n<title>140641542233424</title>\n<polygon fill=\"none\" stroke=\"black\" points=\"4.5,-110.5 4.5,-146.5 244.5,-146.5 244.5,-110.5 4.5,-110.5\"/>\n<text text-anchor=\"middle\" x=\"21.5\" y=\"-124.8\" font-family=\"Times,serif\" font-size=\"14.00\">x2</text>\n<polyline fill=\"none\" stroke=\"black\" points=\"38.5,-110.5 38.5,-146.5 \"/>\n<text text-anchor=\"middle\" x=\"89.5\" y=\"-124.8\" font-family=\"Times,serif\" font-size=\"14.00\">data 0.0000</text>\n<polyline fill=\"none\" stroke=\"black\" points=\"140.5,-110.5 140.5,-146.5 \"/>\n<text text-anchor=\"middle\" x=\"192.5\" y=\"-124.8\" font-family=\"Times,serif\" font-size=\"14.00\">grad 0.5000</text>\n</g>\n<!-- 140641542233424&#45;&gt;140641541346912* -->\n<g id=\"edge22\" class=\"edge\">\n<title>140641542233424&#45;&gt;140641541346912*</title>\n<path fill=\"none\" stroke=\"black\" d=\"M244.55,-128.5C255.31,-128.5 265.54,-128.5 274.62,-128.5\"/>\n<polygon fill=\"black\" stroke=\"black\" points=\"274.7,-132 284.7,-128.5 274.7,-125 274.7,-132\"/>\n</g>\n<!-- 140641542240240 -->\n<g id=\"node20\" class=\"node\">\n<title>140641542240240</title>\n<polygon fill=\"none\" stroke=\"black\" points=\"375,-55.5 375,-91.5 641,-91.5 641,-55.5 375,-55.5\"/>\n<text text-anchor=\"middle\" x=\"402.5\" y=\"-69.8\" font-family=\"Times,serif\" font-size=\"14.00\">x1w1</text>\n<polyline fill=\"none\" stroke=\"black\" points=\"430,-55.5 430,-91.5 \"/>\n<text text-anchor=\"middle\" x=\"483.5\" y=\"-69.8\" font-family=\"Times,serif\" font-size=\"14.00\">data &#45;6.0000</text>\n<polyline fill=\"none\" stroke=\"black\" points=\"537,-55.5 537,-91.5 \"/>\n<text text-anchor=\"middle\" x=\"589\" y=\"-69.8\" font-family=\"Times,serif\" font-size=\"14.00\">grad 0.5000</text>\n</g>\n<!-- 140641542240240&#45;&gt;140641541347008+ -->\n<g id=\"edge23\" class=\"edge\">\n<title>140641542240240&#45;&gt;140641541347008+</title>\n<path fill=\"none\" stroke=\"black\" d=\"M638.4,-91.51C648.78,-92.95 658.6,-94.32 667.3,-95.53\"/>\n<polygon fill=\"black\" stroke=\"black\" points=\"666.94,-99.01 677.32,-96.93 667.9,-92.08 666.94,-99.01\"/>\n</g>\n<!-- 140641542240240*&#45;&gt;140641542240240 -->\n<g id=\"edge7\" class=\"edge\">\n<title>140641542240240*&#45;&gt;140641542240240</title>\n<path fill=\"none\" stroke=\"black\" d=\"M339.16,-73.5C346.61,-73.5 355.28,-73.5 364.68,-73.5\"/>\n<polygon fill=\"black\" stroke=\"black\" points=\"364.73,-77 374.73,-73.5 364.73,-70 364.73,-77\"/>\n</g>\n<!-- 140641541347200 -->\n<g id=\"node22\" class=\"node\">\n<title>140641541347200</title>\n<polygon fill=\"none\" stroke=\"black\" points=\"1197,-54.5 1197,-90.5 1429,-90.5 1429,-54.5 1197,-54.5\"/>\n<text text-anchor=\"middle\" x=\"1210\" y=\"-68.8\" font-family=\"Times,serif\" font-size=\"14.00\">n</text>\n<polyline fill=\"none\" stroke=\"black\" points=\"1223,-54.5 1223,-90.5 \"/>\n<text text-anchor=\"middle\" x=\"1274\" y=\"-68.8\" font-family=\"Times,serif\" font-size=\"14.00\">data 0.8814</text>\n<polyline fill=\"none\" stroke=\"black\" points=\"1325,-54.5 1325,-90.5 \"/>\n<text text-anchor=\"middle\" x=\"1377\" y=\"-68.8\" font-family=\"Times,serif\" font-size=\"14.00\">grad 0.5000</text>\n</g>\n<!-- 140641541347200&#45;&gt;140641541351184* -->\n<g id=\"edge15\" class=\"edge\">\n<title>140641541347200&#45;&gt;140641541351184*</title>\n<path fill=\"none\" stroke=\"black\" d=\"M1429.09,-90.06C1438.46,-91.49 1447.39,-92.85 1455.4,-94.07\"/>\n<polygon fill=\"black\" stroke=\"black\" points=\"1454.96,-97.54 1465.37,-95.59 1456.01,-90.62 1454.96,-97.54\"/>\n</g>\n<!-- 140641541347200+&#45;&gt;140641541347200 -->\n<g id=\"edge8\" class=\"edge\">\n<title>140641541347200+&#45;&gt;140641541347200</title>\n<path fill=\"none\" stroke=\"black\" d=\"M1161.12,-72.5C1168.53,-72.5 1177.14,-72.5 1186.4,-72.5\"/>\n<polygon fill=\"black\" stroke=\"black\" points=\"1186.69,-76 1196.69,-72.5 1186.69,-69 1186.69,-76\"/>\n</g>\n<!-- 140641541345184 -->\n<g id=\"node24\" class=\"node\">\n<title>140641541345184</title>\n<polygon fill=\"none\" stroke=\"black\" points=\"3149.6,-80.5 3149.6,-116.5 3376.6,-116.5 3376.6,-80.5 3149.6,-80.5\"/>\n<text text-anchor=\"middle\" x=\"3160.1\" y=\"-94.8\" font-family=\"Times,serif\" font-size=\"14.00\"> </text>\n<polyline fill=\"none\" stroke=\"black\" points=\"3170.6,-80.5 3170.6,-116.5 \"/>\n<text text-anchor=\"middle\" x=\"3221.6\" y=\"-94.8\" font-family=\"Times,serif\" font-size=\"14.00\">data 0.7071</text>\n<polyline fill=\"none\" stroke=\"black\" points=\"3272.6,-80.5 3272.6,-116.5 \"/>\n<text text-anchor=\"middle\" x=\"3324.6\" y=\"-94.8\" font-family=\"Times,serif\" font-size=\"14.00\">grad 1.0000</text>\n</g>\n<!-- 140641541345184*&#45;&gt;140641541345184 -->\n<g id=\"edge9\" class=\"edge\">\n<title>140641541345184*&#45;&gt;140641541345184</title>\n<path fill=\"none\" stroke=\"black\" d=\"M3113.72,-98.5C3121.27,-98.5 3130.05,-98.5 3139.49,-98.5\"/>\n<polygon fill=\"black\" stroke=\"black\" points=\"3139.55,-102 3149.55,-98.5 3139.55,-95 3139.55,-102\"/>\n</g>\n<!-- 140641542240720 -->\n<g id=\"node26\" class=\"node\">\n<title>140641542240720</title>\n<polygon fill=\"none\" stroke=\"black\" points=\"0,-0.5 0,-36.5 249,-36.5 249,-0.5 0,-0.5\"/>\n<text text-anchor=\"middle\" x=\"19\" y=\"-14.8\" font-family=\"Times,serif\" font-size=\"14.00\">w1</text>\n<polyline fill=\"none\" stroke=\"black\" points=\"38,-0.5 38,-36.5 \"/>\n<text text-anchor=\"middle\" x=\"91.5\" y=\"-14.8\" font-family=\"Times,serif\" font-size=\"14.00\">data &#45;3.0000</text>\n<polyline fill=\"none\" stroke=\"black\" points=\"145,-0.5 145,-36.5 \"/>\n<text text-anchor=\"middle\" x=\"197\" y=\"-14.8\" font-family=\"Times,serif\" font-size=\"14.00\">grad 1.0000</text>\n</g>\n<!-- 140641542240720&#45;&gt;140641542240240* -->\n<g id=\"edge20\" class=\"edge\">\n<title>140641542240720&#45;&gt;140641542240240*</title>\n<path fill=\"none\" stroke=\"black\" d=\"M218.13,-36.54C228.63,-39.23 239.1,-42.22 249,-45.5 259.71,-49.04 271.05,-53.84 281.07,-58.46\"/>\n<polygon fill=\"black\" stroke=\"black\" points=\"279.67,-61.67 290.2,-62.79 282.67,-55.34 279.67,-61.67\"/>\n</g>\n<!-- 140641541350896 -->\n<g id=\"node27\" class=\"node\">\n<title>140641541350896</title>\n<polygon fill=\"none\" stroke=\"black\" points=\"1911.1,-81.5 1911.1,-117.5 2138.1,-117.5 2138.1,-81.5 1911.1,-81.5\"/>\n<text text-anchor=\"middle\" x=\"1921.6\" y=\"-95.8\" font-family=\"Times,serif\" font-size=\"14.00\"> </text>\n<polyline fill=\"none\" stroke=\"black\" points=\"1932.1,-81.5 1932.1,-117.5 \"/>\n<text text-anchor=\"middle\" x=\"1983.1\" y=\"-95.8\" font-family=\"Times,serif\" font-size=\"14.00\">data 5.8284</text>\n<polyline fill=\"none\" stroke=\"black\" points=\"2034.1,-81.5 2034.1,-117.5 \"/>\n<text text-anchor=\"middle\" x=\"2086.1\" y=\"-95.8\" font-family=\"Times,serif\" font-size=\"14.00\">grad 0.0429</text>\n</g>\n<!-- 140641541350896&#45;&gt;140641541350560+ -->\n<g id=\"edge12\" class=\"edge\">\n<title>140641541350896&#45;&gt;140641541350560+</title>\n<path fill=\"none\" stroke=\"black\" d=\"M2138.19,-116.68C2148.47,-118.24 2158.28,-119.74 2167,-121.07\"/>\n<polygon fill=\"black\" stroke=\"black\" points=\"2166.65,-124.56 2177.06,-122.61 2167.7,-117.64 2166.65,-124.56\"/>\n</g>\n<!-- 140641541350896&#45;&gt;140641541349696+ -->\n<g id=\"edge11\" class=\"edge\">\n<title>140641541350896&#45;&gt;140641541349696+</title>\n<path fill=\"none\" stroke=\"black\" d=\"M2138.19,-81.69C2148.47,-80.06 2158.28,-78.51 2167,-77.13\"/>\n<polygon fill=\"black\" stroke=\"black\" points=\"2167.73,-80.56 2177.06,-75.54 2166.64,-73.64 2167.73,-80.56\"/>\n</g>\n<!-- 140641541350896exp&#45;&gt;140641541350896 -->\n<g id=\"edge10\" class=\"edge\">\n<title>140641541350896exp&#45;&gt;140641541350896</title>\n<path fill=\"none\" stroke=\"black\" d=\"M1872.84,-99.5C1880.97,-99.5 1890.49,-99.5 1900.74,-99.5\"/>\n<polygon fill=\"black\" stroke=\"black\" points=\"1900.76,-103 1910.76,-99.5 1900.76,-96 1900.76,-103\"/>\n</g>\n</g>\n</svg>\n",
      "text/plain": [
       "<graphviz.graphs.Digraph at 0x7fe9a91cd060>"
      ]
     },
     "execution_count": 198,
     "metadata": {},
     "output_type": "execute_result"
    }
   ],
   "source": [
    "x1 = Value(2.0, label = \"x1\")\n",
    "x2 = Value(0.0, label = \"x2\")\n",
    "\n",
    "w1 = Value(-3.0, label = \"w1\")\n",
    "w2 = Value(1.0, label = \"w2\")\n",
    "\n",
    "b = Value(6.881373, label = \"b\")\n",
    "\n",
    "x1w1 = x1 * w1; x1w1.label = \"x1w1\"\n",
    "x2w2 = x2 * w2; x2w2.label = \"x2w2\"\n",
    "\n",
    "x1w1x2w2 = x1w1 + x2w2; x1w1x2w2.label = \"x1w1x2w2\"\n",
    "n = x1w1x2w2 + b; n.label = \"n\"\n",
    "e = (2 * n).exp()\n",
    "o = (e - 1) / (e + 1)\n",
    "o.backward()\n",
    "draw_dot(o)"
   ]
  },
  {
   "attachments": {},
   "cell_type": "markdown",
   "metadata": {},
   "source": [
    "# Part 2: MLP"
   ]
  },
  {
   "cell_type": "code",
   "execution_count": 24,
   "metadata": {},
   "outputs": [
    {
     "data": {
      "text/plain": [
       "Value(data = -0.9987870379430743)"
      ]
     },
     "execution_count": 24,
     "metadata": {},
     "output_type": "execute_result"
    }
   ],
   "source": [
    "x = [2.0, 3.0]\n",
    "n = Neuron(2)\n",
    "n(x)"
   ]
  },
  {
   "cell_type": "code",
   "execution_count": 11,
   "metadata": {},
   "outputs": [],
   "source": [
    "class Neuron:\n",
    "    def __init__(self, nin, Nnumber, LNumber):\n",
    "        self.w = [Value(random.uniform(-1,1), label = f\"w{i + 1}{Nnumber}({LNumber})\") for i in range(nin)]\n",
    "        self.b = Value(random.uniform(-1,1), label = f\"b{Nnumber}\")\n",
    "\n",
    "    def __call__(self, x):\n",
    "        # w * x + b\n",
    "        act = sum(wi*xi for wi, xi in zip(self.w, x)) + self.b\n",
    "        out = act.tanh()\n",
    "        return out\n",
    "    \n",
    "    def parameters(self):\n",
    "        return self.w + [self.b]\n",
    "    \n",
    "class Layer:\n",
    "    def __init__(self, nin, nout, LNumber):\n",
    "        self.neurons = [Neuron(nin, i + 1, LNumber) for i in range(nout)]\n",
    "\n",
    "    def __call__(self, x):\n",
    "        outs = [n(x) for n in self.neurons]\n",
    "        if len(outs) == 1:\n",
    "            return outs[0] \n",
    "        return outs\n",
    "    \n",
    "    def parameters(self):\n",
    "        return [p for neuron in self.neurons for p in neuron.parameters()]\n",
    "\n",
    "class MLP:\n",
    "    def __init__(self, nins, nouts):\n",
    "        sz = [nins] + nouts\n",
    "        self.layers = [Layer(sz[i], sz[i + 1], i + 1) for i in range(len(nouts))]\n",
    "    \n",
    "    def __call__(self, x):\n",
    "        for layer in self.layers:\n",
    "            x = layer(x)\n",
    "        return x\n",
    "    \n",
    "    def parameters(self):\n",
    "        return[p for layer in self.layers for p in layer.parameters()]\n"
   ]
  },
  {
   "cell_type": "markdown",
   "metadata": {},
   "source": [
    "## Test 1 [3,2,1]"
   ]
  },
  {
   "cell_type": "code",
   "execution_count": 550,
   "metadata": {},
   "outputs": [
    {
     "name": "stdout",
     "output_type": "stream",
     "text": [
      "20\n"
     ]
    },
    {
     "data": {
      "text/plain": [
       "[Value(label: w11(1) | data = -0.27782873019875054),\n",
       " Value(label: w21(1) | data = -0.051553657681197684),\n",
       " Value(label: b1 | data = 0.007119931468770435),\n",
       " Value(label: w12(1) | data = 0.42867853116776344),\n",
       " Value(label: w22(1) | data = -0.0860251898836617),\n",
       " Value(label: b2 | data = -0.6386342344033256),\n",
       " Value(label: w13(1) | data = -0.7084331555262151),\n",
       " Value(label: w23(1) | data = 0.0052875812913955045),\n",
       " Value(label: b3 | data = -0.44339582970562663),\n",
       " Value(label: w11(2) | data = 0.023060611945085352),\n",
       " Value(label: w21(2) | data = 0.9657794865218119),\n",
       " Value(label: w31(2) | data = 0.23511849502606386),\n",
       " Value(label: b1 | data = 0.11803528362023985),\n",
       " Value(label: w12(2) | data = 0.48721968662566817),\n",
       " Value(label: w22(2) | data = 0.8323946004188272),\n",
       " Value(label: w32(2) | data = 0.5544797826350849),\n",
       " Value(label: b2 | data = -0.28502108038696483),\n",
       " Value(label: w11(3) | data = 0.6333402747288717),\n",
       " Value(label: w21(3) | data = 0.19913418914150482),\n",
       " Value(label: b1 | data = 0.3087543533491719)]"
      ]
     },
     "execution_count": 550,
     "metadata": {},
     "output_type": "execute_result"
    }
   ],
   "source": [
    "x = [Value(2.0, label = \"x1\"), Value(3.0, label = \"x2\"),Value(4, label = \"x3\")]\n",
    "n = MLP(2, [3,2,1])\n",
    "n(x)\n",
    "print(len(n.parameters()))\n",
    "n.parameters()"
   ]
  },
  {
   "cell_type": "code",
   "execution_count": 551,
   "metadata": {},
   "outputs": [],
   "source": [
    "# draw_dot(n(x))"
   ]
  },
  {
   "attachments": {},
   "cell_type": "markdown",
   "metadata": {},
   "source": [
    "## Example: backpropagation"
   ]
  },
  {
   "cell_type": "code",
   "execution_count": 12,
   "metadata": {},
   "outputs": [
    {
     "data": {
      "text/plain": [
       "[Value(data = 0.49352678108923903),\n",
       " Value(data = -0.039984760383932665),\n",
       " Value(data = 0.6875964846073802),\n",
       " Value(data = 0.4420811080949803)]"
      ]
     },
     "execution_count": 12,
     "metadata": {},
     "output_type": "execute_result"
    }
   ],
   "source": [
    "n = MLP(3, [4, 4, 1])\n",
    "xs = [\n",
    "    [2.0, 3.0, -1.0],\n",
    "    [3.0, -1.0, 0.5],\n",
    "    [0.5, 1.0, 1.0],\n",
    "    [1.0, 1.0, -1.0],\n",
    "]\n",
    "ys = [1.0, -1.0, -1.0, 1.0]\n",
    "y_pred = [n(x) for x in xs]\n",
    "y_pred\n"
   ]
  },
  {
   "cell_type": "code",
   "execution_count": 13,
   "metadata": {},
   "outputs": [
    {
     "data": {
      "text/plain": [
       "Value(data = 4.337399766572635)"
      ]
     },
     "execution_count": 13,
     "metadata": {},
     "output_type": "execute_result"
    }
   ],
   "source": [
    "# loss function\n",
    "def loss_fn(y_pred, y, errors = False):\n",
    "    errors = [(yout - ygt)**2 for ygt, yout in zip(y, y_pred)]\n",
    "    loss = sum(errors)\n",
    "    return loss if errors else (loss, errors)\n",
    "\n",
    "loss = loss_fn(y_pred, ys)\n",
    "loss"
   ]
  },
  {
   "cell_type": "code",
   "execution_count": 15,
   "metadata": {},
   "outputs": [
    {
     "data": {
      "text/plain": [
       "-41.9841464965461"
      ]
     },
     "execution_count": 15,
     "metadata": {},
     "output_type": "execute_result"
    }
   ],
   "source": [
    "loss.backward()\n",
    "# draw_dot(loss) ➡️ even the inputs (x) and the GT (ys) have gradients, they're not useful\n",
    "\n",
    "# grad of w1 in n1 in l1\n",
    "n.layers[0].neurons[0].w[0].grad\n",
    "# negative ➡️ increasing this weight makes the loss decrease\n",
    "\n",
    "# # Try it\n",
    "# draw_dot(loss)"
   ]
  },
  {
   "cell_type": "markdown",
   "metadata": {},
   "source": [
    "## Gradient Descent"
   ]
  },
  {
   "cell_type": "markdown",
   "metadata": {},
   "source": [
    "### Example"
   ]
  },
  {
   "cell_type": "code",
   "execution_count": 534,
   "metadata": {},
   "outputs": [
    {
     "name": "stdout",
     "output_type": "stream",
     "text": [
      "Value(data = 7.631430916137512)\n",
      "w11(1) data: 0.2329996938203469 grad: 0.0\n",
      "w11(1) data: 0.2329996938203469 grad: 0.0\n",
      "Value(data = 7.631430916137512)\n"
     ]
    }
   ],
   "source": [
    "# for single weight (single iteration)\n",
    "print(loss)\n",
    "n.parameters()[0].print_full()\n",
    "n.parameters()[0].data -= 0.1 * n.parameters()[0].grad\n",
    "n.parameters()[0].print_full()\n",
    "loss = find_loss(xs, ys, n)\n",
    "print(loss)"
   ]
  },
  {
   "cell_type": "markdown",
   "metadata": {},
   "source": [
    "## Full Gradient Descent"
   ]
  },
  {
   "cell_type": "code",
   "execution_count": 657,
   "metadata": {},
   "outputs": [
    {
     "name": "stdout",
     "output_type": "stream",
     "text": [
      "0 Value(data = 3.776499340009755)\n",
      "1 Value(data = 1.9877094357139293)\n",
      "2 Value(data = 1.8161264689009218)\n",
      "3 Value(data = 0.006029700286006413)\n",
      "4 Value(data = 0.004313036925707062)\n",
      "5 Value(data = 0.7759591758943363)\n",
      "6 Value(data = 0.04046193665750399)\n",
      "7 Value(data = 0.009786522421589179)\n",
      "8 Value(data = 0.006771024798761141)\n",
      "9 Value(data = 0.007510048110394793)\n",
      "Value(data = 0.007510048110394793)\n"
     ]
    },
    {
     "data": {
      "text/plain": [
       "[Value(data = 0.9737612960551549),\n",
       " Value(data = -0.9290750665330263),\n",
       " Value(data = -0.9321620085676704),\n",
       " Value(data = 0.9871856667196615)]"
      ]
     },
     "execution_count": 657,
     "metadata": {},
     "output_type": "execute_result"
    }
   ],
   "source": [
    "lr = 0.05\n",
    "num_epochs = 10\n",
    "losses = []\n",
    "\n",
    "for epoch in range(num_epochs):\n",
    "    # zero grad (since they sum up +=)\n",
    "    for p in n.parameters():\n",
    "        p.grard = 0.0\n",
    "\n",
    "    # forward passp\n",
    "    y_pred = [n(x) for x in xs]\n",
    "\n",
    "    # loss\n",
    "    loss = loss_fn(y_pred, ys)\n",
    "    losses.append(loss.data)\n",
    "\n",
    "    # backward pass\n",
    "    loss.backward()\n",
    "\n",
    "    # update parameters (Optimizer.Step)\n",
    "    for p in n.parameters():\n",
    "        p.data -= lr * p.grad\n",
    "    \n",
    "    print(epoch, loss)\n",
    "    \n",
    "\n",
    "print(loss)\n",
    "y_pred = [n(x) for x in xs]\n",
    "y_pred\n",
    "\n"
   ]
  },
  {
   "cell_type": "code",
   "execution_count": 660,
   "metadata": {},
   "outputs": [
    {
     "data": {
      "image/png": "[encoded data removed]",
      "text/plain": [
       "<Figure size 640x480 with 1 Axes>"
      ]
     },
     "metadata": {},
     "output_type": "display_data"
    }
   ],
   "source": [
    "plt.plot(losses)\n",
    "plt.grid()"
   ]
  }
 ],
 "metadata": {
  "kernelspec": {
   "display_name": "pytor",
   "language": "python",
   "name": "python3"
  },
  "language_info": {
   "codemirror_mode": {
    "name": "ipython",
    "version": 3
   },
   "file_extension": ".py",
   "mimetype": "text/x-python",
   "name": "python",
   "nbconvert_exporter": "python",
   "pygments_lexer": "ipython3",
   "version": "3.10.9"
  },
  "orig_nbformat": 4
 },
 "nbformat": 4,
 "nbformat_minor": 2
}
