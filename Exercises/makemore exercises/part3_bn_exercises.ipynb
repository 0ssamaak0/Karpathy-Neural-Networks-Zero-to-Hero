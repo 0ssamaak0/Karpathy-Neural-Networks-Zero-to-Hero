{
 "cells": [
  {
   "cell_type": "code",
   "execution_count": 1,
   "metadata": {},
   "outputs": [],
   "source": [
    "import torch\n",
    "import torch.nn.functional as F\n",
    "import matplotlib.pyplot as plt\n",
    "import math"
   ]
  },
  {
   "cell_type": "code",
   "execution_count": 2,
   "metadata": {},
   "outputs": [
    {
     "name": "stdout",
     "output_type": "stream",
     "text": [
      "['emma', 'olivia', 'ava', 'isabella', 'sophia', 'charlotte', 'mia', 'amelia']\n",
      "32033\n"
     ]
    }
   ],
   "source": [
    "words = open(\"../../makemore/names.txt\", \"r\").read().splitlines()\n",
    "print(words[:8])\n",
    "print(len(words))"
   ]
  },
  {
   "cell_type": "code",
   "execution_count": 3,
   "metadata": {},
   "outputs": [
    {
     "name": "stdout",
     "output_type": "stream",
     "text": [
      "{1: 'a', 2: 'b', 3: 'c', 4: 'd', 5: 'e', 6: 'f', 7: 'g', 8: 'h', 9: 'i', 10: 'j', 11: 'k', 12: 'l', 13: 'm', 14: 'n', 15: 'o', 16: 'p', 17: 'q', 18: 'r', 19: 's', 20: 't', 21: 'u', 22: 'v', 23: 'w', 24: 'x', 25: 'y', 26: 'z', 0: '.'}\n",
      "27\n"
     ]
    }
   ],
   "source": [
    "chars = sorted(list(set(\"\".join(words))))\n",
    "stoi = {s: i + 1 for i, s in enumerate(chars)}\n",
    "stoi[\".\"] = 0\n",
    "itos = {i: s for s, i in stoi.items()}\n",
    "vocab_size = len(stoi)\n",
    "\n",
    "print(itos)\n",
    "print(vocab_size)"
   ]
  },
  {
   "cell_type": "code",
   "execution_count": 4,
   "metadata": {},
   "outputs": [
    {
     "name": "stdout",
     "output_type": "stream",
     "text": [
      "torch.Size([182625, 3]) torch.Size([182625])\n",
      "torch.Size([22655, 3]) torch.Size([22655])\n",
      "torch.Size([22866, 3]) torch.Size([22866])\n"
     ]
    }
   ],
   "source": [
    "block_size = 3\n",
    "def build_dataset(words):  \n",
    "\n",
    "  X, Y = [], []\n",
    "  \n",
    "  for w in words:\n",
    "\n",
    "    context = [0] * block_size\n",
    "    for ch in w + '.':\n",
    "\n",
    "      ix = stoi[ch]\n",
    "\n",
    "      X.append(context)\n",
    "      Y.append(ix)\n",
    "\n",
    "      context = context[1:] + [ix]\n",
    "\n",
    "  X = torch.tensor(X)\n",
    "  Y = torch.tensor(Y)\n",
    "  print(X.shape, Y.shape)\n",
    "  return X, Y\n",
    "\n",
    "import random\n",
    "random.seed(42)\n",
    "random.shuffle(words)\n",
    "n1 = int(0.8*len(words))\n",
    "n2 = int(0.9*len(words))\n",
    "\n",
    "Xtr, Ytr = build_dataset(words[:n1])\n",
    "Xdev, Ydev = build_dataset(words[n1:n2])\n",
    "Xte, Yte = build_dataset(words[n2:])"
   ]
  },
  {
   "attachments": {},
   "cell_type": "markdown",
   "metadata": {},
   "source": [
    "# E01: Zero Initialization\n",
    "What will happen?\n",
    "1) the network trains just fine\n",
    "2) the network doesn't train at all, but actually it is \n",
    "3) the network trains but only partially, and achieves a pretty bad final performance. \n",
    "\n",
    "Inspect the gradients and activations to figure out what is happening and why the network is only partially training, and what part is being trained exactly."
   ]
  },
  {
   "cell_type": "code",
   "execution_count": 5,
   "metadata": {},
   "outputs": [],
   "source": [
    "gain = 0.2\n",
    "last_layer_confidence = 0.1\n",
    "\n",
    "using_batch_norm = False\n",
    "div_by_fan_in = False"
   ]
  },
  {
   "cell_type": "code",
   "execution_count": 6,
   "metadata": {},
   "outputs": [
    {
     "ename": "NameError",
     "evalue": "name 'n_embd' is not defined",
     "output_type": "error",
     "traceback": [
      "\u001b[0;31m---------------------------------------------------------------------------\u001b[0m",
      "\u001b[0;31mNameError\u001b[0m                                 Traceback (most recent call last)",
      "Cell \u001b[0;32mIn[6], line 69\u001b[0m\n\u001b[1;32m     66\u001b[0m n_hidden \u001b[39m=\u001b[39m \u001b[39m100\u001b[39m\n\u001b[1;32m     67\u001b[0m g \u001b[39m=\u001b[39m torch\u001b[39m.\u001b[39mGenerator()\u001b[39m.\u001b[39mmanual_seed(\u001b[39m2147483647\u001b[39m)\n\u001b[0;32m---> 69\u001b[0m C \u001b[39m=\u001b[39m torch\u001b[39m.\u001b[39mzeros((vocab_size, n_embd))\n\u001b[1;32m     71\u001b[0m \u001b[39mif\u001b[39;00m \u001b[39mnot\u001b[39;00m using_batch_norm:\n\u001b[1;32m     72\u001b[0m     layers \u001b[39m=\u001b[39m [\n\u001b[1;32m     73\u001b[0m         Linear(n_embd \u001b[39m*\u001b[39m block_size, n_hidden), Tanh(),\n\u001b[1;32m     74\u001b[0m         Linear(         n_hidden, n_hidden), Tanh(),\n\u001b[0;32m   (...)\u001b[0m\n\u001b[1;32m     78\u001b[0m         Linear(         n_hidden, vocab_size)\n\u001b[1;32m     79\u001b[0m     ]\n",
      "\u001b[0;31mNameError\u001b[0m: name 'n_embd' is not defined"
     ]
    }
   ],
   "source": [
    "class Linear:\n",
    "    def __init__(self, fan_in, fan_out, bias = True):\n",
    "        self.weight = torch.zeros((fan_in, fan_out))\n",
    "        if div_by_fan_in:\n",
    "            self.weight /= fan_in ** 0.5\n",
    "        self.bias = torch.zeros((fan_out)) if bias else None\n",
    "\n",
    "    def __call__(self, x):\n",
    "        self.out = x @ self.weight\n",
    "        if self.bias is not None:\n",
    "            self.out += self.bias\n",
    "        return self.out\n",
    "\n",
    "    def parameters(self):\n",
    "        return [self.weight] + ([] if self.bias is None else [self.bias])\n",
    "\n",
    "\n",
    "class BatchNorm1d:\n",
    "    def __init__(self, dim, eps=1e-5, momentum = 0.1):\n",
    "        self.eps = eps\n",
    "        self.momentum = momentum\n",
    "        self.training = True\n",
    "\n",
    "        # parameters (trained with backprop)\n",
    "        self.gamma = torch.ones(dim)\n",
    "        self.beta = torch.zeros(dim)\n",
    "\n",
    "        # buffers (trained while running `momentum update`)\n",
    "        self.running_mean = torch.zeros(dim)\n",
    "        self.running_var = torch.ones(dim)\n",
    "\n",
    "    def __call__(self, x):\n",
    "        if self.training:\n",
    "            # batch mean\n",
    "            xmean = x.mean(0, keepdim= True)\n",
    "            # batch variance\n",
    "            xvar = x.var(0, keepdim= True)\n",
    "        else:\n",
    "            xmean = self.running_mean\n",
    "            xvar = self.running_var\n",
    "        \n",
    "        xhat = (x - xmean) / torch.sqrt(xvar + self.eps)\n",
    "        self.out = self.gamma * xhat + self.beta\n",
    "\n",
    "        # update the buffers in training\n",
    "        if self.training:\n",
    "            with torch.no_grad():\n",
    "                self.running_mean = (1 - self.momentum) * self.running_mean + self.momentum * xmean\n",
    "                self.running_var = (1 - self.momentum) * self.running_var + self.momentum * xvar\n",
    "        \n",
    "        return self.out\n",
    "    \n",
    "    def parameters(self):\n",
    "        return [self.gamma, self.beta]\n",
    "    \n",
    "\n",
    "class Tanh:\n",
    "    def __call__(self, x):\n",
    "        self.out = torch.tanh(x)\n",
    "        return self.out\n",
    "\n",
    "    def parameters(self):\n",
    "        return []\n",
    "\n",
    "n_embd = 10\n",
    "n_hidden = 100\n",
    "g = torch.Generator().manual_seed(2147483647)\n",
    "\n",
    "C = torch.zeros((vocab_size, n_embd))\n",
    "\n",
    "if not using_batch_norm:\n",
    "    layers = [\n",
    "        Linear(n_embd * block_size, n_hidden), Tanh(),\n",
    "        Linear(         n_hidden, n_hidden), Tanh(),\n",
    "        Linear(         n_hidden, n_hidden), Tanh(),\n",
    "        Linear(         n_hidden, n_hidden), Tanh(),\n",
    "        Linear(         n_hidden, n_hidden), Tanh(),\n",
    "        Linear(         n_hidden, vocab_size)\n",
    "    ]\n",
    "if using_batch_norm:\n",
    "    layers = [\n",
    "    Linear(n_embd * block_size, n_hidden, bias = False), BatchNorm1d(n_hidden) ,Tanh(),\n",
    "    Linear(         n_hidden, n_hidden, bias = False), BatchNorm1d(n_hidden) ,Tanh(),\n",
    "    Linear(         n_hidden, n_hidden, bias = False), BatchNorm1d(n_hidden) ,Tanh(),\n",
    "    Linear(         n_hidden, n_hidden, bias = False), BatchNorm1d(n_hidden) ,Tanh(),\n",
    "    Linear(         n_hidden, n_hidden, bias = False), BatchNorm1d(n_hidden) ,Tanh(),\n",
    "    Linear(         n_hidden, vocab_size, bias = False), BatchNorm1d(vocab_size) # you can add it here too\n",
    "    ]\n",
    "\n",
    "\n",
    "\n",
    "with torch.no_grad():\n",
    "    # last layer: make less confident\n",
    "    if not using_batch_norm:\n",
    "        layers[-1].weight *= last_layer_confidence\n",
    "    if using_batch_norm:\n",
    "        layers[-1].gamma *= last_layer_confidence\n",
    "    \n",
    "    # other layers: apply gain\n",
    "    for layer in layers[:-1]:\n",
    "        if isinstance(layer, Linear):\n",
    "            # change this gain (default 5/3)\n",
    "            layer.weight *= gain\n",
    "\n",
    "parameters = [C] + [p for layer in layers for p in layer.parameters()]\n",
    "print(sum(p.nelement() for p in parameters))\n",
    "\n",
    "for p in parameters:\n",
    "    p.requires_grad = True"
   ]
  },
  {
   "cell_type": "code",
   "execution_count": null,
   "metadata": {},
   "outputs": [
    {
     "name": "stdout",
     "output_type": "stream",
     "text": [
      "step 0 loss 3.295837163925171\n",
      "step 10000 loss 2.695582389831543\n",
      "step 20000 loss 2.497403860092163\n",
      "step 30000 loss 2.887847900390625\n",
      "step 40000 loss 3.026440143585205\n",
      "step 50000 loss 2.5869102478027344\n",
      "step 60000 loss 2.85266375541687\n",
      "step 70000 loss 2.759803056716919\n",
      "step 80000 loss 2.946882963180542\n",
      "step 90000 loss 2.623911142349243\n",
      "step 100000 loss 2.7684364318847656\n"
     ]
    }
   ],
   "source": [
    "# same optimization as last time\n",
    "max_steps = 200000\n",
    "batch_size = 32\n",
    "lossi = []\n",
    "update_to_data_ratio = []\n",
    "\n",
    "for i in range(max_steps):\n",
    "    ix = torch.randint(0, Xtr.shape[0], (batch_size,), generator=g)\n",
    "    Xb, Yb = Xtr[ix], Ytr[ix]\n",
    "\n",
    "    # forward pass\n",
    "    emb = C[Xb] # embed characters into vector space\n",
    "    x = emb.view((emb.shape[0], -1)) # flatten\n",
    "    for layer in layers:\n",
    "        x = layer(x)\n",
    "    # compute loss\n",
    "    loss = F.cross_entropy(x, Yb)\n",
    "\n",
    "    # backward pass\n",
    "    for layer in layers:\n",
    "        layer.out.retain_grad()\n",
    "    for p in parameters:\n",
    "        p.grad = None\n",
    "    loss.backward()\n",
    "\n",
    "    # update\n",
    "    lr = 0.1 if i < 10000 else 0.01\n",
    "    for p in parameters:\n",
    "        p.data -= lr * p.grad\n",
    "    \n",
    "    # track stats\n",
    "    if i % 10000 == 0:\n",
    "        print(f\"step {i} loss {loss.item()}\")\n",
    "\n",
    "\n",
    "    lossi.append(loss.item())\n",
    "\n",
    "    # update to data ratio: How great is the update compared to the data itself?\n",
    "    with torch.no_grad():\n",
    "        update_to_data_ratio.append([(lr * p.grad.std() / p.data.std()).log10().item() for p in parameters if p.grad is not None])\n"
   ]
  },
  {
   "cell_type": "markdown",
   "metadata": {},
   "source": [
    "## weights Exploration"
   ]
  },
  {
   "cell_type": "markdown",
   "metadata": {},
   "source": [
    "## Visualizations"
   ]
  },
  {
   "cell_type": "code",
   "execution_count": 110,
   "metadata": {},
   "outputs": [
    {
     "name": "stdout",
     "output_type": "stream",
     "text": [
      "layer 1 mean 0.00 std 0.00 saturated 0.00%\n",
      "layer 3 mean 0.00 std 0.00 saturated 0.00%\n",
      "layer 5 mean 0.00 std 0.00 saturated 0.00%\n",
      "layer 7 mean 0.00 std 0.00 saturated 0.00%\n",
      "layer 9 mean 0.00 std 0.00 saturated 0.00%\n"
     ]
    },
    {
     "data": {
      "image/png": "[encoded data removed]",
      "text/plain": [
       "<Figure size 2000x400 with 1 Axes>"
      ]
     },
     "metadata": {},
     "output_type": "display_data"
    }
   ],
   "source": [
    "plt.figure(figsize=(20, 4))\n",
    "legends = []\n",
    "for i, layer in enumerate(layers[:-1]):\n",
    "    if isinstance(layer, Tanh):\n",
    "        t = layer.out\n",
    "        print(f\"layer {i} mean {t.mean().item():.2f} std {t.std().item():.2f} saturated {((t.abs() > 0.97).float().mean().item()) * 100:.2f}%\")\n",
    "\n",
    "        hy, hx = torch.histogram(t, density=True)\n",
    "        plt.plot(hx[:-1].detach(), hy.detach())\n",
    "\n",
    "        legends.append(f\"layer {i} ({layer.__class__.__name__})\")\n",
    "\n",
    "plt.legend(legends)\n",
    "plt.title(\"activation distribution\")\n",
    "plt.show()"
   ]
  },
  {
   "cell_type": "code",
   "execution_count": 143,
   "metadata": {},
   "outputs": [
    {
     "name": "stdout",
     "output_type": "stream",
     "text": [
      "weight shape (27, 10) | mean 0.00000 | std 0.00000 | grad:data ratio nan\n",
      "weight shape (30, 100) | mean 0.00000 | std 0.00000 | grad:data ratio nan\n",
      "weight shape (100, 100) | mean 0.00000 | std 0.00000 | grad:data ratio nan\n",
      "weight shape (100, 100) | mean 0.00000 | std 0.00000 | grad:data ratio nan\n",
      "weight shape (100, 100) | mean 0.00000 | std 0.00000 | grad:data ratio nan\n",
      "weight shape (100, 100) | mean 0.00000 | std 0.00000 | grad:data ratio nan\n",
      "weight shape (100, 27) | mean 0.00000 | std 0.00000 | grad:data ratio nan\n",
      "last layer weight shape (27,) | mean 0.00000 | std 0.02692 | grad:data ratio 2.27e-02\n"
     ]
    },
    {
     "data": {
      "text/plain": [
       "Text(0.5, 1.0, 'Weights Gradient distribution')"
      ]
     },
     "execution_count": 143,
     "metadata": {},
     "output_type": "execute_result"
    },
    {
     "data": {
      "image/png": "[encoded data removed]",
      "text/plain": [
       "<Figure size 2000x400 with 1 Axes>"
      ]
     },
     "metadata": {},
     "output_type": "display_data"
    }
   ],
   "source": [
    "plt.figure(figsize=(20, 4))\n",
    "legends = []\n",
    "\n",
    "for i,p in enumerate(parameters):\n",
    "    t = p.grad\n",
    "\n",
    "    # neglect bias and batch norm parameters (weights only)\n",
    "    if p.ndim == 2:\n",
    "        print(f\"weight shape {tuple(p.shape)} | mean {t.mean().item():.5f} | std {t.std().item():.5f} | grad:data ratio {t.std() / p.std():.2e}\")\n",
    "        hy, hx = torch.histogram(t, density=True)\n",
    "        plt.plot(hx[:-1].detach(), hy.detach())\n",
    "\n",
    "        legends.append(f\"weight {i} ({p.shape})\")\n",
    "    if i == len(parameters) - 1:\n",
    "        print(f\"last layer weight shape {tuple(p.shape)} | mean {t.mean().item():.5f} | std {t.std().item():.5f} | grad:data ratio {t.std() / p.std():.2e}\")\n",
    "        hy, hx = torch.histogram(t, density=True)\n",
    "        plt.plot(hx[:-1].detach(), hy.detach())\n",
    "\n",
    "        legends.append(f\"last layer: weight {i} ({p.shape})\")\n",
    "    \n",
    "\n",
    "plt.legend(legends)\n",
    "plt.title(\"Weights Gradient distribution\")"
   ]
  },
  {
   "attachments": {},
   "cell_type": "markdown",
   "metadata": {},
   "source": [
    "Comment: The last layer's biases has learned, but the weights are still zero.\n",
    "\n",
    "however, all other layers have zero weights and biases."
   ]
  },
  {
   "attachments": {},
   "cell_type": "markdown",
   "metadata": {},
   "source": [
    "# E02: Folding Batchnorm Parameters to Linear Layer\n",
    "- Set up and train a small 3-layer MLP with batchnorms, then \"fold\" the batchnorm gamma/beta into the preceeding Linear layer's W,b\n",
    "by creating a new W2, b2 and erasing the batch norm. \n",
    "- Verify that this gives the same forward pass during inference. i.e. we see that the batchnorm is there just for stabilizing the training, and can be thrown out after training is done! pretty cool."
   ]
  },
  {
   "attachments": {},
   "cell_type": "markdown",
   "metadata": {},
   "source": [
    "## Explaination (From Bing Chat with modifcations)\n",
    "BatchNorm is a technique that normalizes the input of each layer to make the training process faster and more stable.\n",
    "It consists of two steps:\n",
    "\n",
    "    1- normalizing the batch by subtracting its mean and dividing it by its standard deviation.\n",
    "    2- scaling and shifting it by two learnable parameters called gamma and beta.\n",
    "\n",
    "However, at inference time, BatchNorm is **not necessary** and can be removed to speed up the network.\n",
    "\n",
    "One way to remove BatchNorm is to fold it into the preceding linear layer, which is also a `linear transformation`.\n",
    "\n",
    "This means that we can combine the `weights` and `biases` of the **linear** **layer** with the `gamma` and `beta` of the **BatchNorm layer** to get a new linear layer that has the same output as the original one.\n",
    "\n",
    "This can be done by rearranging the terms of the linear transformation as follows:\n",
    "\n",
    "$$\n",
    "y = \\text{Linear}(x) = Wx + b\n",
    "$$\n",
    "\n",
    "$$\n",
    "z = \\text{BatchNorm}(y) = \\gamma \\frac{y - \\mu}{\\sigma} + \\beta\n",
    "$$\n",
    "\n",
    "$$\n",
    "z = \\text{BatchNorm}(\\text{Linear}(x)) = \\gamma \\frac{Wx + b - \\mu}{\\sigma} + \\beta\n",
    "$$\n",
    "\n",
    "$$\n",
    "z = (\\frac{\\gamma}{\\sigma})Wx + (\\frac{\\gamma}{\\sigma})(b - \\mu) + \\beta\n",
    "$$\n",
    "\n",
    "$$\n",
    "z = W_2 x + b_2\n",
    "$$\n",
    "\n",
    "where $$W_2 = (\\frac{\\gamma}{\\sigma})W$$ and $$b_2 = (\\frac{\\gamma}{\\sigma})(b - \\mu) + \\beta$$\n"
   ]
  },
  {
   "cell_type": "markdown",
   "metadata": {},
   "source": [
    "## Init The Model"
   ]
  },
  {
   "cell_type": "code",
   "execution_count": 101,
   "metadata": {},
   "outputs": [],
   "source": [
    "# visualization parameters (play with these)\n",
    "gain = 3/5\n",
    "last_layer_confidence = 0.1\n",
    "\n",
    "using_batch_norm = True\n",
    "div_by_fan_in = True"
   ]
  },
  {
   "cell_type": "code",
   "execution_count": 102,
   "metadata": {},
   "outputs": [
    {
     "name": "stdout",
     "output_type": "stream",
     "text": [
      "16651\n"
     ]
    }
   ],
   "source": [
    "class Linear:\n",
    "    def __init__(self, fan_in, fan_out, bias = True):\n",
    "        self.weight = torch.randn((fan_in, fan_out), generator = g)\n",
    "        if div_by_fan_in:\n",
    "            self.weight /= fan_in ** 0.5\n",
    "        self.bias = torch.zeros((fan_out)) if bias else None\n",
    "\n",
    "    def __call__(self, x):\n",
    "        self.out = x @ self.weight\n",
    "        if self.bias is not None:\n",
    "            self.out += self.bias\n",
    "        return self.out\n",
    "\n",
    "    def parameters(self):\n",
    "        return [self.weight] + ([] if self.bias is None else [self.bias])\n",
    "\n",
    "\n",
    "class BatchNorm1d:\n",
    "    def __init__(self, dim, eps=1e-5, momentum = 0.1):\n",
    "        self.eps = eps\n",
    "        self.momentum = momentum\n",
    "        self.training = True\n",
    "\n",
    "        # parameters (trained with backprop)\n",
    "        self.gamma = torch.ones(dim)\n",
    "        self.beta = torch.zeros(dim)\n",
    "\n",
    "        # buffers (trained while running `momentum update`)\n",
    "        self.running_mean = torch.zeros(dim)\n",
    "        self.running_var = torch.ones(dim)\n",
    "\n",
    "    def __call__(self, x):\n",
    "        if self.training:\n",
    "            # batch mean\n",
    "            xmean = x.mean(0, keepdim= True)\n",
    "            # batch variance\n",
    "            xvar = x.var(0, keepdim= True)\n",
    "        else:\n",
    "            xmean = self.running_mean\n",
    "            xvar = self.running_var\n",
    "        \n",
    "        xhat = (x - xmean) / torch.sqrt(xvar + self.eps)\n",
    "        self.out = self.gamma * xhat + self.beta\n",
    "\n",
    "        # update the buffers in training\n",
    "        if self.training:\n",
    "            with torch.no_grad():\n",
    "                self.running_mean = (1 - self.momentum) * self.running_mean + self.momentum * xmean\n",
    "                self.running_var = (1 - self.momentum) * self.running_var + self.momentum * xvar\n",
    "        \n",
    "        return self.out\n",
    "    \n",
    "    def parameters(self):\n",
    "        return [self.gamma, self.beta]\n",
    "    \n",
    "\n",
    "class Tanh:\n",
    "    def __call__(self, x):\n",
    "        self.out = torch.tanh(x)\n",
    "        return self.out\n",
    "\n",
    "    def parameters(self):\n",
    "        return []\n",
    "\n",
    "n_embd = 10\n",
    "n_hidden = 100\n",
    "g = torch.Generator().manual_seed(2147483647)\n",
    "\n",
    "C = torch.randn((vocab_size, n_embd),       generator = g)\n",
    "\n",
    "if not using_batch_norm:\n",
    "    layers = [\n",
    "        Linear(n_embd * block_size, n_hidden), Tanh(),\n",
    "        Linear(         n_hidden, n_hidden), Tanh(),\n",
    "        Linear(         n_hidden, n_hidden), Tanh(),\n",
    "        Linear(         n_hidden, n_hidden), Tanh(),\n",
    "        Linear(         n_hidden, n_hidden), Tanh(),\n",
    "        Linear(         n_hidden, vocab_size)\n",
    "    ]\n",
    "if using_batch_norm:\n",
    "    layers = [\n",
    "    Linear(n_embd * block_size, n_hidden, bias = True), BatchNorm1d(n_hidden) ,Tanh(),\n",
    "    Linear(         n_hidden, n_hidden, bias = True), BatchNorm1d(n_hidden) ,Tanh(),\n",
    "    Linear(         n_hidden, vocab_size, bias = True), BatchNorm1d(vocab_size) # you can add it here too\n",
    "    ]\n",
    "\n",
    "with torch.no_grad():\n",
    "    # last layer: make less confident\n",
    "    if not using_batch_norm:\n",
    "        layers[-1].weight *= last_layer_confidence\n",
    "    if using_batch_norm:\n",
    "        layers[-1].gamma *= last_layer_confidence\n",
    "    \n",
    "    # other layers: apply gain\n",
    "    for layer in layers[:-1]:\n",
    "        if isinstance(layer, Linear):\n",
    "            # change this gain (default 5/3)\n",
    "            layer.weight *= gain\n",
    "\n",
    "parameters = [C] + [p for layer in layers for p in layer.parameters()]\n",
    "print(sum(p.nelement() for p in parameters))\n",
    "\n",
    "for p in parameters:\n",
    "    p.requires_grad = True"
   ]
  },
  {
   "cell_type": "markdown",
   "metadata": {},
   "source": [
    "## Training"
   ]
  },
  {
   "cell_type": "code",
   "execution_count": 103,
   "metadata": {},
   "outputs": [
    {
     "name": "stdout",
     "output_type": "stream",
     "text": [
      "step 0 loss 3.3137688636779785\n",
      "step 10000 loss 2.7345333099365234\n"
     ]
    }
   ],
   "source": [
    "# same optimization as last time\n",
    "# set it training mode\n",
    "max_steps = 200000\n",
    "batch_size = 32\n",
    "lossi = []\n",
    "update_to_data_ratio = []\n",
    "\n",
    "for i in range(max_steps):\n",
    "    ix = torch.randint(0, Xtr.shape[0], (batch_size,), generator=g)\n",
    "    Xb, Yb = Xtr[ix], Ytr[ix]\n",
    "\n",
    "    # forward pass\n",
    "    emb = C[Xb] # embed characters into vector space\n",
    "    x = emb.view((emb.shape[0], -1)) # flatten\n",
    "    for layer in layers:\n",
    "        x = layer(x)\n",
    "    # compute loss\n",
    "    loss = F.cross_entropy(x, Yb)\n",
    "\n",
    "    # backward pass\n",
    "    for layer in layers:\n",
    "        layer.out.retain_grad()\n",
    "    for p in parameters:\n",
    "        p.grad = None\n",
    "    loss.backward()\n",
    "\n",
    "    # update\n",
    "    lr = 0.1 if i < 10000 else 0.01\n",
    "    for p in parameters:\n",
    "        p.data -= lr * p.grad\n",
    "    \n",
    "    # track stats\n",
    "    if i % 10000 == 0:\n",
    "        print(f\"step {i} loss {loss.item()}\")\n",
    "    \n",
    "    if i == 10000:\n",
    "        break\n",
    "\n",
    "    lossi.append(loss.item())\n",
    "\n",
    "    # update to data ratio: How great is the update compared to the data itself?\n",
    "    with torch.no_grad():\n",
    "        update_to_data_ratio.append([(lr * p.grad.std() / p.data.std()).log10().item() for p in parameters if p.grad is not None])"
   ]
  },
  {
   "attachments": {},
   "cell_type": "markdown",
   "metadata": {},
   "source": [
    "## Testing (With BatchNorm):"
   ]
  },
  {
   "cell_type": "code",
   "execution_count": 195,
   "metadata": {},
   "outputs": [
    {
     "name": "stdout",
     "output_type": "stream",
     "text": [
      "test loss 2.233304262161255\n"
     ]
    }
   ],
   "source": [
    "# forward pass\n",
    "emb = C[Xte] # embed characters into vector space\n",
    "x = emb.view((emb.shape[0], -1)) # flatten\n",
    "for layer in layers:\n",
    "    layer.training = False\n",
    "    x = layer(x)\n",
    "\n",
    "# compute loss\n",
    "loss = F.cross_entropy(x, Yte)\n",
    "print(f\"test loss {loss.item()}\")"
   ]
  },
  {
   "attachments": {},
   "cell_type": "markdown",
   "metadata": {},
   "source": [
    "## Testing (Folded BatchNorm to Previous Linear Layer):"
   ]
  },
  {
   "cell_type": "code",
   "execution_count": 196,
   "metadata": {},
   "outputs": [
    {
     "name": "stdout",
     "output_type": "stream",
     "text": [
      "test loss 2.233304500579834\n"
     ]
    }
   ],
   "source": [
    "emb = C[Xte] # embed zharacters into vector space\n",
    "x = emb.view((emb.shape[0], -1)) # flatten\n",
    "\n",
    "for layeridx in range(len(layers)):\n",
    "    # forward pass through Linear layers only (Neglect batch norm)\n",
    "    if isinstance(layers[layeridx], Linear):\n",
    "        # fold the batch norm into the weights\n",
    "        l = Linear(layers[layeridx].weight.shape[0], layers[layeridx].weight.shape[1], bias = True)\n",
    "        \n",
    "        l.weight = layers[layeridx].weight * (layers[layeridx + 1].gamma / torch.sqrt(layers[layeridx + 1].running_var + layers[layeridx + 1].eps))\n",
    "        if layers[layeridx].bias is not None:\n",
    "            l.bias = (layers[layeridx].bias - layers[layeridx + 1].running_mean) * (layers[layeridx + 1].gamma / torch.sqrt(layers[layeridx + 1].running_var + layers[layeridx + 1].eps)) + layers[layeridx + 1].beta\n",
    "            \n",
    "        x = l(x)\n",
    "    if isinstance(layers[layeridx], Tanh):\n",
    "        x = layers[layeridx](x)\n",
    "\n",
    "# compute loss\n",
    "loss = F.cross_entropy(x, Yte)\n",
    "print(f\"test loss {loss.item()}\")"
   ]
  }
 ],
 "metadata": {
  "kernelspec": {
   "display_name": "pytor",
   "language": "python",
   "name": "python3"
  },
  "language_info": {
   "codemirror_mode": {
    "name": "ipython",
    "version": 3
   },
   "file_extension": ".py",
   "mimetype": "text/x-python",
   "name": "python",
   "nbconvert_exporter": "python",
   "pygments_lexer": "ipython3",
   "version": "3.10.9"
  },
  "orig_nbformat": 4
 },
 "nbformat": 4,
 "nbformat_minor": 2
}
