{
 "cells": [
  {
   "cell_type": "code",
   "execution_count": 364,
   "metadata": {},
   "outputs": [],
   "source": [
    "import torch as torch\n",
    "import torch.nn.functional as F\n",
    "import matplotlib.pyplot as plt"
   ]
  },
  {
   "cell_type": "code",
   "execution_count": 365,
   "metadata": {},
   "outputs": [
    {
     "name": "stdout",
     "output_type": "stream",
     "text": [
      "['emma', 'olivia', 'ava', 'isabella', 'sophia', 'charlotte', 'mia', 'amelia']\n",
      "32033\n"
     ]
    }
   ],
   "source": [
    "words = open(\"../../data/names.txt\", \"r\").read().splitlines()\n",
    "print(words[:8])\n",
    "print(len(words))"
   ]
  },
  {
   "cell_type": "code",
   "execution_count": 366,
   "metadata": {},
   "outputs": [
    {
     "name": "stdout",
     "output_type": "stream",
     "text": [
      "torch.Size([182625, 4]) torch.Size([182625])\n",
      "torch.Size([22655, 4]) torch.Size([22655])\n",
      "torch.Size([22866, 4]) torch.Size([22866])\n"
     ]
    }
   ],
   "source": [
    "chars = sorted(list(set(\"\".join(words))))\n",
    "stoi = {s: i + 1 for i, s in enumerate(chars)}\n",
    "stoi[\".\"] = 0\n",
    "itos = {i: s for s, i in stoi.items()}\n",
    "\n",
    "block_size = 4\n",
    "def build_dataset(words, block_size = block_size):  \n",
    "\n",
    "  X, Y = [], []\n",
    "  \n",
    "  for w in words:\n",
    "\n",
    "    context = [0] * block_size\n",
    "    for ch in w + '.':\n",
    "\n",
    "      ix = stoi[ch]\n",
    "\n",
    "      X.append(context)\n",
    "      Y.append(ix)\n",
    "\n",
    "      context = context[1:] + [ix]\n",
    "\n",
    "  X = torch.tensor(X)\n",
    "  Y = torch.tensor(Y)\n",
    "  print(X.shape, Y.shape)\n",
    "  return X, Y\n",
    "\n",
    "import random\n",
    "random.seed(42)\n",
    "random.shuffle(words)\n",
    "n1 = int(0.8*len(words))\n",
    "n2 = int(0.9*len(words))\n",
    "\n",
    "Xtr, Ytr = build_dataset(words[:n1])\n",
    "Xdev, Ydev = build_dataset(words[n1:n2])\n",
    "Xte, Yte = build_dataset(words[n2:])"
   ]
  },
  {
   "attachments": {},
   "cell_type": "markdown",
   "metadata": {},
   "source": [
    "# E01: Tune the hyperparameters of the training to beat validation loss of 2.2"
   ]
  },
  {
   "cell_type": "code",
   "execution_count": 375,
   "metadata": {},
   "outputs": [],
   "source": [
    "# Hyperparameters\n",
    "emb_size = 12\n",
    "in_size = block_size * emb_size\n",
    "hidden_size = 256\n",
    "out_size = 27\n",
    "\n",
    "lr = 0.1\n",
    "lambda_ = 0.01\n",
    "batch_size = 256"
   ]
  },
  {
   "cell_type": "code",
   "execution_count": 376,
   "metadata": {},
   "outputs": [
    {
     "name": "stdout",
     "output_type": "stream",
     "text": [
      "number of params = 19807\n"
     ]
    }
   ],
   "source": [
    "g = torch.Generator().manual_seed(12344321)\n",
    "C = torch.randn((out_size, emb_size), generator = g)\n",
    "W1 = torch.randn((in_size, hidden_size), generator = g)\n",
    "b1 = torch.randn(hidden_size, generator = g)\n",
    "W2 = torch.randn((hidden_size, out_size), generator = g)\n",
    "b2 = torch.randn(out_size, generator = g)\n",
    "\n",
    "parameters = [C, W1, b1, W2, b2]\n",
    "print(f\"number of params = {sum(p.nelement() for p in parameters)}\")\n",
    "\n",
    "for p in parameters:\n",
    "    p.requires_grad = True\n",
    "\n",
    "# use the new learning rate\n",
    "lossi = []\n",
    "stepi = []"
   ]
  },
  {
   "cell_type": "code",
   "execution_count": 377,
   "metadata": {},
   "outputs": [
    {
     "name": "stdout",
     "output_type": "stream",
     "text": [
      "mini batch 0 | loss 29.285480499267578 at lr 0.1\n",
      "mini batch 10000 | loss 2.3990862369537354 at lr 0.1\n",
      "mini batch 20000 | loss 2.283390522003174 at lr 0.1\n",
      "mini batch 30000 | loss 2.2350196838378906 at lr 0.01\n",
      "mini batch 40000 | loss 2.2718069553375244 at lr 0.01\n",
      "mini batch 50000 | loss 2.3221569061279297 at lr 0.01\n",
      "mini batch 60000 | loss 2.236496686935425 at lr 0.1\n",
      "mini batch 70000 | loss 2.18037748336792 at lr 0.1\n",
      "mini batch 80000 | loss 2.200941324234009 at lr 0.1\n",
      "mini batch 90000 | loss 2.226801872253418 at lr 0.1\n",
      "mini batch 100000 | loss 2.171529769897461 at lr 0.1\n",
      "mini batch 110000 | loss 2.11014461517334 at lr 0.1\n",
      "mini batch 120000 | loss 2.1589324474334717 at lr 0.1\n",
      "mini batch 130000 | loss 2.030834674835205 at lr 0.1\n",
      "mini batch 140000 | loss 2.276352882385254 at lr 0.1\n",
      "mini batch 150000 | loss 2.075453281402588 at lr 0.1\n",
      "mini batch 160000 | loss 2.047902822494507 at lr 0.1\n",
      "mini batch 170000 | loss 2.053204298019409 at lr 0.1\n",
      "mini batch 180000 | loss 2.163881778717041 at lr 0.1\n",
      "mini batch 190000 | loss 2.1323323249816895 at lr 0.1\n",
      "mini batch 200000 | loss 2.10150408744812 at lr 0.001\n",
      "mini batch 210000 | loss 2.1598875522613525 at lr 0.001\n",
      "mini batch 220000 | loss 2.146913528442383 at lr 0.001\n",
      "mini batch 230000 | loss 2.042030096054077 at lr 0.001\n",
      "mini batch 240000 | loss 2.0009584426879883 at lr 0.001\n",
      "mini batch 250000 | loss 2.1209073066711426 at lr 0.001\n",
      "mini batch 260000 | loss 2.029712200164795 at lr 0.001\n",
      "mini batch 270000 | loss 1.9884315729141235 at lr 0.001\n",
      "mini batch 280000 | loss 1.996431589126587 at lr 0.001\n",
      "mini batch 290000 | loss 2.0780386924743652 at lr 0.001\n"
     ]
    }
   ],
   "source": [
    "# Training Loop\n",
    "for i in range(300000):\n",
    "\n",
    "    # minibatch construct\n",
    "    ix = torch.randint(0, Xtr.shape[0], (batch_size,)) # now size of emb is (32, 3, 2) again\n",
    "\n",
    "    # Forward Pass\n",
    "    emb = C[Xtr[ix]]\n",
    "    # print(emb.shape)\n",
    "    h = torch.tanh(emb.view(-1, in_size) @ W1 + b1)\n",
    "    logits = h @ W2 + b2\n",
    "\n",
    "    loss = F.cross_entropy(logits, Ytr[ix])\n",
    "\n",
    "    # add regularization\n",
    "    loss += lambda_ * (W1 ** 2).mean() + lambda_ * (W2 ** 2).mean()\n",
    "\n",
    "    # Backward Pass\n",
    "    for p in parameters:\n",
    "        p.grad = None\n",
    "\n",
    "    loss.backward()\n",
    "\n",
    "    used_lr = lr\n",
    "    if i > 20000 and i < 60000:\n",
    "        used_lr = 0.01\n",
    "    elif i >= 200000:\n",
    "        used_lr = 0.001\n",
    "    elif i >= 260000:\n",
    "        used_lr = 0.0001\n",
    "        \n",
    "    for p in parameters:\n",
    "        p.data -= used_lr * p.grad\n",
    "\n",
    "    # track loss\n",
    "    lossi.append(loss.log10().item())\n",
    "    stepi.append(i)\n",
    "\n",
    "    if i % 10000 == 0:\n",
    "        print(f\"mini batch {i} | loss {loss.item()} at lr {used_lr}\")\n",
    "            "
   ]
  },
  {
   "attachments": {},
   "cell_type": "markdown",
   "metadata": {},
   "source": [
    "used learning rates:[0.1, 0.05, 0.05, 0.001] 30k steps each"
   ]
  },
  {
   "cell_type": "code",
   "execution_count": 379,
   "metadata": {},
   "outputs": [
    {
     "name": "stdout",
     "output_type": "stream",
     "text": [
      "Training set loss 2.0418529510498047\n",
      "Dev set loss 2.1073224544525146\n"
     ]
    },
    {
     "data": {
      "image/png": "[encoded data removed]",
      "text/plain": [
       "<Figure size 640x480 with 1 Axes>"
      ]
     },
     "metadata": {},
     "output_type": "display_data"
    }
   ],
   "source": [
    "# Evaluation\n",
    "\n",
    "# 1) Training Loss\n",
    "# Forward Pass\n",
    "emb = C[Xtr]\n",
    "# print(emb.shape)\n",
    "h = torch.tanh(emb.view(-1, in_size) @ W1 + b1)\n",
    "logits = h @ W2 + b2\n",
    "loss = F.cross_entropy(logits, Ytr)\n",
    "\n",
    "print(f\"Training set loss {loss.item()}\")\n",
    "\n",
    "# 2) Test Loss\n",
    "# Forward Pass\n",
    "emb = C[Xdev]\n",
    "# print(emb.shape)\n",
    "h = torch.tanh(emb.view(-1, in_size) @ W1 + b1)\n",
    "logits = h @ W2 + b2\n",
    "loss = F.cross_entropy(logits, Ydev)\n",
    "\n",
    "print(f\"Dev set loss {loss.item()}\")\n",
    "\n",
    "# 3) Plot Mini Batch Loss[]\n",
    "plt.plot(lossi);"
   ]
  },
  {
   "attachments": {},
   "cell_type": "markdown",
   "metadata": {},
   "source": [
    "# E02: intialization of the network."
   ]
  },
  {
   "attachments": {},
   "cell_type": "markdown",
   "metadata": {},
   "source": [
    "## (1) What is the loss you'd get if the predicted probabilities at initialization were perfectly uniform? What loss do we achieve?"
   ]
  },
  {
   "cell_type": "code",
   "execution_count": 380,
   "metadata": {},
   "outputs": [
    {
     "name": "stdout",
     "output_type": "stream",
     "text": [
      "Training set loss 3.3361361026763916\n",
      "Dev set loss 3.334118366241455\n"
     ]
    }
   ],
   "source": [
    "# Evaluation\n",
    "# 1) Training Loss\n",
    "# Forward Pass\n",
    "emb = C[Xtr]\n",
    "# print(emb.shape)\n",
    "h = torch.tanh(emb.view(-1, in_size) @ W1 + b1)\n",
    "logits = h @ W2 + b2\n",
    "torch.nn.init.uniform_(logits, 0, 1)\n",
    "loss = F.cross_entropy(logits, Ytr)\n",
    "\n",
    "print(f\"Training set loss {loss.item()}\")\n",
    "\n",
    "# 2) Dev Loss\n",
    "# Forward Pass\n",
    "emb = C[Xdev]\n",
    "# print(emb.shape)\n",
    "h = torch.tanh(emb.view(-1, in_size) @ W1 + b1)\n",
    "logits = h @ W2 + b2\n",
    "torch.nn.init.uniform_(logits, 0, 1)\n",
    "loss = F.cross_entropy(logits, Ydev)\n",
    "\n",
    "print(f\"Dev set loss {loss.item()}\")"
   ]
  },
  {
   "attachments": {},
   "cell_type": "markdown",
   "metadata": {},
   "source": [
    "## (2) Can you tune the initialization to get a starting loss that is much more similar to (1)?\n",
    "\n",
    "reduce the std of the initialization to 0.01"
   ]
  },
  {
   "cell_type": "code",
   "execution_count": 381,
   "metadata": {},
   "outputs": [
    {
     "name": "stdout",
     "output_type": "stream",
     "text": [
      "number of params = 19807\n"
     ]
    }
   ],
   "source": [
    "torch.nn.init.normal_(C, 0, 0.01)\n",
    "torch.nn.init.normal_(W1, 0, 0.01)\n",
    "torch.nn.init.normal_(b1, 0, 0.01)\n",
    "torch.nn.init.normal_(W2, 0, 0.01)\n",
    "torch.nn.init.normal_(b2, 0, 0.01)\n",
    "\n",
    "# use Xtr and Ytr\n",
    "X = Xtr\n",
    "Y = Ytr\n",
    "\n",
    "parameters = [C, W1, b1, W2, b2]\n",
    "print(f\"number of params = {sum(p.nelement() for p in parameters)}\")\n",
    "\n",
    "for p in parameters:\n",
    "    p.requires_grad = True"
   ]
  },
  {
   "cell_type": "code",
   "execution_count": 384,
   "metadata": {},
   "outputs": [
    {
     "name": "stdout",
     "output_type": "stream",
     "text": [
      "starting loss | loss 3.294675588607788\n"
     ]
    }
   ],
   "source": [
    "# minibatch construct\n",
    "ix = torch.randint(0, Xtr.shape[0], (batch_size,)) # now size of emb is (32, 3, 2) again\n",
    "\n",
    "# Forward Pass\n",
    "emb = C[Xtr[ix]]\n",
    "# print(emb.shape)\n",
    "h = torch.tanh(emb.view(-1, in_size) @ W1 + b1)\n",
    "logits = h @ W2 + b2\n",
    "\n",
    "loss = F.cross_entropy(logits, Ytr[ix])\n",
    "\n",
    "# add regularization\n",
    "loss += lambda_ * (W1 ** 2).mean() + lambda_ * (W2 ** 2).mean()\n",
    "print(f\"starting loss | loss {loss.item()}\")\n",
    "            "
   ]
  },
  {
   "attachments": {},
   "cell_type": "markdown",
   "metadata": {},
   "source": [
    "# E03: Read the Bengio et al 2003 paper (link above), implement and try any idea from the paper. Did it work?\n",
    "Regularization is used above, however, it had a small effect on the validation loss."
   ]
  }
 ],
 "metadata": {
  "kernelspec": {
   "display_name": "pytor",
   "language": "python",
   "name": "python3"
  },
  "language_info": {
   "codemirror_mode": {
    "name": "ipython",
    "version": 3
   },
   "file_extension": ".py",
   "mimetype": "text/x-python",
   "name": "python",
   "nbconvert_exporter": "python",
   "pygments_lexer": "ipython3",
   "version": "3.10.9"
  },
  "orig_nbformat": 4
 },
 "nbformat": 4,
 "nbformat_minor": 2
}
