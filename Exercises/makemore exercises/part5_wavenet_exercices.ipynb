{
  "cells": [
    {
      "cell_type": "code",
      "execution_count": 2,
      "metadata": {
        "id": "YHBFLVV4P_P5"
      },
      "outputs": [],
      "source": [
        "import torch\n",
        "import torch.nn as nn\n",
        "import torch.nn.functional as F\n",
        "import matplotlib.pyplot as plt\n",
        "\n",
        "\n",
        "device = torch.device(\"cuda\" if torch.cuda.is_available() else \"cpu\")"
      ]
    },
    {
      "attachments": {},
      "cell_type": "markdown",
      "metadata": {},
      "source": [
        "# Starter Code"
      ]
    },
    {
      "cell_type": "code",
      "execution_count": 4,
      "metadata": {
        "colab": {
          "base_uri": "https://localhost:8080/"
        },
        "id": "-DCqzDSYiIuv",
        "outputId": "d7816e98-2a98-4bb7-f565-145781d739f9"
      },
      "outputs": [
        {
          "name": "stdout",
          "output_type": "stream",
          "text": [
            "['emma', 'olivia', 'ava', 'isabella', 'sophia', 'charlotte', 'mia', 'amelia']\n",
            "32033\n"
          ]
        }
      ],
      "source": [
        "words = open(\"../../makemore/names.txt\", \"r\").read().splitlines()\n",
        "print(words[:8])\n",
        "print(len(words))"
      ]
    },
    {
      "cell_type": "code",
      "execution_count": 5,
      "metadata": {
        "colab": {
          "base_uri": "https://localhost:8080/"
        },
        "id": "Tcgq8NZdiJ0S",
        "outputId": "08b60cb0-665a-4f82-c191-c500e6d2a5c9"
      },
      "outputs": [
        {
          "name": "stdout",
          "output_type": "stream",
          "text": [
            "{1: 'a', 2: 'b', 3: 'c', 4: 'd', 5: 'e', 6: 'f', 7: 'g', 8: 'h', 9: 'i', 10: 'j', 11: 'k', 12: 'l', 13: 'm', 14: 'n', 15: 'o', 16: 'p', 17: 'q', 18: 'r', 19: 's', 20: 't', 21: 'u', 22: 'v', 23: 'w', 24: 'x', 25: 'y', 26: 'z', 0: '.'}\n",
            "27\n"
          ]
        }
      ],
      "source": [
        "chars = sorted(list(set(\"\".join(words))))\n",
        "stoi = {s: i + 1 for i, s in enumerate(chars)}\n",
        "stoi[\".\"] = 0\n",
        "itos = {i: s for s, i in stoi.items()}\n",
        "vocab_size = len(stoi)\n",
        "\n",
        "print(itos)\n",
        "print(vocab_size)"
      ]
    },
    {
      "cell_type": "code",
      "execution_count": 6,
      "metadata": {
        "colab": {
          "base_uri": "https://localhost:8080/"
        },
        "id": "sOND8NXeiKov",
        "outputId": "ca4c1259-16ba-4868-e995-e789fe0251aa"
      },
      "outputs": [
        {
          "name": "stdout",
          "output_type": "stream",
          "text": [
            "torch.Size([182625, 8]) torch.Size([182625])\n",
            "torch.Size([22655, 8]) torch.Size([22655])\n",
            "torch.Size([22866, 8]) torch.Size([22866])\n"
          ]
        }
      ],
      "source": [
        "block_size = 8\n",
        "def build_dataset(words):  \n",
        "\n",
        "  X, Y = [], []\n",
        "  \n",
        "  for w in words:\n",
        "\n",
        "    context = [0] * block_size\n",
        "    for ch in w + '.':\n",
        "\n",
        "      ix = stoi[ch]\n",
        "\n",
        "      X.append(context)\n",
        "      Y.append(ix)\n",
        "\n",
        "      context = context[1:] + [ix]\n",
        "\n",
        "  X = torch.tensor(X)\n",
        "  Y = torch.tensor(Y)\n",
        "  print(X.shape, Y.shape)\n",
        "  return X.to(device), Y.to(device)\n",
        "\n",
        "import random\n",
        "random.seed(42)\n",
        "random.shuffle(words)\n",
        "n1 = int(0.8*len(words))\n",
        "n2 = int(0.9*len(words))\n",
        "\n",
        "Xtr, Ytr = build_dataset(words[:n1])\n",
        "Xdev, Ydev = build_dataset(words[n1:n2])\n",
        "Xte, Yte = build_dataset(words[n2:])\n"
      ]
    },
    {
      "cell_type": "code",
      "execution_count": 7,
      "metadata": {
        "id": "CloXMPL2iL6n"
      },
      "outputs": [],
      "source": [
        "@torch.no_grad()\n",
        "def split_loss(split, model):\n",
        "    x, y = {\n",
        "        \"train\": (Xtr, Ytr),\n",
        "        \"valid\": (Xdev, Ydev),\n",
        "        \"test\": (Xte, Yte)\n",
        "    }[split]\n",
        "    logits = model(x)\n",
        "    loss = F.cross_entropy(logits, y)\n",
        "    return loss.item()"
      ]
    },
    {
      "cell_type": "code",
      "execution_count": 8,
      "metadata": {
        "id": "vA-i4sx_iM2T"
      },
      "outputs": [],
      "source": [
        "def sample(model):\n",
        "    # sampling from the model\n",
        "    for _ in range(20):\n",
        "        out = []\n",
        "        context = [0] * block_size\n",
        "        while True:\n",
        "            # Forward pass\n",
        "            logits = model(torch.tensor([context]).to(device))\n",
        "            probs = F.softmax(logits, dim = 1)\n",
        "\n",
        "            ix = torch.multinomial(probs, num_samples = 1).item()\n",
        "\n",
        "            # Shift the Context Window\n",
        "            context = context[1:] + [ix]\n",
        "\n",
        "            if ix == 0:\n",
        "                break\n",
        "\n",
        "            out.append(ix)\n",
        "        \n",
        "        print(\"\".join(itos[i] for i in out))\n",
        "        "
      ]
    },
    {
      "attachments": {},
      "cell_type": "markdown",
      "metadata": {},
      "source": [
        "# E01: using torch.nn Module instead of custom classes\n",
        "\n",
        "- I commented the batchnorm parts since it (surprisingly) made the model worse\n",
        "- the transpose lines before and after the batchnorm since the implementation of custom class `BatchNorm1d` in the original video has the input in format (N, L, C) instead of (N, C, L) as in the torch implementation"
      ]
    },
    {
      "cell_type": "code",
      "execution_count": 75,
      "metadata": {
        "id": "_juxHbodiObu"
      },
      "outputs": [],
      "source": [
        "import torch.nn.init as init\n",
        "\n",
        "class Model(torch.nn.Module):\n",
        "    def __init__(self, vocab_size, n_embed, n_hidden):\n",
        "        super(Model, self).__init__()\n",
        "\n",
        "        self.embed = torch.nn.Embedding(vocab_size, n_embed)\n",
        "        self.tanh = torch.nn.Tanh()\n",
        "\n",
        "        self.batchnorm1 = torch.nn.BatchNorm1d(n_hidden)\n",
        "        self.batchnorm2 = torch.nn.BatchNorm1d(n_hidden)\n",
        "        self.batchnorm3 = torch.nn.BatchNorm1d(n_hidden)\n",
        "\n",
        "        self.fc1 = torch.nn.Linear(n_embed * 2, n_hidden, bias=False)\n",
        "        init.kaiming_normal_(self.fc1.weight, mode='fan_in', nonlinearity='tanh')\n",
        "        self.fc2 = torch.nn.Linear(n_hidden * 2, n_hidden, bias=False)\n",
        "        init.kaiming_normal_(self.fc2.weight, mode='fan_in', nonlinearity='tanh')\n",
        "        self.fc3 = torch.nn.Linear(n_hidden * 2, n_hidden, bias=False)\n",
        "        init.kaiming_normal_(self.fc3.weight, mode='fan_in', nonlinearity='tanh')\n",
        "        self.fc4 = torch.nn.Linear(n_hidden, vocab_size, bias=False)\n",
        "        \n",
        "\n",
        "    def forward(self, x):\n",
        "        # Embedding\n",
        "        x = self.embed(x)\n",
        "\n",
        "        # block 1\n",
        "        x = self.flatten_consecutive(x)\n",
        "        x = self.fc1(x)\n",
        "        # x = x.transpose(1, 2)\n",
        "        # x = self.batchnorm1(x)\n",
        "        # x = x.transpose(1, 2)\n",
        "        x = self.tanh(x)\n",
        "        \n",
        "        # block 2\n",
        "        x = self.flatten_consecutive(x)\n",
        "        x = self.fc2(x)\n",
        "        # x = x.transpose(1, 2)\n",
        "        # x = self.batchnorm2(x)\n",
        "        # x = x.transpose(1, 2)\n",
        "        x = self.tanh(x)\n",
        "\n",
        "        # block 3\n",
        "        x = self.flatten_consecutive(x)\n",
        "        x = self.fc3(x)\n",
        "        # x = self.batchnorm3(x)\n",
        "        x = self.tanh(x)\n",
        "        \n",
        "        # output\n",
        "        x = self.fc4(x)\n",
        "\n",
        "        return x\n",
        "\n",
        "\n",
        "    def flatten_consecutive(self, x):\n",
        "        B, T, C = x.shape\n",
        "        # swap 2nd and 3rd dimensions\n",
        "        x = x.reshape(B, T // 2, C * 2)\n",
        "\n",
        "        if x.shape[1] == 1:\n",
        "            x = x.squeeze(1)\n",
        "\n",
        "        return x"
      ]
    },
    {
      "attachments": {},
      "cell_type": "markdown",
      "metadata": {},
      "source": [
        "# E02: beating the 1.993 validation loss\n",
        "I almost beat it (I got `1.990`) but the test loss is even better with `1.980`"
      ]
    },
    {
      "cell_type": "code",
      "execution_count": 229,
      "metadata": {
        "colab": {
          "base_uri": "https://localhost:8080/"
        },
        "id": "HzZH0yJtDEYF",
        "outputId": "f1f21c3a-8d68-42c7-d9ee-182e1d31daf3"
      },
      "outputs": [
        {
          "name": "stdout",
          "output_type": "stream",
          "text": [
            "torch.Size([10, 8])\n",
            "torch.Size([10, 8, 32])\n",
            "torch.Size([10, 8, 256])\n",
            "torch.Size([10, 256, 7])\n",
            "torch.Size([10, 256, 7])\n",
            "torch.Size([10, 256, 7])\n",
            "torch.Size([10, 256, 7])\n",
            "torch.Size([10, 256, 7])\n",
            "torch.Size([10, 256, 7])\n"
          ]
        }
      ],
      "source": [
        "n_embed = 32\n",
        "n_hidden = 256\n",
        "\n",
        "model = Model(vocab_size, n_embed, n_hidden).to(device)\n",
        "model(Xtr[:10]);"
      ]
    },
    {
      "cell_type": "code",
      "execution_count": 217,
      "metadata": {
        "colab": {
          "base_uri": "https://localhost:8080/"
        },
        "id": "d_aRKJp5A9m3",
        "outputId": "0a456dc0-dcb3-40ac-e28b-f3e0c0f9a36f"
      },
      "outputs": [
        {
          "name": "stdout",
          "output_type": "stream",
          "text": [
            "epoch : 0 train_loss : 2.2388224601745605 dev_loss : 2.2476375102996826\n",
            "epoch : 1 train_loss : 2.1617937088012695 dev_loss : 2.1792397499084473\n",
            "epoch : 2 train_loss : 2.116607666015625 dev_loss : 2.1417648792266846\n",
            "epoch : 3 train_loss : 2.0833451747894287 dev_loss : 2.1160404682159424\n",
            "epoch : 4 train_loss : 2.056706428527832 dev_loss : 2.096775531768799\n",
            "epoch : 5 train_loss : 2.034327268600464 dev_loss : 2.081538677215576\n",
            "epoch : 6 train_loss : 2.0148534774780273 dev_loss : 2.069016933441162\n",
            "epoch : 7 train_loss : 1.9974969625473022 dev_loss : 2.0584826469421387\n",
            "epoch : 8 train_loss : 1.981783390045166 dev_loss : 2.049513578414917\n",
            "epoch : 9 train_loss : 1.967349886894226 dev_loss : 2.0418453216552734\n",
            "epoch : 10 train_loss : 1.95401132106781 dev_loss : 2.035292863845825\n",
            "epoch : 11 train_loss : 1.9415792226791382 dev_loss : 2.0297179222106934\n",
            "epoch : 12 train_loss : 1.9299373626708984 dev_loss : 2.0249953269958496\n",
            "epoch : 13 train_loss : 1.9189785718917847 dev_loss : 2.021010160446167\n",
            "epoch : 14 train_loss : 1.9086213111877441 dev_loss : 2.0176639556884766\n",
            "epoch : 15 train_loss : 1.89878511428833 dev_loss : 2.0148677825927734\n",
            "epoch : 16 train_loss : 1.8894243240356445 dev_loss : 2.012554883956909\n",
            "epoch : 17 train_loss : 1.880487322807312 dev_loss : 2.010669708251953\n",
            "epoch : 18 train_loss : 1.8719432353973389 dev_loss : 2.0091683864593506\n",
            "epoch : 19 train_loss : 1.8637503385543823 dev_loss : 2.008009672164917\n",
            "epoch : 20 train_loss : 1.855873942375183 dev_loss : 2.0071496963500977\n",
            "epoch : 21 train_loss : 1.84828519821167 dev_loss : 2.0065503120422363\n",
            "epoch : 22 train_loss : 1.8409429788589478 dev_loss : 2.006178379058838\n",
            "epoch : 23 train_loss : 1.8338462114334106 dev_loss : 2.0060083866119385\n",
            "epoch : 24 train_loss : 1.8269520998001099 dev_loss : 2.0060133934020996\n",
            "epoch : 25 train_loss : 1.8202437162399292 dev_loss : 2.006171464920044\n",
            "epoch : 26 train_loss : 1.8137072324752808 dev_loss : 2.0064592361450195\n",
            "epoch : 27 train_loss : 1.8073188066482544 dev_loss : 2.006859064102173\n",
            "Epoch 00029: reducing learning rate of group 0 to 5.0000e-03.\n",
            "epoch : 28 train_loss : 1.8010715246200562 dev_loss : 2.0073561668395996\n",
            "epoch : 29 train_loss : 1.7803398370742798 dev_loss : 1.993017554283142\n",
            "epoch : 30 train_loss : 1.7764434814453125 dev_loss : 1.9935359954833984\n",
            "epoch : 31 train_loss : 1.7728716135025024 dev_loss : 1.9941972494125366\n",
            "epoch : 32 train_loss : 1.769424319267273 dev_loss : 1.994893193244934\n",
            "epoch : 33 train_loss : 1.7660589218139648 dev_loss : 1.9956064224243164\n",
            "epoch : 34 train_loss : 1.762760043144226 dev_loss : 1.9963302612304688\n",
            "Epoch 00036: reducing learning rate of group 0 to 2.5000e-03.\n",
            "epoch : 35 train_loss : 1.7595164775848389 dev_loss : 1.9970650672912598\n",
            "epoch : 36 train_loss : 1.748753309249878 dev_loss : 1.9899698495864868\n",
            "epoch : 37 train_loss : 1.7467193603515625 dev_loss : 1.9903379678726196\n",
            "epoch : 38 train_loss : 1.7448574304580688 dev_loss : 1.9907760620117188\n",
            "epoch : 39 train_loss : 1.7430700063705444 dev_loss : 1.9912267923355103\n",
            "epoch : 40 train_loss : 1.7413079738616943 dev_loss : 1.9916856288909912\n",
            "epoch : 41 train_loss : 1.7395758628845215 dev_loss : 1.992148518562317\n",
            "Epoch 00043: reducing learning rate of group 0 to 1.2500e-03.\n",
            "epoch : 42 train_loss : 1.737856149673462 dev_loss : 1.9926142692565918\n",
            "epoch : 43 train_loss : 1.7327115535736084 dev_loss : 1.9895107746124268\n",
            "epoch : 44 train_loss : 1.7316548824310303 dev_loss : 1.989728569984436\n",
            "epoch : 45 train_loss : 1.7306979894638062 dev_loss : 1.9899846315383911\n",
            "epoch : 46 train_loss : 1.72977614402771 dev_loss : 1.9902437925338745\n",
            "epoch : 47 train_loss : 1.728871464729309 dev_loss : 1.9905033111572266\n",
            "epoch : 48 train_loss : 1.7279751300811768 dev_loss : 1.9907621145248413\n",
            "Epoch 00050: reducing learning rate of group 0 to 6.2500e-04.\n",
            "epoch : 49 train_loss : 1.7270838022232056 dev_loss : 1.9910221099853516\n",
            "epoch : 50 train_loss : 1.724775791168213 dev_loss : 1.9897706508636475\n",
            "epoch : 51 train_loss : 1.7242387533187866 dev_loss : 1.9899051189422607\n",
            "epoch : 52 train_loss : 1.7237540483474731 dev_loss : 1.9900492429733276\n",
            "epoch : 53 train_loss : 1.72328782081604 dev_loss : 1.9901936054229736\n",
            "epoch : 54 train_loss : 1.7228279113769531 dev_loss : 1.9903368949890137\n",
            "Epoch 00056: reducing learning rate of group 0 to 3.1250e-04.\n",
            "epoch : 55 train_loss : 1.7223671674728394 dev_loss : 1.9904779195785522\n",
            "epoch : 56 train_loss : 1.721390962600708 dev_loss : 1.9900025129318237\n",
            "epoch : 57 train_loss : 1.7211170196533203 dev_loss : 1.9900730848312378\n",
            "epoch : 58 train_loss : 1.7208682298660278 dev_loss : 1.9901527166366577\n",
            "epoch : 59 train_loss : 1.7206313610076904 dev_loss : 1.9902313947677612\n",
            "epoch : 60 train_loss : 1.7203916311264038 dev_loss : 1.9903098344802856\n",
            "Epoch 00062: reducing learning rate of group 0 to 1.5625e-04.\n",
            "epoch : 61 train_loss : 1.720163106918335 dev_loss : 1.990386724472046\n",
            "epoch : 62 train_loss : 1.7198030948638916 dev_loss : 1.990204095840454\n",
            "epoch : 63 train_loss : 1.7196691036224365 dev_loss : 1.9902361631393433\n",
            "epoch : 64 train_loss : 1.7195396423339844 dev_loss : 1.9902759790420532\n",
            "epoch : 65 train_loss : 1.7194205522537231 dev_loss : 1.9903180599212646\n",
            "epoch : 66 train_loss : 1.7193061113357544 dev_loss : 1.990358829498291\n",
            "Epoch 00068: reducing learning rate of group 0 to 7.8125e-05.\n",
            "epoch : 67 train_loss : 1.7191858291625977 dev_loss : 1.9903995990753174\n",
            "epoch : 68 train_loss : 1.719043254852295 dev_loss : 1.9902963638305664\n",
            "epoch : 69 train_loss : 1.7189724445343018 dev_loss : 1.9903076887130737\n",
            "epoch : 70 train_loss : 1.7189055681228638 dev_loss : 1.990328311920166\n",
            "epoch : 71 train_loss : 1.7188560962677002 dev_loss : 1.9903478622436523\n",
            "epoch : 72 train_loss : 1.7187964916229248 dev_loss : 1.9903687238693237\n",
            "Epoch 00074: reducing learning rate of group 0 to 3.9063e-05.\n",
            "epoch : 73 train_loss : 1.7187354564666748 dev_loss : 1.9903899431228638\n",
            "epoch : 74 train_loss : 1.7186756134033203 dev_loss : 1.9903546571731567\n",
            "epoch : 75 train_loss : 1.7186392545700073 dev_loss : 1.9903563261032104\n",
            "epoch : 76 train_loss : 1.718611240386963 dev_loss : 1.9903650283813477\n",
            "epoch : 77 train_loss : 1.7185773849487305 dev_loss : 1.9903748035430908\n",
            "epoch : 78 train_loss : 1.7185477018356323 dev_loss : 1.9903860092163086\n",
            "Epoch 00080: reducing learning rate of group 0 to 1.9531e-05.\n",
            "epoch : 79 train_loss : 1.7185192108154297 dev_loss : 1.990396499633789\n",
            "epoch : 80 train_loss : 1.7185027599334717 dev_loss : 1.9903953075408936\n",
            "epoch : 81 train_loss : 1.7184832096099854 dev_loss : 1.990396499633789\n",
            "epoch : 82 train_loss : 1.7184704542160034 dev_loss : 1.9904005527496338\n",
            "epoch : 83 train_loss : 1.7184549570083618 dev_loss : 1.9904049634933472\n",
            "epoch : 84 train_loss : 1.718441128730774 dev_loss : 1.9904096126556396\n",
            "Epoch 00086: reducing learning rate of group 0 to 9.7656e-06.\n",
            "epoch : 85 train_loss : 1.7184258699417114 dev_loss : 1.9904141426086426\n",
            "epoch : 86 train_loss : 1.7184127569198608 dev_loss : 1.990417718887329\n",
            "epoch : 87 train_loss : 1.7184042930603027 dev_loss : 1.9904191493988037\n",
            "epoch : 88 train_loss : 1.7183990478515625 dev_loss : 1.9904227256774902\n",
            "epoch : 89 train_loss : 1.7183935642242432 dev_loss : 1.9904239177703857\n",
            "epoch : 90 train_loss : 1.7183809280395508 dev_loss : 1.9904265403747559\n",
            "Epoch 00092: reducing learning rate of group 0 to 4.8828e-06.\n",
            "epoch : 91 train_loss : 1.7183730602264404 dev_loss : 1.9904296398162842\n",
            "epoch : 92 train_loss : 1.7183738946914673 dev_loss : 1.990431547164917\n",
            "epoch : 93 train_loss : 1.7183740139007568 dev_loss : 1.9904323816299438\n",
            "epoch : 94 train_loss : 1.7183667421340942 dev_loss : 1.9904334545135498\n",
            "epoch : 95 train_loss : 1.7183610200881958 dev_loss : 1.9904353618621826\n",
            "epoch : 96 train_loss : 1.7183570861816406 dev_loss : 1.9904366731643677\n",
            "Epoch 00098: reducing learning rate of group 0 to 2.4414e-06.\n",
            "epoch : 97 train_loss : 1.7183499336242676 dev_loss : 1.990437388420105\n",
            "epoch : 98 train_loss : 1.7183514833450317 dev_loss : 1.9904388189315796\n",
            "epoch : 99 train_loss : 1.7183490991592407 dev_loss : 1.9904396533966064\n"
          ]
        }
      ],
      "source": [
        "optimizer = torch.optim.SGD(model.parameters(), lr=0.01)\n",
        "scheduler = torch.optim.lr_scheduler.ReduceLROnPlateau(optimizer, mode='min', factor=0.5, patience=5, verbose=True)\n",
        "train_losses = []\n",
        "dev_losses = []\n",
        "\n",
        "for epoch in range(100):\n",
        "    model.train()\n",
        "\n",
        "    for i in range(0, len(Xtr), 64):\n",
        "        x = Xtr[i:i+64]\n",
        "        y = Ytr[i:i+64]\n",
        "\n",
        "        logits = model(x)\n",
        "        loss = F.cross_entropy(logits, y)\n",
        "\n",
        "        optimizer.zero_grad()\n",
        "        loss.backward()\n",
        "        optimizer.step()\n",
        "\n",
        "    model.eval()\n",
        "    train_loss = split_loss('train', model)\n",
        "    dev_loss = split_loss('valid', model)\n",
        "    train_losses.append(train_loss)\n",
        "    dev_losses.append(dev_loss)\n",
        "\n",
        "    scheduler.step(dev_loss)\n",
        "\n",
        "    print(f\"epoch : {epoch} train_loss : {train_loss} dev_loss : {dev_loss}\")"
      ]
    },
    {
      "cell_type": "code",
      "execution_count": 218,
      "metadata": {
        "id": "ynl_vofcAvDf"
      },
      "outputs": [],
      "source": [
        "torch.save(model.state_dict(), \"wave_net_bn_best_pth\")"
      ]
    },
    {
      "cell_type": "code",
      "execution_count": 219,
      "metadata": {
        "colab": {
          "base_uri": "https://localhost:8080/",
          "height": 466
        },
        "id": "Td-jcyFHikIE",
        "outputId": "74643700-c561-4c83-976e-24c48730fad9"
      },
      "outputs": [
        {
          "data": {
            "text/plain": [
              "<matplotlib.legend.Legend at 0x7f21207b38b0>"
            ]
          },
          "execution_count": 219,
          "metadata": {},
          "output_type": "execute_result"
        },
        {
          "data": {
            "image/png": "[encoded data removed]",
            "text/plain": [
              "<Figure size 640x480 with 1 Axes>"
            ]
          },
          "metadata": {},
          "output_type": "display_data"
        }
      ],
      "source": [
        "# plot train and dev losses\n",
        "plt.plot(train_losses, label = 'train')\n",
        "plt.plot(dev_losses, label = 'dev')\n",
        "\n",
        "plt.xlabel('epoch')\n",
        "plt.ylabel('loss')\n",
        "\n",
        "plt.legend()"
      ]
    },
    {
      "cell_type": "code",
      "execution_count": 222,
      "metadata": {
        "colab": {
          "base_uri": "https://localhost:8080/"
        },
        "id": "uzDjIkqX6Uev",
        "outputId": "3c870a78-73fc-4ccc-efec-b1beb7227f9c"
      },
      "outputs": [
        {
          "name": "stdout",
          "output_type": "stream",
          "text": [
            "Training Loss: 1.718\n",
            "Validation Loss: 1.990\n",
            "Test Loss: 1.980\n"
          ]
        }
      ],
      "source": [
        "print(f\"Training Loss: {split_loss('train', model):0.3f}\")\n",
        "print(f\"Validation Loss: {split_loss('valid', model):0.3f}\")\n",
        "print(f\"Test Loss: {split_loss('test', model):0.3f}\")"
      ]
    },
    {
      "cell_type": "code",
      "execution_count": 223,
      "metadata": {
        "colab": {
          "base_uri": "https://localhost:8080/"
        },
        "id": "J7TWv5Uqrn-4",
        "outputId": "1a91fe4b-2bb3-4d6d-9091-8f793b7286d8"
      },
      "outputs": [
        {
          "name": "stdout",
          "output_type": "stream",
          "text": [
            "pravel\n",
            "walymar\n",
            "edmon\n",
            "ashbel\n",
            "vetas\n",
            "kanelai\n",
            "zaeleigh\n",
            "roslyn\n",
            "yasmani\n",
            "emrynn\n",
            "reven\n",
            "ashton\n",
            "jaylynn\n",
            "corina\n",
            "mackenzie\n",
            "izzam\n",
            "amun\n",
            "lyanne\n",
            "pracie\n",
            "hanai\n"
          ]
        }
      ],
      "source": [
        "sample(model)"
      ]
    },
    {
      "attachments": {},
      "cell_type": "markdown",
      "metadata": {},
      "source": [
        "# # E03: Using Convolutions"
      ]
    },
    {
      "cell_type": "code",
      "execution_count": 9,
      "metadata": {},
      "outputs": [],
      "source": [
        "class ModelCnn(nn.Module):\n",
        "    def __init__(self, vocab_size, n_embed, n_hidden, n_layers):\n",
        "        super(ModelCnn, self).__init__()\n",
        "        self.n_layers = n_layers\n",
        "        self.embedding = nn.Embedding(vocab_size, n_embed)\n",
        "        self.fc1 = nn.Linear(n_embed, n_hidden, bias=False)\n",
        "\n",
        "        for i in range(n_layers):\n",
        "            setattr(self, f\"conv1d_{i}\", nn.Conv1d(in_channels=n_hidden, out_channels=n_hidden, kernel_size=2, stride=2, bias=False, dilation=1, padding=0))\n",
        "            setattr(self, f\"bn{i}\", nn.BatchNorm1d(n_hidden))\n",
        "    \n",
        "\n",
        "        self.fc2 = nn.Linear(n_hidden, vocab_size, bias=False)\n",
        "    \n",
        "    def forward(self, x):\n",
        "        x = self.embedding(x)\n",
        "        x = self.fc1(x)\n",
        "        x = F.tanh(x)\n",
        "        x = x.transpose(1,2)\n",
        "\n",
        "        for i in range(self.n_layers):\n",
        "            conv1d = getattr(self, f\"conv1d_{i}\")\n",
        "            bn = getattr(self, f\"bn{i}\")\n",
        "            x = conv1d(x)\n",
        "\n",
        "            x = bn(x)\n",
        "            x = F.tanh(x)\n",
        "\n",
        "        x = x.squeeze(-1)\n",
        "        x = self.fc2(x)\n",
        "        return x"
      ]
    },
    {
      "cell_type": "code",
      "execution_count": 19,
      "metadata": {},
      "outputs": [],
      "source": [
        "n_embed = 25\n",
        "n_hidden = 80\n",
        "\n",
        "model = ModelCnn(vocab_size= vocab_size, n_embed= n_embed, n_hidden= n_hidden, n_layers= 3).to(device)\n",
        "model(Xtr[:10]);\n",
        "train_losses = []\n",
        "dev_losses = []"
      ]
    },
    {
      "cell_type": "code",
      "execution_count": 20,
      "metadata": {},
      "outputs": [
        {
          "name": "stdout",
          "output_type": "stream",
          "text": [
            "epoch : 0 train_loss : 2.211954116821289 dev_loss : 2.226102590560913\n",
            "epoch : 1 train_loss : 2.20154070854187 dev_loss : 2.223876476287842\n",
            "epoch : 2 train_loss : 2.1840922832489014 dev_loss : 2.2139856815338135\n",
            "epoch : 3 train_loss : 2.146854877471924 dev_loss : 2.1842620372772217\n",
            "epoch : 4 train_loss : 2.1201746463775635 dev_loss : 2.165189266204834\n",
            "epoch : 5 train_loss : 2.1013431549072266 dev_loss : 2.153916835784912\n",
            "epoch : 6 train_loss : 2.0867278575897217 dev_loss : 2.1461591720581055\n",
            "epoch : 7 train_loss : 2.074291467666626 dev_loss : 2.1399617195129395\n",
            "epoch : 8 train_loss : 2.0635316371917725 dev_loss : 2.13497257232666\n",
            "epoch : 9 train_loss : 2.0550684928894043 dev_loss : 2.1318228244781494\n",
            "epoch : 10 train_loss : 2.049571990966797 dev_loss : 2.131333112716675\n",
            "epoch : 11 train_loss : 2.0467634201049805 dev_loss : 2.1332757472991943\n",
            "epoch : 12 train_loss : 2.0450189113616943 dev_loss : 2.135934829711914\n",
            "epoch : 13 train_loss : 2.0428755283355713 dev_loss : 2.1378073692321777\n",
            "epoch : 14 train_loss : 2.0402309894561768 dev_loss : 2.1388213634490967\n",
            "epoch : 15 train_loss : 2.0376031398773193 dev_loss : 2.139568567276001\n",
            "Epoch 00017: reducing learning rate of group 0 to 5.0000e-02.\n",
            "epoch : 16 train_loss : 2.0352959632873535 dev_loss : 2.1404500007629395\n",
            "epoch : 17 train_loss : 1.9625380039215088 dev_loss : 2.0775091648101807\n",
            "epoch : 18 train_loss : 1.9630626440048218 dev_loss : 2.0822196006774902\n",
            "epoch : 19 train_loss : 1.9632905721664429 dev_loss : 2.085676431655884\n",
            "epoch : 20 train_loss : 1.9633519649505615 dev_loss : 2.0885424613952637\n",
            "epoch : 21 train_loss : 1.9632600545883179 dev_loss : 2.0910167694091797\n",
            "epoch : 22 train_loss : 1.9630305767059326 dev_loss : 2.0931692123413086\n",
            "Epoch 00024: reducing learning rate of group 0 to 2.5000e-02.\n",
            "epoch : 23 train_loss : 1.9626696109771729 dev_loss : 2.095039129257202\n",
            "epoch : 24 train_loss : 1.918713092803955 dev_loss : 2.0575079917907715\n",
            "epoch : 25 train_loss : 1.918506145477295 dev_loss : 2.060157299041748\n",
            "epoch : 26 train_loss : 1.918387532234192 dev_loss : 2.062289237976074\n",
            "epoch : 27 train_loss : 1.9182299375534058 dev_loss : 2.064110040664673\n",
            "epoch : 28 train_loss : 1.9180424213409424 dev_loss : 2.065727949142456\n",
            "epoch : 29 train_loss : 1.9178391695022583 dev_loss : 2.0671963691711426\n",
            "Epoch 00031: reducing learning rate of group 0 to 1.2500e-02.\n",
            "epoch : 30 train_loss : 1.9176408052444458 dev_loss : 2.0685486793518066\n",
            "epoch : 31 train_loss : 1.8942630290985107 dev_loss : 2.048372745513916\n",
            "epoch : 32 train_loss : 1.8937734365463257 dev_loss : 2.0495824813842773\n",
            "epoch : 33 train_loss : 1.893480658531189 dev_loss : 2.050686836242676\n",
            "epoch : 34 train_loss : 1.8932135105133057 dev_loss : 2.0516817569732666\n",
            "epoch : 35 train_loss : 1.8929595947265625 dev_loss : 2.052600860595703\n",
            "epoch : 36 train_loss : 1.8927193880081177 dev_loss : 2.0534608364105225\n",
            "Epoch 00038: reducing learning rate of group 0 to 6.2500e-03.\n",
            "epoch : 37 train_loss : 1.8924782276153564 dev_loss : 2.0542759895324707\n",
            "epoch : 38 train_loss : 1.8808066844940186 dev_loss : 2.04375958442688\n",
            "epoch : 39 train_loss : 1.8803954124450684 dev_loss : 2.0442445278167725\n",
            "epoch : 40 train_loss : 1.8801380395889282 dev_loss : 2.0447752475738525\n",
            "epoch : 41 train_loss : 1.8799127340316772 dev_loss : 2.0452799797058105\n",
            "epoch : 42 train_loss : 1.8797019720077515 dev_loss : 2.0457589626312256\n",
            "epoch : 43 train_loss : 1.8794969320297241 dev_loss : 2.046215534210205\n",
            "Epoch 00045: reducing learning rate of group 0 to 3.1250e-03.\n",
            "epoch : 44 train_loss : 1.8793004751205444 dev_loss : 2.046654462814331\n",
            "epoch : 45 train_loss : 1.8737270832061768 dev_loss : 2.041545867919922\n",
            "epoch : 46 train_loss : 1.873457908630371 dev_loss : 2.0417134761810303\n",
            "epoch : 47 train_loss : 1.873293161392212 dev_loss : 2.041949987411499\n",
            "epoch : 48 train_loss : 1.8731502294540405 dev_loss : 2.042194128036499\n",
            "epoch : 49 train_loss : 1.8730098009109497 dev_loss : 2.0424342155456543\n",
            "epoch : 50 train_loss : 1.8728750944137573 dev_loss : 2.0426695346832275\n",
            "Epoch 00052: reducing learning rate of group 0 to 1.5625e-03.\n",
            "epoch : 51 train_loss : 1.8727461099624634 dev_loss : 2.0428977012634277\n",
            "epoch : 52 train_loss : 1.8703340291976929 dev_loss : 2.04079008102417\n",
            "epoch : 53 train_loss : 1.870173454284668 dev_loss : 2.040846824645996\n",
            "epoch : 54 train_loss : 1.87007474899292 dev_loss : 2.0409553050994873\n",
            "epoch : 55 train_loss : 1.8699934482574463 dev_loss : 2.041072130203247\n",
            "epoch : 56 train_loss : 1.8699214458465576 dev_loss : 2.041191577911377\n",
            "epoch : 57 train_loss : 1.8698490858078003 dev_loss : 2.0413107872009277\n",
            "Epoch 00059: reducing learning rate of group 0 to 7.8125e-04.\n",
            "epoch : 58 train_loss : 1.8697748184204102 dev_loss : 2.041429042816162\n",
            "epoch : 59 train_loss : 1.868729591369629 dev_loss : 2.0405797958374023\n",
            "epoch : 60 train_loss : 1.8686459064483643 dev_loss : 2.0406033992767334\n",
            "epoch : 61 train_loss : 1.86858332157135 dev_loss : 2.040656089782715\n",
            "epoch : 62 train_loss : 1.8685463666915894 dev_loss : 2.0407164096832275\n",
            "epoch : 63 train_loss : 1.8685047626495361 dev_loss : 2.040775775909424\n",
            "epoch : 64 train_loss : 1.8684697151184082 dev_loss : 2.0408387184143066\n",
            "Epoch 00066: reducing learning rate of group 0 to 3.9063e-04.\n",
            "epoch : 65 train_loss : 1.8684332370758057 dev_loss : 2.0408997535705566\n",
            "epoch : 66 train_loss : 1.867958903312683 dev_loss : 2.040479898452759\n",
            "epoch : 67 train_loss : 1.867914080619812 dev_loss : 2.0404844284057617\n",
            "epoch : 68 train_loss : 1.867882490158081 dev_loss : 2.040513038635254\n",
            "epoch : 69 train_loss : 1.8678597211837769 dev_loss : 2.0405421257019043\n",
            "epoch : 70 train_loss : 1.8678386211395264 dev_loss : 2.0405733585357666\n",
            "Epoch 00072: reducing learning rate of group 0 to 1.9531e-04.\n",
            "epoch : 71 train_loss : 1.867820382118225 dev_loss : 2.0406055450439453\n",
            "epoch : 72 train_loss : 1.8676193952560425 dev_loss : 2.040390968322754\n",
            "epoch : 73 train_loss : 1.867578148841858 dev_loss : 2.040379047393799\n",
            "epoch : 74 train_loss : 1.8675615787506104 dev_loss : 2.040389060974121\n",
            "epoch : 75 train_loss : 1.8675475120544434 dev_loss : 2.0404040813446045\n",
            "epoch : 76 train_loss : 1.86754310131073 dev_loss : 2.0404205322265625\n",
            "Epoch 00078: reducing learning rate of group 0 to 9.7656e-05.\n",
            "epoch : 77 train_loss : 1.8675366640090942 dev_loss : 2.0404369831085205\n",
            "epoch : 78 train_loss : 1.8674614429473877 dev_loss : 2.0403518676757812\n",
            "epoch : 79 train_loss : 1.8674360513687134 dev_loss : 2.0403378009796143\n",
            "epoch : 80 train_loss : 1.8674215078353882 dev_loss : 2.0403378009796143\n",
            "epoch : 81 train_loss : 1.8674184083938599 dev_loss : 2.0403425693511963\n",
            "epoch : 82 train_loss : 1.8674168586730957 dev_loss : 2.040349006652832\n",
            "epoch : 83 train_loss : 1.8674086332321167 dev_loss : 2.0403575897216797\n",
            "Epoch 00085: reducing learning rate of group 0 to 4.8828e-05.\n",
            "epoch : 84 train_loss : 1.8674046993255615 dev_loss : 2.0403664112091064\n",
            "epoch : 85 train_loss : 1.867375135421753 dev_loss : 2.0403385162353516\n",
            "epoch : 86 train_loss : 1.8673678636550903 dev_loss : 2.0403330326080322\n",
            "epoch : 87 train_loss : 1.867361068725586 dev_loss : 2.040330410003662\n",
            "epoch : 88 train_loss : 1.8673564195632935 dev_loss : 2.040330648422241\n",
            "epoch : 89 train_loss : 1.8673521280288696 dev_loss : 2.0403337478637695\n",
            "Epoch 00091: reducing learning rate of group 0 to 2.4414e-05.\n",
            "epoch : 90 train_loss : 1.8673501014709473 dev_loss : 2.0403358936309814\n",
            "epoch : 91 train_loss : 1.8673415184020996 dev_loss : 2.040327310562134\n",
            "epoch : 92 train_loss : 1.8673317432403564 dev_loss : 2.040325880050659\n",
            "epoch : 93 train_loss : 1.8673278093338013 dev_loss : 2.040325403213501\n",
            "epoch : 94 train_loss : 1.8673292398452759 dev_loss : 2.0403246879577637\n",
            "epoch : 95 train_loss : 1.8673269748687744 dev_loss : 2.0403246879577637\n",
            "Epoch 00097: reducing learning rate of group 0 to 1.2207e-05.\n",
            "epoch : 96 train_loss : 1.8673269748687744 dev_loss : 2.0403265953063965\n",
            "epoch : 97 train_loss : 1.867324948310852 dev_loss : 2.0403223037719727\n",
            "epoch : 98 train_loss : 1.867316722869873 dev_loss : 2.04032301902771\n",
            "epoch : 99 train_loss : 1.8673166036605835 dev_loss : 2.0403215885162354\n"
          ]
        }
      ],
      "source": [
        "optimizer = torch.optim.SGD(model.parameters(), lr=0.1)\n",
        "scheduler = torch.optim.lr_scheduler.ReduceLROnPlateau(optimizer, mode='min', factor=0.5, patience=5, verbose=True)\n",
        "\n",
        "for epoch in range(100):\n",
        "    model.train()\n",
        "\n",
        "    for i in range(0, len(Xtr), 64):\n",
        "        x = Xtr[i:i+64]\n",
        "        y = Ytr[i:i+64]\n",
        "\n",
        "        logits = model(x)\n",
        "        loss = F.cross_entropy(logits, y)\n",
        "\n",
        "        optimizer.zero_grad()\n",
        "        loss.backward()\n",
        "        optimizer.step()\n",
        "\n",
        "    model.eval()\n",
        "    train_loss = split_loss('train', model)\n",
        "    dev_loss = split_loss('valid', model)\n",
        "    train_losses.append(train_loss)\n",
        "    dev_losses.append(dev_loss)\n",
        "\n",
        "    scheduler.step(dev_loss)\n",
        "\n",
        "    print(f\"epoch : {epoch} train_loss : {train_loss} dev_loss : {dev_loss}\")"
      ]
    },
    {
      "cell_type": "code",
      "execution_count": 21,
      "metadata": {},
      "outputs": [
        {
          "data": {
            "text/plain": [
              "<matplotlib.legend.Legend at 0x7f2ff1c5db90>"
            ]
          },
          "execution_count": 21,
          "metadata": {},
          "output_type": "execute_result"
        },
        {
          "data": {
            "image/png": "[encoded data removed]",
            "text/plain": [
              "<Figure size 640x480 with 1 Axes>"
            ]
          },
          "metadata": {},
          "output_type": "display_data"
        }
      ],
      "source": [
        "# plot train and dev losses\n",
        "plt.plot(train_losses, label = 'train')\n",
        "plt.plot(dev_losses, label = 'dev')\n",
        "\n",
        "plt.xlabel('epoch')\n",
        "plt.ylabel('loss')\n",
        "\n",
        "plt.legend()"
      ]
    },
    {
      "cell_type": "code",
      "execution_count": 22,
      "metadata": {},
      "outputs": [
        {
          "name": "stdout",
          "output_type": "stream",
          "text": [
            "Training Loss: 1.867\n",
            "Validation Loss: 2.040\n",
            "Test Loss: 2.053\n"
          ]
        }
      ],
      "source": [
        "print(f\"Training Loss: {split_loss('train', model):0.3f}\")\n",
        "print(f\"Validation Loss: {split_loss('valid', model):0.3f}\")\n",
        "print(f\"Test Loss: {split_loss('test', model):0.3f}\")"
      ]
    },
    {
      "cell_type": "code",
      "execution_count": 23,
      "metadata": {},
      "outputs": [
        {
          "name": "stdout",
          "output_type": "stream",
          "text": [
            "malakai\n",
            "zechya\n",
            "mahmu\n",
            "yasanon\n",
            "ashia\n",
            "quinnco\n",
            "bransh\n",
            "matem\n",
            "ofciam\n",
            "saraiya\n",
            "jayton\n",
            "aliha\n",
            "knoor\n",
            "coty\n",
            "aldomi\n",
            "clarlen\n",
            "jaseer\n",
            "rayanna\n",
            "margary\n",
            "elinn\n"
          ]
        }
      ],
      "source": [
        "sample(model)"
      ]
    },
    {
      "cell_type": "code",
      "execution_count": null,
      "metadata": {},
      "outputs": [],
      "source": []
    }
  ],
  "metadata": {
    "accelerator": "GPU",
    "colab": {
      "gpuType": "T4",
      "provenance": []
    },
    "kernelspec": {
      "display_name": "Python 3",
      "name": "python3"
    },
    "language_info": {
      "codemirror_mode": {
        "name": "ipython",
        "version": 3
      },
      "file_extension": ".py",
      "mimetype": "text/x-python",
      "name": "python",
      "nbconvert_exporter": "python",
      "pygments_lexer": "ipython3",
      "version": "3.11.3"
    }
  },
  "nbformat": 4,
  "nbformat_minor": 0
}
