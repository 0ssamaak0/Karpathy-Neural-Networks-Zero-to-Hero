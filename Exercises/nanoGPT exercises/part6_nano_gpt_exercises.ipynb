{
 "cells": [
  {
   "attachments": {},
   "cell_type": "markdown",
   "metadata": {},
   "source": [
    "# EX2: Train the GPT on your own dataset of choice!\n",
    "I trained it on the first 3 books of Harry Potter, I used the almost same code from the original notebook, and saved the checkpoints into a file"
   ]
  },
  {
   "cell_type": "code",
   "execution_count": 6,
   "metadata": {},
   "outputs": [],
   "source": [
    "# defining the model code was here, it's removed to make the notebook shorter"
   ]
  },
  {
   "cell_type": "code",
   "execution_count": 10,
   "metadata": {},
   "outputs": [
    {
     "name": "stdout",
     "output_type": "stream",
     "text": [
      " like eat of his mother tant went practicing, and watched a\n",
      "large eholid, Harry forward for a drophy rackped and hurried it\n",
      "staying quilly in his fact, though ratter in the rage.\n",
      "\n",
      "\"Potter!\"\n",
      "\n",
      "He sorted thick hadnoticed sevening about his sink. He found out of this\n",
      "last moment.\n",
      "\n",
      "\"It's puffirsides,\" said Harry, who was faith indigured. \"And conversation\n",
      "reporters that this question is gave that .... but for or gleams and scealed\n",
      "tarts.\n",
      "\n",
      "\"What's the mouth them did..... have things, Harry, and Snape was\n",
      "flinched. It had gone Harry's. Almost fell an idea. A look at\n",
      "the strangely, hoar-ding beet sillyless, covered that quarters diary, while and\n",
      "smeaker. At once the Slytherin was carefully pouting, and the cold, he\n",
      "maked out who hands tipped would helply the first to read them.\n",
      "\n",
      "--\"\n",
      "\n",
      "Harry; Ron picked up the beliet, tapping unex-to-face and punk.\n",
      "\n",
      "\"He's known,\" she whispered dazedly. \"If they're what!\" Ron said.\n",
      "\n",
      "\"While you know what's hurt?\"\n",
      "\n",
      "But he head hissed to look up his mind it wouldn't"
     ]
    }
   ],
   "source": [
    "model.load_state_dict(torch.load(\"HPGPT.pt\"))\n",
    "idx = torch.zeros((1,1), dtype = torch.long, device = device)\n",
    "generated = model.generate(idx, 1000) # shape (1, 101)"
   ]
  },
  {
   "cell_type": "code",
   "execution_count": null,
   "metadata": {},
   "outputs": [],
   "source": []
  }
 ],
 "metadata": {
  "kernelspec": {
   "display_name": "main",
   "language": "python",
   "name": "python3"
  },
  "language_info": {
   "codemirror_mode": {
    "name": "ipython",
    "version": 3
   },
   "file_extension": ".py",
   "mimetype": "text/x-python",
   "name": "python",
   "nbconvert_exporter": "python",
   "pygments_lexer": "ipython3",
   "version": "3.11.3"
  },
  "orig_nbformat": 4
 },
 "nbformat": 4,
 "nbformat_minor": 2
}
