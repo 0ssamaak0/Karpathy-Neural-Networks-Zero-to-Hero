{
 "cells": [
  {
   "cell_type": "code",
   "execution_count": 66,
   "metadata": {},
   "outputs": [],
   "source": [
    "import torch\n",
    "import torch.nn.functional as F\n",
    "\n",
    "import matplotlib.pyplot as plt"
   ]
  },
  {
   "attachments": {},
   "cell_type": "markdown",
   "metadata": {},
   "source": [
    "# Preparing for the Exercises"
   ]
  },
  {
   "attachments": {},
   "cell_type": "markdown",
   "metadata": {},
   "source": [
    "## 1- Starter Code (from previous notebooks)"
   ]
  },
  {
   "cell_type": "code",
   "execution_count": 1,
   "metadata": {},
   "outputs": [
    {
     "name": "stdout",
     "output_type": "stream",
     "text": [
      "['emma', 'olivia', 'ava', 'isabella', 'sophia', 'charlotte', 'mia', 'amelia']\n",
      "32033\n"
     ]
    }
   ],
   "source": [
    "words = open(\"../data/names.txt\", \"r\").read().splitlines()\n",
    "print(words[:8])\n",
    "print(len(words))"
   ]
  },
  {
   "cell_type": "code",
   "execution_count": 68,
   "metadata": {},
   "outputs": [
    {
     "name": "stdout",
     "output_type": "stream",
     "text": [
      "{1: 'a', 2: 'b', 3: 'c', 4: 'd', 5: 'e', 6: 'f', 7: 'g', 8: 'h', 9: 'i', 10: 'j', 11: 'k', 12: 'l', 13: 'm', 14: 'n', 15: 'o', 16: 'p', 17: 'q', 18: 'r', 19: 's', 20: 't', 21: 'u', 22: 'v', 23: 'w', 24: 'x', 25: 'y', 26: 'z', 0: '.'}\n",
      "27\n"
     ]
    }
   ],
   "source": [
    "chars = sorted(list(set(\"\".join(words))))\n",
    "stoi = {s: i + 1 for i, s in enumerate(chars)}\n",
    "stoi[\".\"] = 0\n",
    "itos = {i: s for s, i in stoi.items()}\n",
    "vocab_size = len(stoi)\n",
    "\n",
    "print(itos)\n",
    "print(vocab_size)"
   ]
  },
  {
   "cell_type": "code",
   "execution_count": 69,
   "metadata": {},
   "outputs": [
    {
     "name": "stdout",
     "output_type": "stream",
     "text": [
      "torch.Size([182625, 3]) torch.Size([182625])\n",
      "torch.Size([22655, 3]) torch.Size([22655])\n",
      "torch.Size([22866, 3]) torch.Size([22866])\n"
     ]
    }
   ],
   "source": [
    "block_size = 3\n",
    "def build_dataset(words):  \n",
    "\n",
    "  X, Y = [], []\n",
    "  \n",
    "  for w in words:\n",
    "\n",
    "    context = [0] * block_size\n",
    "    for ch in w + '.':\n",
    "\n",
    "      ix = stoi[ch]\n",
    "\n",
    "      X.append(context)\n",
    "      Y.append(ix)\n",
    "\n",
    "      context = context[1:] + [ix]\n",
    "\n",
    "  X = torch.tensor(X)\n",
    "  Y = torch.tensor(Y)\n",
    "  print(X.shape, Y.shape)\n",
    "  return X, Y\n",
    "\n",
    "import random\n",
    "random.seed(42)\n",
    "random.shuffle(words)\n",
    "n1 = int(0.8*len(words))\n",
    "n2 = int(0.9*len(words))\n",
    "\n",
    "Xtr, Ytr = build_dataset(words[:n1])\n",
    "Xdev, Ydev = build_dataset(words[n1:n2])\n",
    "Xte, Yte = build_dataset(words[n2:])"
   ]
  },
  {
   "cell_type": "code",
   "execution_count": 70,
   "metadata": {},
   "outputs": [
    {
     "name": "stdout",
     "output_type": "stream",
     "text": [
      "4137\n"
     ]
    }
   ],
   "source": [
    "n_embd = 10 \n",
    "n_hidden = 64\n",
    "\n",
    "g = torch.Generator().manual_seed(2147483647)\n",
    "C  = torch.randn((vocab_size, n_embd),generator=g)\n",
    "W1 = torch.randn((n_embd * block_size, n_hidden),generator=g) * (5/3) / ((n_embd * block_size) ** 0.5)\n",
    "b1 = torch.randn(n_hidden,generator=g) * 0.01 # it's actually useless\n",
    "W2 = torch.randn((n_hidden, vocab_size),generator=g) * 0.01 # Initialize to small values\n",
    "b2 = torch.randn(vocab_size,generator=g) * 0.1\n",
    "\n",
    "bngain = torch.ones((1, n_hidden))\n",
    "bnbias = torch.zeros((1, n_hidden))\n",
    "\n",
    "# mean and std buffers, (not trainable)\n",
    "bnmean_running = torch.zeros((1, n_hidden)) * 0.1 + 1\n",
    "bnstd_running = torch.ones((1, n_hidden)) * 0.1\n",
    "\n",
    "parameters = [C, W1, b1, W2, b2, bngain, bnbias]\n",
    "\n",
    "print(sum(p.nelement() for p in parameters))\n",
    "\n",
    "for p in parameters:\n",
    "  p.requires_grad = True"
   ]
  },
  {
   "cell_type": "code",
   "execution_count": 71,
   "metadata": {},
   "outputs": [],
   "source": [
    "batch_size = 32\n",
    "n = batch_size\n",
    "\n",
    "ix = torch.randint(0, Xtr.shape[0], (batch_size,), generator=g)\n",
    "Xb, Yb = Xtr[ix], Ytr[ix]"
   ]
  },
  {
   "attachments": {},
   "cell_type": "markdown",
   "metadata": {},
   "source": [
    "## 2- Utility Function to compare the Gradients"
   ]
  },
  {
   "cell_type": "code",
   "execution_count": 72,
   "metadata": {},
   "outputs": [],
   "source": [
    "def cmp(s, dt, t):\n",
    "    ex = torch.all(dt == t.grad).item()\n",
    "    app = torch.allclose(dt, t.grad)\n",
    "    maxdiff = (dt - t.grad).abs().max().item()\n",
    "    print(f'{s:15s} | exact: {str(ex):5s} | approximate: {str(app):5s} | maxdiff: {maxdiff}')"
   ]
  },
  {
   "attachments": {},
   "cell_type": "markdown",
   "metadata": {},
   "source": [
    "## 3- Forward pass\n",
    "the forward back in this time is broken up into manageable chunks, so that we can compute the gradients for each layer separately (including cross entropy)\n",
    "\n",
    "This is the same forward pass as in the previous notebook."
   ]
  },
  {
   "cell_type": "code",
   "execution_count": 73,
   "metadata": {},
   "outputs": [],
   "source": [
    "# ----- Embeddings -----\n",
    "emb = C[Xb]\n",
    "embcat = emb.view(emb.shape[0], -1)\n",
    "\n",
    "# ----- Linear Layer 1 -----\n",
    "# hidden layer pre-activation\n",
    "hprebn = embcat @ W1 + b1\n",
    "# ---- BatchNorm layer ----\n",
    "# mean of hidden layer pre-activation\n",
    "bnmeani = 1 / n * hprebn.sum(0, keepdim = True)\n",
    "# difference between pre-activation and mean\n",
    "bndiff = hprebn - bnmeani\n",
    "# square of difference\n",
    "bndiff2 = bndiff ** 2\n",
    "# variance of hidden layer pre-activation (Bessel's correction (n-1))\n",
    "bnvar = 1 / (n - 1) * (bndiff2).sum(0, keepdim = True)\n",
    "# get the std of hidden layer pre-activation, and invert it (remember: we need to divide by it)\n",
    "bnvar_inv = 1 / (bnvar + 1e-5) ** 0.5\n",
    "# batch norm layer output\n",
    "bnraw = bndiff * bnvar_inv\n",
    "# batch norm layer output with gain and bias (scale and shift)\n",
    "hpreact = bngain * bnraw + bnbias\n",
    "# activation function\n",
    "h = torch.tanh(hpreact)\n",
    "\n",
    "# ----- Linear Layer 2 -----\n",
    "# logits\n",
    "logits = h @ W2 + b2\n",
    "\n",
    "# ----- Cross Entropy Loss -----\n",
    "# max logits\n",
    "logit_maxes = logits.max(1, keepdim = True).values\n",
    "# normalized logits (substract max logits for numerical stability)\n",
    "norm_logits = logits - logit_maxes\n",
    "# counts\n",
    "counts = norm_logits.exp()\n",
    "# counts sum\n",
    "counts_sum = counts.sum(1, keepdim = True)\n",
    "# inverse of counts sum (if it's 1 / counts_sum, we can't backpropagate through it)\n",
    "counts_sum_inv = counts_sum ** -1\n",
    "# probabilities (all counts sum to 1), notice that counts_sum_inv is broadcasted from (batch_size, 1) to (batch_size, vocab_size)\n",
    "probs = counts * counts_sum_inv\n",
    "# log probabilities of the correct next character (shape: (batch_size, vocab_size))\n",
    "logprobs = probs.log()\n",
    "# loss\n",
    "loss = -logprobs[range(n), Yb].mean()"
   ]
  },
  {
   "cell_type": "code",
   "execution_count": 74,
   "metadata": {},
   "outputs": [
    {
     "data": {
      "text/plain": [
       "tensor(3.2968, grad_fn=<NegBackward0>)"
      ]
     },
     "execution_count": 74,
     "metadata": {},
     "output_type": "execute_result"
    }
   ],
   "source": [
    "for p in parameters:\n",
    "    p.grad = None\n",
    "for t in [logprobs, probs, counts, counts_sum, counts_sum_inv, norm_logits, logit_maxes, logits, h, hpreact, bnraw, bnvar_inv, bnvar, bndiff2, bndiff, bnmeani, hprebn, embcat, emb]:\n",
    "    t.retain_grad()\n",
    "\n",
    "loss.backward()\n",
    "loss"
   ]
  },
  {
   "attachments": {},
   "cell_type": "markdown",
   "metadata": {},
   "source": [
    "# Exercise 1: Backpropagation through the whole thing manually"
   ]
  },
  {
   "cell_type": "code",
   "execution_count": 75,
   "metadata": {},
   "outputs": [],
   "source": [
    "# z = -(a + b + c) / 3 ➡️ dz/da = -1/3, dz/dx = 0\n",
    "dlogprobs = torch.zeros_like(logprobs)\n",
    "dlogprobs[range(n), Yb] = -1.0 / n\n",
    "\n",
    "# for correct prediction ✅: pass dlogprobs | if it's not correct ❌: multiply it by large number\n",
    "# y = log(x) ➡️ dy/dx = 1/x\n",
    "dprobs = dlogprobs * (probs ** (-1))\n",
    "\n",
    "# note that counts.shape = (batch_size, vocab_size) | counts_sum.shape = (batch_size, 1) ➡️ we need to sum along the vocab_size axis (dim=1)\n",
    "# z = x * y ➡️ dz/dx = y\n",
    "dcounts_sum_inv = (dprobs * counts).sum(1, keepdim = True)\n",
    "\n",
    "# z = 1 / x ➡️ dz/dx = -1 / x^2\n",
    "dcounts_sum = dcounts_sum_inv * -1 * (counts_sum ** -2)\n",
    "\n",
    "# note that counts is used twice ➡️ we need to sum gradients from both branches\n",
    "dcounts = (dcounts_sum * 1).expand_as(counts) + (dprobs * counts_sum_inv).expand_as(counts)\n",
    "\n",
    "# y = exp(x) ➡️ dy/dx = exp(x)\n",
    "dnorm_logits = dcounts  * norm_logits.exp()\n",
    "\n",
    "# the gradient on logit maxes should be zero , since it does affect probabilities hence the loss (check it yourself!)\n",
    "# z = x - y ➡️ dz/dx = 1 (remember broadcasting)\n",
    "dlogit_maxes = (dnorm_logits * -1).sum(1, keepdim = True)\n",
    "\n",
    "# note that logits is used twice ➡️ we need to sum gradients from both branches\n",
    "# for logit_maxes branch, we need to get argmaxes of logits, and then sum along the vocab_size  axis (dim=1)\n",
    "dlogits = dnorm_logits + F.one_hot(logits.max(1).indices, num_classes = logits.shape[1]) * dlogit_maxes\n",
    "\n",
    "# z = x * y ➡️ dz/dx = y (transpose because of matrix multiplication)\n",
    "dh = dlogits @ W2.T\n",
    "\n",
    "# z = x * y ➡️ dz/dx = x (transpose because of matrix multiplication)\n",
    "dW2 = h.T @ dlogits\n",
    "\n",
    "# z = x * y + a ➡️ dz/da = 1 (sum along the batch_size axis)\n",
    "db2 = dlogits.sum(0, keepdim = False)\n",
    "\n",
    "# z = tanh(x) ➡️ dz/dx = 1 - tanh(x)^2 = 1 - z^2\n",
    "dhpreact = dh * (1.0 - h ** 2)\n",
    "\n",
    "# z = x * y + a ➡️ dz/dx = y (transpose because of matrix multiplication)\n",
    "dbngain = (dhpreact * bnraw).sum(0, keepdim = True)\n",
    "\n",
    "# z = x * y + a ➡️ dz/da = 1 (sum along the batch_size axis)\n",
    "dbnbias = dhpreact.sum(0, keepdim=True)\n",
    "\n",
    "# z = x * y + a ➡️ dz/dy = x\n",
    "dbnraw = (bngain * dhpreact)\n",
    "\n",
    "dbnvar_inv = (dbnraw * bndiff).sum(0, keepdim = True)\n",
    "\n",
    "# z = 1 / (x + 1e-5) ** 0.5 ➡️ dz/dx = -0.5 * (x + 1e-5) ** -1.5\n",
    "dbnvar = dbnvar_inv * -0.5 * (bnvar + 1e-5) ** -1.5\n",
    "\n",
    "# y = 1 / (n - 1) * x ➡️ dy/dx = 1 / (n - 1)\n",
    "dbndiff2 = (dbnvar * (1 / (n - 1))).expand_as(bndiff2)\n",
    "\n",
    "# z = x ** 2 ➡️ dz/dx = 2 * x\n",
    "dbndiff = (dbndiff2 * 2 * bndiff) + (dbnraw * bnvar_inv)\n",
    "\n",
    "# z = y - x ➡️ dz/dx = -1\n",
    "dbnmeani = (dbndiff * -1).sum(0, keepdim = True)\n",
    "\n",
    "# note that hprebn is used twice ➡️ we need to sum gradients from both branches\n",
    "dhprebn = dbndiff + (dbnmeani * (1 / n)).expand_as(hprebn)\n",
    "\n",
    "# z = x * y + a ➡️ dz/dx = y (transpose because of matrix multiplication)\n",
    "dembcat = dhprebn @ W1.T\n",
    "\n",
    "# z = x * y + a ➡️ dz/dx = y (transpose because of matrix multiplication)\n",
    "dW1 = embcat.T @ dhprebn\n",
    "\n",
    "# z = x * y + a ➡️ dz/da = 1 (sum along the batch_size axis)\n",
    "db1 = dhprebn.sum(0, keepdim = False)\n",
    "\n",
    "# just reshape the gradient to the shape of the embedding\n",
    "demb = dembcat.view_as(emb)\n",
    "\n",
    "# we need to undo the embedding lookup (the indexing)\n",
    "dC = torch.zeros_like(C)\n",
    "# iterate over Xb rows\n",
    "for k in range(Xb.shape[0]):\n",
    "    # iterate over Xb columns\n",
    "    for j in range(Xb.shape[1]):\n",
    "        # get the index of the current character\n",
    "        ix = Xb[k, j]\n",
    "        # add the gradient to the corresponding row of the gradient matrix\n",
    "        dC[ix] += demb[k, j]"
   ]
  },
  {
   "cell_type": "code",
   "execution_count": 76,
   "metadata": {},
   "outputs": [
    {
     "name": "stdout",
     "output_type": "stream",
     "text": [
      "C shapetorch.Size([27, 10])\n",
      "emb shapetorch.Size([32, 3, 10])\n",
      "Xb shapetorch.Size([32, 3])\n"
     ]
    }
   ],
   "source": [
    "# Change this with the shapes of the tensors you're currently working with\n",
    "print(f\"C shape{C.shape}\")\n",
    "print(f\"emb shape{emb.shape}\")\n",
    "print(f\"Xb shape{Xb.shape}\")"
   ]
  },
  {
   "attachments": {},
   "cell_type": "markdown",
   "metadata": {},
   "source": [
    "## Comparison"
   ]
  },
  {
   "cell_type": "code",
   "execution_count": 77,
   "metadata": {},
   "outputs": [
    {
     "name": "stdout",
     "output_type": "stream",
     "text": [
      "logprobs        | exact: True  | approximate: True  | maxdiff: 0.0\n",
      "probs           | exact: True  | approximate: True  | maxdiff: 0.0\n",
      "counts_sum_inv  | exact: True  | approximate: True  | maxdiff: 0.0\n",
      "counts_sum      | exact: True  | approximate: True  | maxdiff: 0.0\n",
      "counts          | exact: True  | approximate: True  | maxdiff: 0.0\n",
      "norm_logits     | exact: True  | approximate: True  | maxdiff: 0.0\n",
      "logit_maxes     | exact: True  | approximate: True  | maxdiff: 0.0\n",
      "logits          | exact: True  | approximate: True  | maxdiff: 0.0\n",
      "h               | exact: True  | approximate: True  | maxdiff: 0.0\n",
      "W2              | exact: True  | approximate: True  | maxdiff: 0.0\n",
      "b2              | exact: True  | approximate: True  | maxdiff: 0.0\n",
      "hpreact         | exact: False | approximate: True  | maxdiff: 5.820766091346741e-11\n",
      "bngain          | exact: False | approximate: True  | maxdiff: 1.7462298274040222e-10\n",
      "bnbias          | exact: False | approximate: True  | maxdiff: 2.3283064365386963e-10\n",
      "bnraw           | exact: False | approximate: True  | maxdiff: 5.820766091346741e-11\n",
      "bnvar_inv       | exact: False | approximate: True  | maxdiff: 4.656612873077393e-10\n",
      "bnvar           | exact: False | approximate: True  | maxdiff: 1.1641532182693481e-10\n",
      "bndiff2         | exact: False | approximate: True  | maxdiff: 3.637978807091713e-12\n",
      "bndiff          | exact: False | approximate: True  | maxdiff: 5.820766091346741e-11\n",
      "bnmeani         | exact: False | approximate: True  | maxdiff: 2.3283064365386963e-10\n",
      "hprebn          | exact: False | approximate: True  | maxdiff: 5.820766091346741e-11\n",
      "embcat          | exact: False | approximate: True  | maxdiff: 1.7462298274040222e-10\n",
      "W1              | exact: False | approximate: True  | maxdiff: 4.656612873077393e-10\n",
      "b1              | exact: False | approximate: True  | maxdiff: 3.2014213502407074e-10\n",
      "emb             | exact: False | approximate: True  | maxdiff: 1.7462298274040222e-10\n",
      "C               | exact: False | approximate: True  | maxdiff: 3.637978807091713e-10\n"
     ]
    }
   ],
   "source": [
    "cmp('logprobs', dlogprobs, logprobs)\n",
    "cmp('probs', dprobs, probs)\n",
    "cmp('counts_sum_inv', dcounts_sum_inv, counts_sum_inv)\n",
    "cmp('counts_sum', dcounts_sum, counts_sum)\n",
    "cmp('counts', dcounts, counts)\n",
    "cmp('norm_logits', dnorm_logits, norm_logits)\n",
    "cmp('logit_maxes', dlogit_maxes, logit_maxes)\n",
    "cmp('logits', dlogits, logits)\n",
    "cmp('h', dh, h)\n",
    "cmp('W2', dW2, W2)\n",
    "cmp('b2', db2, b2)\n",
    "cmp('hpreact', dhpreact, hpreact)\n",
    "cmp('bngain', dbngain, bngain)\n",
    "cmp('bnbias', dbnbias, bnbias)\n",
    "cmp('bnraw', dbnraw, bnraw)\n",
    "cmp('bnvar_inv', dbnvar_inv, bnvar_inv)\n",
    "cmp('bnvar', dbnvar, bnvar)\n",
    "cmp('bndiff2', dbndiff2, bndiff2)\n",
    "cmp('bndiff', dbndiff, bndiff)\n",
    "cmp('bnmeani', dbnmeani, bnmeani)\n",
    "cmp('hprebn', dhprebn, hprebn)\n",
    "cmp('embcat', dembcat, embcat)\n",
    "cmp('W1', dW1, W1)\n",
    "cmp('b1', db1, b1)\n",
    "cmp('emb', demb, emb)\n",
    "cmp('C', dC, C)"
   ]
  },
  {
   "attachments": {},
   "cell_type": "markdown",
   "metadata": {},
   "source": [
    "# Exercise 2: Backprop through cross_entropy in one expression"
   ]
  },
  {
   "cell_type": "code",
   "execution_count": 46,
   "metadata": {},
   "outputs": [
    {
     "name": "stdout",
     "output_type": "stream",
     "text": [
      "loss_fast: 3.296769618988037 | dif: 2.384185791015625e-07\n"
     ]
    }
   ],
   "source": [
    "loss_fast = F.cross_entropy(logits, Yb)\n",
    "print(f\"loss_fast: {loss_fast} | dif: {loss_fast - loss}\")"
   ]
  },
  {
   "cell_type": "code",
   "execution_count": 78,
   "metadata": {},
   "outputs": [
    {
     "name": "stdout",
     "output_type": "stream",
     "text": [
      "logits          | exact: False | approximate: True  | maxdiff: 6.984919309616089e-09\n"
     ]
    }
   ],
   "source": [
    "# (check mathematical explaination in video)\n",
    "dlogits = F.softmax(logits, dim = 1)\n",
    "dlogits[range(n), Yb] -= 1\n",
    "dlogits /= n\n",
    "\n",
    "cmp('logits', dlogits, logits)"
   ]
  },
  {
   "attachments": {},
   "cell_type": "markdown",
   "metadata": {},
   "source": [
    "## Visualize the gradients (dlogits)"
   ]
  },
  {
   "cell_type": "code",
   "execution_count": 85,
   "metadata": {},
   "outputs": [
    {
     "name": "stdout",
     "output_type": "stream",
     "text": [
      "tensor([0.0434, 0.0369, 0.0356, 0.0364, 0.0329, 0.0465, 0.0415, 0.0422, 0.0360,\n",
      "        0.0344, 0.0364, 0.0332, 0.0411, 0.0353, 0.0327, 0.0352, 0.0318, 0.0318,\n",
      "        0.0330, 0.0446, 0.0408, 0.0316, 0.0383, 0.0391, 0.0435, 0.0349, 0.0311],\n",
      "       grad_fn=<SelectBackward0>)\n",
      "tensor([ 0.0434,  0.0369,  0.0356,  0.0364,  0.0329,  0.0465,  0.0415,  0.0422,\n",
      "        -0.9640,  0.0344,  0.0364,  0.0332,  0.0411,  0.0353,  0.0327,  0.0352,\n",
      "         0.0318,  0.0318,  0.0330,  0.0446,  0.0408,  0.0316,  0.0383,  0.0391,\n",
      "         0.0435,  0.0349,  0.0311], grad_fn=<MulBackward0>)\n"
     ]
    },
    {
     "data": {
      "image/png": "[encoded data removed]",
      "text/plain": [
       "<Figure size 800x800 with 1 Axes>"
      ]
     },
     "metadata": {},
     "output_type": "display_data"
    }
   ],
   "source": [
    "plt.figure(figsize = (8, 8))\n",
    "plt.imshow(dlogits.data, cmap = 'gray', interpolation = 'nearest');\n",
    "\n",
    "# notice that they are equal, but correct posision is almost -1\n",
    "print(F.softmax(logits, 1)[0])\n",
    "print(dlogits[0] * n)"
   ]
  },
  {
   "attachments": {},
   "cell_type": "markdown",
   "metadata": {},
   "source": [
    "# Exercise 3: Batch Norm Layer Backward Pass in one Expression"
   ]
  },
  {
   "cell_type": "code",
   "execution_count": 87,
   "metadata": {},
   "outputs": [
    {
     "name": "stdout",
     "output_type": "stream",
     "text": [
      "hprebn          | exact: False | approximate: True  | maxdiff: 5.820766091346741e-11\n"
     ]
    }
   ],
   "source": [
    "# calculate hprebn given hpreact (check mathematical explaination in video)\n",
    "dhprebn = bngain * bnvar_inv / n * (n * dhpreact - dhpreact.sum(0) - n / (n - 1) * bnraw * (dhpreact * bnraw).sum(0))\n",
    "\n",
    "cmp('hprebn', dhprebn, hprebn)"
   ]
  },
  {
   "attachments": {},
   "cell_type": "markdown",
   "metadata": {},
   "source": [
    "# Exercise 4: Putting it all together"
   ]
  },
  {
   "cell_type": "code",
   "execution_count": 93,
   "metadata": {},
   "outputs": [
    {
     "name": "stdout",
     "output_type": "stream",
     "text": [
      "Step 0, Loss 3.296769618988037\n",
      "Step 10000, Loss 2.4469268321990967\n",
      "Step 20000, Loss 2.0859169960021973\n",
      "Step 30000, Loss 2.388929605484009\n",
      "Step 40000, Loss 2.2814080715179443\n",
      "Step 50000, Loss 2.1699628829956055\n",
      "Step 60000, Loss 2.2227632999420166\n",
      "Step 70000, Loss 2.5007517337799072\n",
      "Step 80000, Loss 2.1813900470733643\n",
      "Step 90000, Loss 2.4679534435272217\n",
      "Step 100000, Loss 2.095520257949829\n",
      "Step 110000, Loss 1.7801880836486816\n",
      "Step 120000, Loss 2.076627731323242\n",
      "Step 130000, Loss 2.4670305252075195\n",
      "Step 140000, Loss 1.8943418264389038\n",
      "Step 150000, Loss 2.13836932182312\n",
      "Step 160000, Loss 2.0354418754577637\n",
      "Step 170000, Loss 2.303077220916748\n",
      "Step 180000, Loss 1.9737322330474854\n",
      "Step 190000, Loss 1.993587613105774\n"
     ]
    }
   ],
   "source": [
    "# init\n",
    "n_embd = 10 \n",
    "n_hidden = 64\n",
    "\n",
    "g = torch.Generator().manual_seed(2147483647)\n",
    "C  = torch.randn((vocab_size, n_embd),generator=g)\n",
    "# Layer 1\n",
    "W1 = torch.randn((n_embd * block_size, n_hidden),generator=g) * (5/3) / ((n_embd * block_size) ** 0.5)\n",
    "b1 = torch.randn(n_hidden,generator=g) * 0.01 # it's actually useless\n",
    "# Layer 2\n",
    "W2 = torch.randn((n_hidden, vocab_size),generator=g) * 0.01 # Initialize to small values\n",
    "b2 = torch.randn(vocab_size,generator=g) * 0.1\n",
    "# BatchNorm Parameters\n",
    "bngain = torch.ones((1, n_hidden))\n",
    "bnbias = torch.zeros((1, n_hidden))\n",
    "\n",
    "# mean and std buffers, (not trainable)\n",
    "bnmean_running = torch.zeros((1, n_hidden)) * 0.1 + 1\n",
    "bnstd_running = torch.ones((1, n_hidden)) * 0.1\n",
    "\n",
    "params = [C, W1, b1, W2, b2, bngain, bnbias]\n",
    "\n",
    "for p in parameters:\n",
    "    p.requires_grad = True\n",
    "\n",
    "max_steps = 200000\n",
    "batch_size = 32\n",
    "n = batch_size \n",
    "lossi = []\n",
    "\n",
    "for i in range(max_steps):\n",
    "\n",
    "    ix = torch.randint(0, Xtr.shape[0], (batch_size,), generator=g)\n",
    "    Xb, Yb = Xtr[ix], Ytr[ix]\n",
    "\n",
    "    # ----- Embeddings -----\n",
    "    emb = C[Xb]\n",
    "    embcat = emb.view(emb.shape[0], -1)\n",
    "\n",
    "    # ----- Linear Layer 1 -----\n",
    "    # hidden layer pre-activation\n",
    "    hprebn = embcat @ W1 + b1\n",
    "    # ---- BatchNorm layer ----\n",
    "    # mean of hidden layer pre-activation\n",
    "    bnmeani = 1 / n * hprebn.sum(0, keepdim = True)\n",
    "    # difference between pre-activation and mean\n",
    "    bndiff = hprebn - bnmeani\n",
    "    # square of difference\n",
    "    bndiff2 = bndiff ** 2\n",
    "    # variance of hidden layer pre-activation (Bessel's correction (n-1))\n",
    "    bnvar = 1 / (n - 1) * (bndiff2).sum(0, keepdim = True)\n",
    "    # get the std of hidden layer pre-activation, and invert it (remember: we need to divide by it)\n",
    "    bnvar_inv = 1 / (bnvar + 1e-5) ** 0.5\n",
    "    # batch norm layer output\n",
    "    bnraw = bndiff * bnvar_inv\n",
    "    # batch norm layer output with gain and bias (scale and shift)\n",
    "    hpreact = bngain * bnraw + bnbias\n",
    "    # activation function\n",
    "    h = torch.tanh(hpreact)\n",
    "\n",
    "    # ----- Linear Layer 2 -----\n",
    "    # logits\n",
    "    logits = h @ W2 + b2\n",
    "\n",
    "    # ----- Cross Entropy Loss -----\n",
    "    loss = F.cross_entropy(logits, Yb)\n",
    "\n",
    "    # ----- Backpropagation -----\n",
    "    for p in parameters:\n",
    "        p.grad = None\n",
    "    \n",
    "    # one expression\n",
    "    dlogits = F.softmax(logits, dim = 1)\n",
    "    dlogits[range(n), Yb] -= 1\n",
    "    dlogits /= n\n",
    "\n",
    "    # z = x * y ➡️ dz/dx = y (transpose because of matrix multiplication)\n",
    "    dh = dlogits @ W2.T\n",
    "\n",
    "    # z = x * y ➡️ dz/dx = x (transpose because of matrix multiplication)\n",
    "    dW2 = h.T @ dlogits\n",
    "\n",
    "    # z = x * y + a ➡️ dz/da = 1 (sum along the batch_size axis)\n",
    "    db2 = dlogits.sum(0, keepdim = False)\n",
    "\n",
    "    # z = tanh(x) ➡️ dz/dx = 1 - tanh(x)^2 = 1 - z^2\n",
    "    dhpreact = dh * (1.0 - h ** 2)\n",
    "\n",
    "    # z = x * y + a ➡️ dz/dx = y (transpose because of matrix multiplication)\n",
    "    dbngain = (dhpreact * bnraw).sum(0, keepdim = True)\n",
    "\n",
    "    # z = x * y + a ➡️ dz/da = 1 (sum along the batch_size axis)\n",
    "    dbnbias = dhpreact.sum(0, keepdim=True)\n",
    "\n",
    "    # one expression\n",
    "    dhprebn = bngain * bnvar_inv / n * (n * dhpreact - dhpreact.sum(0) - n / (n - 1) * bnraw * (dhpreact * bnraw).sum(0))\n",
    "\n",
    "    # z = x * y + a ➡️ dz/dx = y (transpose because of matrix multiplication)\n",
    "    dembcat = dhprebn @ W1.T\n",
    "\n",
    "    # z = x * y + a ➡️ dz/dx = y (transpose because of matrix multiplication)\n",
    "    dW1 = embcat.T @ dhprebn\n",
    "\n",
    "    # z = x * y + a ➡️ dz/da = 1 (sum along the batch_size axis)\n",
    "    db1 = dhprebn.sum(0, keepdim = False)\n",
    "\n",
    "    # just reshape the gradient to the shape of the embedding\n",
    "    demb = dembcat.view_as(emb)\n",
    "\n",
    "    # we need to undo the embedding lookup (the indexing)\n",
    "    dC = torch.zeros_like(C)\n",
    "    # iterate over Xb rows\n",
    "    for k in range(Xb.shape[0]):\n",
    "        # iterate over Xb columns\n",
    "        for j in range(Xb.shape[1]):\n",
    "            # get the index of the current character\n",
    "            ix = Xb[k, j]\n",
    "            # add the gradient to the corresponding row of the gradient matrix\n",
    "            dC[ix] += demb[k, j]\n",
    "            \n",
    "    grads = [dC, dW1, db1, dW2, db2, dbngain, dbnbias]\n",
    "\n",
    "    # update the parameters\n",
    "    lr = 0.1 if i < 100000 else 0.01\n",
    "    for p, grad in zip(params, grads):\n",
    "        p.data -= lr * grad\n",
    "    \n",
    "    if i % 10000 == 0:\n",
    "        print(f\"Step {i}, Loss {loss.item()}\")\n",
    "        lossi.append(loss.item())\n",
    "  "
   ]
  },
  {
   "cell_type": "code",
   "execution_count": 100,
   "metadata": {},
   "outputs": [],
   "source": [
    "# batchnorm calibration\n",
    "with torch.no_grad():\n",
    "    emb = C[Xtr]\n",
    "    embcat = emb.view(emb.shape[0], -1)\n",
    "    hpreact = embcat @ W1 + b1\n",
    "    bnmean = hpreact.mean(0, keepdim = True)\n",
    "    bnvar = hpreact.var(0, keepdim = True, unbiased = True)"
   ]
  },
  {
   "cell_type": "code",
   "execution_count": 106,
   "metadata": {},
   "outputs": [
    {
     "name": "stdout",
     "output_type": "stream",
     "text": [
      "train loss: 2.1448161602020264\n",
      "dev loss: 2.1594536304473877\n"
     ]
    }
   ],
   "source": [
    "@torch.no_grad()\n",
    "def split_loss(split):\n",
    "    x,y = {\n",
    "        \"train\": (Xtr, Ytr),\n",
    "        \"dev\": (Xdev, Ydev),\n",
    "        \"test\": (Xte, Yte),\n",
    "    }[split]\n",
    "\n",
    "    emb = C[x] # (N, block_size, n_embd)\n",
    "    embcat = emb.view((emb.shape[0], -1)) # (N, block_size * n_embd)\n",
    "    hpreact = embcat @ W1 + b1 # (N, n_hidden)\n",
    "    hpreact = bngain * (hpreact - bnmean) * (bnvar + 1e-5)**-0.5 + bnbias\n",
    "    h = torch.tanh(hpreact) # (N, n_hidden)\n",
    "    logits = h @ W2 + b2 # (N, vocab_size)\n",
    "    loss = F.cross_entropy(logits, y)\n",
    "\n",
    "    print(f\"{split} loss: {loss.item()}\")\n",
    "\n",
    "split_loss(\"train\")\n",
    "split_loss(\"dev\")"
   ]
  },
  {
   "cell_type": "code",
   "execution_count": 143,
   "metadata": {},
   "outputs": [
    {
     "name": "stdout",
     "output_type": "stream",
     "text": [
      "mora.\n",
      "kmyah.\n",
      "see.\n",
      "mad.\n",
      "rylla.\n",
      "emmastendraeg.\n",
      "adelynneli.\n",
      "jemi.\n",
      "jen.\n",
      "eden.\n",
      "sananar.\n",
      "kayzion.\n",
      "kalin.\n",
      "shubergias.\n",
      "jest.\n",
      "jair.\n",
      "jennex.\n",
      "teron.\n",
      "ubelled.\n",
      "ryyah.\n"
     ]
    }
   ],
   "source": [
    "# sample from the model\n",
    "g = torch.Generator().manual_seed(2147483647 + 10)\n",
    "\n",
    "for _ in range(20):\n",
    "    \n",
    "    out = []\n",
    "    context = [0] * block_size # initialize with all ...\n",
    "    while True:\n",
    "      # ------------\n",
    "      # forward pass:\n",
    "      # Embedding\n",
    "      emb = C[torch.tensor([context])] # (1,block_size,d)      \n",
    "      embcat = emb.view(emb.shape[0], -1) # concat into (N, block_size * n_embd)\n",
    "      hpreact = embcat @ W1 + b1\n",
    "      hpreact = bngain * (hpreact - bnmean) * (bnvar + 1e-5)**-0.5 + bnbias\n",
    "      h = torch.tanh(hpreact) # (N, n_hidden)\n",
    "      logits = h @ W2 + b2 # (N, vocab_size)\n",
    "      # ------------\n",
    "      # Sample\n",
    "      probs = F.softmax(logits, dim=1)\n",
    "      ix = torch.multinomial(probs, num_samples=1, generator=g).item()\n",
    "      context = context[1:] + [ix]\n",
    "      out.append(ix)\n",
    "      if ix == 0:\n",
    "        break\n",
    "    \n",
    "    print(''.join(itos[i] for i in out))"
   ]
  }
 ],
 "metadata": {
  "kernelspec": {
   "display_name": "pytor",
   "language": "python",
   "name": "python3"
  },
  "language_info": {
   "codemirror_mode": {
    "name": "ipython",
    "version": 3
   },
   "file_extension": ".py",
   "mimetype": "text/x-python",
   "name": "python",
   "nbconvert_exporter": "python",
   "pygments_lexer": "ipython3",
   "version": "3.11.3"
  },
  "orig_nbformat": 4
 },
 "nbformat": 4,
 "nbformat_minor": 2
}
