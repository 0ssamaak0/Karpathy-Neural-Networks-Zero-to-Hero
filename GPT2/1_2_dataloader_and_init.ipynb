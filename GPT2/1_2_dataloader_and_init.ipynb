{
 "cells": [
  {
   "cell_type": "markdown",
   "metadata": {},
   "source": [
    "Starting from [45:50](https://www.youtube.com/watch?v=l8pRSuU81PU&t=2750s)"
   ]
  },
  {
   "cell_type": "markdown",
   "metadata": {},
   "source": [
    "# Code from the previous notebook"
   ]
  },
  {
   "cell_type": "code",
   "execution_count": 1,
   "metadata": {},
   "outputs": [],
   "source": [
    "import tiktoken\n",
    "import torch\n",
    "import torch.nn as nn\n",
    "from torch.nn import functional as F\n",
    "import matplotlib.pyplot as plt\n",
    "from dataclasses import dataclass"
   ]
  },
  {
   "cell_type": "code",
   "execution_count": 2,
   "metadata": {},
   "outputs": [],
   "source": [
    "@dataclass\n",
    "class GPTConfig:\n",
    "    block_size: int = 1024 # maximum sequence length\n",
    "    vocab_size: int = 50257 # number of tokens (50k BPE merges + 256 byte tokens + 1 <|endoftext|> token)\n",
    "    n_layer: int = 12 # number of layers\n",
    "    n_head: int = 12 # number of heads\n",
    "    n_embd: int = 768 # embedding size\n",
    "\n",
    "class CausalSelfAttention(nn.Module):\n",
    "    def __init__(self, config):\n",
    "        super().__init__()\n",
    "        assert config.n_embd % config.n_head == 0\n",
    "        # key, query, value projections\n",
    "        self.c_attn = nn.Linear(config.n_embd, config.n_embd * 3)\n",
    "        # output projection\n",
    "        self.c_proj = nn.Linear(config.n_embd, config.n_embd)\n",
    "        # regularization\n",
    "        self.n_head = config.n_head\n",
    "        self.n_embd = config.n_embd\n",
    "        # Bias (or mask)\n",
    "        self.register_buffer(\"bias\", torch.tril(torch.ones(config.block_size, config.block_size))\n",
    "                            .view(1, 1, config.block_size, config.block_size))\n",
    "    \n",
    "    def forward(self, x):\n",
    "        # batch size, sequence length, embedding size (n_embd)\n",
    "        B, T, C = x.size() \n",
    "        # Query, Key, Value (extract them from c_attn)\n",
    "        qkv = self.c_attn(x)\n",
    "        q, k, v = qkv.split(C, dim=2)\n",
    "        # n_head is treated as a batch dimension\n",
    "        k = k.view(B, T, self.n_head, C // self.n_head).transpose(1, 2) # (B, n_head, T, hs)\n",
    "        q = q.view(B, T, self.n_head, C // self.n_head).transpose(1, 2) # (B, n_head, T, hs)\n",
    "        v = v.view(B, T, self.n_head, C // self.n_head).transpose(1, 2) # (B, n_head, T, hs)\n",
    "        # Attention\n",
    "        att = (q @ k.transpose(-2, -1)) * (1.0 / (C // self.n_head) ** 0.5)\n",
    "        # apply the mask\n",
    "        att = att.masked_fill(self.bias[:, :, :T, :T] == 0, float('-inf'))\n",
    "        # apply the softmax\n",
    "        att = F.softmax(att, dim=-1)\n",
    "        # apply the attention\n",
    "        y = att @ v\n",
    "        # transpose and reshape\n",
    "        y = y.transpose(1, 2).contiguous().view(B, T, C)\n",
    "        # output projection\n",
    "        y = self.c_proj(y)\n",
    "        return y\n",
    "        \n",
    "\n",
    "class MLP(nn.Module):\n",
    "    def __init__(self, config):\n",
    "        super().__init__()\n",
    "        self.c_fc = nn.Linear(config.n_embd, config.n_embd * 4)\n",
    "        self.gelu = nn.GELU(approximate = \"tanh\")\n",
    "        self.c_proj = nn.Linear(config.n_embd * 4, config.n_embd)\n",
    "\n",
    "    def forward(self, x):\n",
    "        x = self.c_fc(x)\n",
    "        x = self.gelu(x)\n",
    "        x = self.c_proj(x)\n",
    "        return x\n",
    "    \n",
    "\n",
    "class Block(nn.Module):\n",
    "    def __init__(self, config):\n",
    "        super().__init__()\n",
    "        self.ln_1 = nn.LayerNorm(config.n_embd)\n",
    "        self.attn = CausalSelfAttention(config)\n",
    "        self.ln_2 = nn.LayerNorm(config.n_embd)\n",
    "        self.mlp = MLP(config)\n",
    "    \n",
    "    def forward(self, x):\n",
    "        x = x + self.attn(self.ln_1(x))\n",
    "        x = x + self.mlp(self.ln_2(x))\n",
    "        return x\n",
    "\n",
    "@dataclass\n",
    "class GPTConfig:\n",
    "    block_size: int = 1024 # maximum sequence length\n",
    "    vocab_size: int = 50257 # number of tokens (50k BPE merges + 256 byte tokens + 1 <|endoftext|> token)\n",
    "    n_layer: int = 12 # number of layers\n",
    "    n_head: int = 12 # number of heads\n",
    "    n_embd: int = 768 # embedding size\n",
    "\n",
    "class GPT(nn.Module):\n",
    "    def __init__(self, config):\n",
    "        super().__init__()\n",
    "        self.config = config\n",
    "\n",
    "        self.transformer = nn.ModuleDict({\n",
    "            # token embedding\n",
    "            \"wte\": nn.Embedding(config.vocab_size, config.n_embd),\n",
    "            # positional embedding\n",
    "            \"wpe\": nn.Embedding(config.block_size, config.n_embd),\n",
    "            # transformer layers\n",
    "            \"h\" : nn.ModuleList([Block(config) for _ in range(config.n_layer)]),\n",
    "            # final layer norm (Before the Linear layer)\n",
    "            \"ln_f\" : nn.LayerNorm(config.n_embd)\n",
    "        })\n",
    "        self.lm_head = nn.Linear(config.n_embd, config.vocab_size, bias=False)\n",
    "\n",
    "    def forward(self, idx):\n",
    "        # Shape of idx is (B, T) (Batch size, Sequence length)\n",
    "        B, T = idx.size()\n",
    "        assert T <= self.config.block_size, f\"Can't forward a sequence of length {T} longer than the block size of {self.config.block_size}\"\n",
    "        # Get the token embeddings\n",
    "        pos = torch.arange(0, T, dtype = torch.long, device = idx.device) # Shape is (T)\n",
    "        pos_emb = self.transformer.wpe(pos) # Shape is (T, n_embd)\n",
    "        tok_emb = self.transformer.wte(idx) # Shape is (B, T, n_embd)\n",
    "        x = tok_emb + pos_emb # Shape is (B, T, n_embd) Broadcasting in addition\n",
    "        # Forward pass through the transformer layers\n",
    "        for block in self.transformer.h:\n",
    "            x = block(x)\n",
    "        # Final layer norm\n",
    "        x = self.transformer.ln_f(x)\n",
    "        # Get the logits\n",
    "        logits = self.lm_head(x) # Shape is (B, T, vocab_size)\n",
    "        return logits"
   ]
  },
  {
   "cell_type": "markdown",
   "metadata": {},
   "source": [
    "# Prepare training dataset"
   ]
  },
  {
   "cell_type": "code",
   "execution_count": 3,
   "metadata": {},
   "outputs": [
    {
     "name": "stdout",
     "output_type": "stream",
     "text": [
      "[5962, 22307, 25, 198, 8421, 356, 5120, 597, 2252, 11, 3285, 502, 2740, 13, 198, 198, 3237, 25, 198, 5248, 461, 11, 2740, 13, 198]\n"
     ]
    }
   ],
   "source": [
    "with open(\"input.txt\", \"r\") as f:\n",
    "    text = f.read()\n",
    "data = text[:1000]\n",
    "enc = tiktoken.get_encoding(\"gpt2\")\n",
    "tokens = enc.encode(data)\n",
    "print(tokens[:25])"
   ]
  },
  {
   "cell_type": "code",
   "execution_count": 4,
   "metadata": {},
   "outputs": [
    {
     "name": "stdout",
     "output_type": "stream",
     "text": [
      "tensor([[ 5962, 22307,    25,   198,  8421,   356],\n",
      "        [ 5120,   597,  2252,    11,  3285,   502],\n",
      "        [ 2740,    13,   198,   198,  3237,    25],\n",
      "        [  198,  5248,   461,    11,  2740,    13]])\n",
      "tensor([[22307,    25,   198,  8421,   356,  5120],\n",
      "        [  597,  2252,    11,  3285,   502,  2740],\n",
      "        [   13,   198,   198,  3237,    25,   198],\n",
      "        [ 5248,   461,    11,  2740,    13,   198]])\n"
     ]
    }
   ],
   "source": [
    "buf = torch.tensor(tokens[:24 + 1])\n",
    "x = buf[:-1].view(4, 6)\n",
    "y = buf[1:].view(4, 6)\n",
    "print(x)\n",
    "print(y)"
   ]
  },
  {
   "cell_type": "code",
   "execution_count": 5,
   "metadata": {},
   "outputs": [
    {
     "name": "stdout",
     "output_type": "stream",
     "text": [
      "Shape of logits: torch.Size([4, 32, 50257])\n"
     ]
    }
   ],
   "source": [
    "B, T = 4, 32\n",
    "buf = torch.tensor(tokens[:B*T + 1])\n",
    "x = buf[:-1].view(B, T)\n",
    "y = buf[1:].view(B, T)\n",
    "x, y = x.to(\"mps\"), y.to(\"mps\")\n",
    "\n",
    "model = GPT(GPTConfig())\n",
    "model.to(\"mps\")\n",
    "logits = model(x)\n",
    "print(f\"Shape of logits: {logits.shape}\")"
   ]
  },
  {
   "cell_type": "markdown",
   "metadata": {},
   "source": [
    "# Modify the forward function to include the loss"
   ]
  },
  {
   "cell_type": "code",
   "execution_count": 6,
   "metadata": {},
   "outputs": [],
   "source": [
    "class GPT(nn.Module):\n",
    "    def __init__(self, config):\n",
    "        super().__init__()\n",
    "        self.config = config\n",
    "\n",
    "        self.transformer = nn.ModuleDict({\n",
    "            # token embedding\n",
    "            \"wte\": nn.Embedding(config.vocab_size, config.n_embd),\n",
    "            # positional embedding\n",
    "            \"wpe\": nn.Embedding(config.block_size, config.n_embd),\n",
    "            # transformer layers\n",
    "            \"h\" : nn.ModuleList([Block(config) for _ in range(config.n_layer)]),\n",
    "            # final layer norm (Before the Linear layer)\n",
    "            \"ln_f\" : nn.LayerNorm(config.n_embd)\n",
    "        })\n",
    "        self.lm_head = nn.Linear(config.n_embd, config.vocab_size, bias=False)\n",
    "\n",
    "    def forward(self, idx, targets = None):\n",
    "        # Shape of idx is (B, T) (Batch size, Sequence length)\n",
    "        B, T = idx.size()\n",
    "        assert T <= self.config.block_size, f\"Can't forward a sequence of length {T} longer than the block size of {self.config.block_size}\"\n",
    "        # Get the token embeddings\n",
    "        pos = torch.arange(0, T, dtype = torch.long, device = idx.device) # Shape is (T)\n",
    "        pos_emb = self.transformer.wpe(pos) # Shape is (T, n_embd)\n",
    "        tok_emb = self.transformer.wte(idx) # Shape is (B, T, n_embd)\n",
    "        x = tok_emb + pos_emb # Shape is (B, T, n_embd) Broadcasting in addition\n",
    "        # Forward pass through the transformer layers\n",
    "        for block in self.transformer.h:\n",
    "            x = block(x)\n",
    "        # Final layer norm\n",
    "        x = self.transformer.ln_f(x)\n",
    "        # Get the logits\n",
    "        logits = self.lm_head(x) # Shape is (B, T, vocab_size)\n",
    "        loss = None\n",
    "        if targets is not None:\n",
    "            loss = F.cross_entropy(logits.view(-1, logits.size(-1)), targets.view(-1)) # (B * T, vocab_size)\n",
    "        return logits, loss"
   ]
  },
  {
   "cell_type": "code",
   "execution_count": 7,
   "metadata": {},
   "outputs": [
    {
     "name": "stdout",
     "output_type": "stream",
     "text": [
      "Shape of logits: torch.Size([4, 32, 50257])\n",
      "loss is 11.008321762084961\n"
     ]
    }
   ],
   "source": [
    "B, T = 4, 32\n",
    "buf = torch.tensor(tokens[:B*T + 1])\n",
    "x = buf[:-1].view(B, T)\n",
    "y = buf[1:].view(B, T)\n",
    "x, y = x.to(\"mps\"), y.to(\"mps\")\n",
    "\n",
    "model = GPT(GPTConfig())\n",
    "model.to(\"mps\")\n",
    "logits, loss = model(x, y)\n",
    "print(f\"Shape of logits: {logits.shape}\")\n",
    "print(f\"loss is {loss}\")"
   ]
  },
  {
   "cell_type": "code",
   "execution_count": 8,
   "metadata": {},
   "outputs": [
    {
     "name": "stdout",
     "output_type": "stream",
     "text": [
      "probability of each token is 1.9897725689953638e-05\n",
      "Negative log likelihood is 10.824905395507812\n"
     ]
    }
   ],
   "source": [
    "# The probability of each token should be roughly equal\n",
    "probability = 1 / logits.shape[-1]\n",
    "print(f\"probability of each token is {probability}\")\n",
    "# Expected loss at initialization should be -log(1 / vocab_size)\n",
    "nll = -torch.log(torch.tensor(probability))\n",
    "print(f\"Negative log likelihood is {nll}\")"
   ]
  },
  {
   "cell_type": "markdown",
   "metadata": {},
   "source": [
    "# Training Loop"
   ]
  },
  {
   "cell_type": "code",
   "execution_count": 9,
   "metadata": {},
   "outputs": [
    {
     "data": {
      "text/plain": [
       "[<matplotlib.lines.Line2D at 0x387f33860>]"
      ]
     },
     "execution_count": 9,
     "metadata": {},
     "output_type": "execute_result"
    },
    {
     "data": {
      "image/png": "[encoded data removed]",
      "text/plain": [
       "<Figure size 640x480 with 1 Axes>"
      ]
     },
     "metadata": {},
     "output_type": "display_data"
    }
   ],
   "source": [
    "optimizer = torch.optim.AdamW(model.parameters(), lr = 3e-4)\n",
    "losses = []\n",
    "for i in range(50):\n",
    "    optimizer.zero_grad()\n",
    "    logits, loss = model(x, y)\n",
    "    loss.backward()\n",
    "    optimizer.step()\n",
    "    losses.append(loss.item())\n",
    "\n",
    "plt.plot(losses)"
   ]
  },
  {
   "cell_type": "markdown",
   "metadata": {},
   "source": [
    "# Prepare Dataloader"
   ]
  },
  {
   "cell_type": "code",
   "execution_count": 10,
   "metadata": {},
   "outputs": [],
   "source": [
    "class DataLoaderLite:\n",
    "    def __init__(self, B, T):\n",
    "        self.B = B\n",
    "        self.T = T\n",
    "        \n",
    "        with open(\"input.txt\", \"r\") as f:\n",
    "            text = f.read()\n",
    "        enc = tiktoken.get_encoding(\"gpt2\")\n",
    "        tokens = enc.encode(text)\n",
    "        self.tokens = torch.tensor(tokens)\n",
    "        self.current_position = 0\n",
    "    \n",
    "    def next_batch(self):\n",
    "        B, T = self.B, self.T\n",
    "        buf = self.tokens[self.current_position: self.current_position + (B * T) + 1]\n",
    "        x = buf[:-1].view(B, T)\n",
    "        y = buf[1:].view(B, T)\n",
    "        self.current_position += B * T\n",
    "        # reset if we reach the end\n",
    "        if self.current_position + (B * T) + 1 > len(self.tokens):\n",
    "            self.current_position = 0\n",
    "        return x, y"
   ]
  },
  {
   "cell_type": "code",
   "execution_count": 11,
   "metadata": {},
   "outputs": [
    {
     "data": {
      "text/plain": [
       "[<matplotlib.lines.Line2D at 0x132feacc0>]"
      ]
     },
     "execution_count": 11,
     "metadata": {},
     "output_type": "execute_result"
    },
    {
     "data": {
      "image/png": "[encoded data removed]",
      "text/plain": [
       "<Figure size 640x480 with 1 Axes>"
      ]
     },
     "metadata": {},
     "output_type": "display_data"
    }
   ],
   "source": [
    "model = GPT(GPTConfig())\n",
    "model.to(\"mps\")\n",
    "train_loader = DataLoaderLite(4, 32)\n",
    "optimizer = torch.optim.AdamW(model.parameters(), lr = 3e-4)\n",
    "losses = []\n",
    "for i in range(50):\n",
    "    optimizer.zero_grad()\n",
    "    x, y = train_loader.next_batch()\n",
    "    x, y = x.to(\"mps\"), y.to(\"mps\")\n",
    "    logits, loss = model(x, y)\n",
    "    loss.backward()\n",
    "    optimizer.step()\n",
    "    losses.append(loss.item())\n",
    "\n",
    "plt.plot(losses)"
   ]
  },
  {
   "cell_type": "markdown",
   "metadata": {},
   "source": [
    "# Fixing a bug: Weight Sharing"
   ]
  },
  {
   "cell_type": "markdown",
   "metadata": {},
   "source": [
    "## Check Huggingface implementation"
   ]
  },
  {
   "cell_type": "code",
   "execution_count": 12,
   "metadata": {},
   "outputs": [],
   "source": [
    "from transformers import GPT2LMHeadModel\n",
    "model_hf = GPT2LMHeadModel.from_pretrained(\"gpt2\")\n",
    "sd_hf = model_hf.state_dict()"
   ]
  },
  {
   "cell_type": "code",
   "execution_count": 13,
   "metadata": {},
   "outputs": [
    {
     "name": "stdout",
     "output_type": "stream",
     "text": [
      "torch.Size([50257, 768])\n",
      "torch.Size([50257, 768])\n",
      "tensor(True)\n",
      "18832306131\n",
      "18832306131\n",
      "Number of trainable parameters in the model: 124439808\n"
     ]
    }
   ],
   "source": [
    "print(sd_hf[\"lm_head.weight\"].shape) # At the head\n",
    "print (sd_hf[\"transformer.wte.weight\"].shape) # At the bottom\n",
    "\n",
    "# They are the same\n",
    "print((sd_hf[\"lm_head.weight\"] == sd_hf[\"transformer.wte.weight\"]).all()) # True\n",
    "\n",
    "# Print the data pointers (They are stored in the same memory location)\n",
    "print(sd_hf[\"lm_head.weight\"].data_ptr())\n",
    "print(sd_hf[\"transformer.wte.weight\"].data_ptr())\n",
    "\n",
    "# Print number of trainable parameters\n",
    "num_params = sum(p.numel() for p in model_hf.parameters() if p.requires_grad)\n",
    "print(f\"Number of trainable parameters in the model: {num_params}\")"
   ]
  },
  {
   "cell_type": "code",
   "execution_count": 14,
   "metadata": {},
   "outputs": [],
   "source": [
    "del model_hf, sd_hf"
   ]
  },
  {
   "cell_type": "markdown",
   "metadata": {},
   "source": [
    "## Apply weight Sharing to our model"
   ]
  },
  {
   "cell_type": "code",
   "execution_count": 15,
   "metadata": {},
   "outputs": [
    {
     "name": "stdout",
     "output_type": "stream",
     "text": [
      "13872034128\n",
      "13876295264\n",
      "163037184\n"
     ]
    }
   ],
   "source": [
    "# current model (different data pointers)\n",
    "print(f\"{model.state_dict()[\"transformer.wte.weight\"].data_ptr()}\")\n",
    "print(f\"{model.state_dict()[\"lm_head.weight\"].data_ptr()}\")\n",
    "# print number of trainable parameters\n",
    "print(sum(p.numel() for p in model.parameters() if p.requires_grad))"
   ]
  },
  {
   "cell_type": "code",
   "execution_count": 16,
   "metadata": {},
   "outputs": [],
   "source": [
    "class GPT(nn.Module):\n",
    "    def __init__(self, config):\n",
    "        super().__init__()\n",
    "        self.config = config\n",
    "\n",
    "        self.transformer = nn.ModuleDict({\n",
    "            # token embedding\n",
    "            \"wte\": nn.Embedding(config.vocab_size, config.n_embd),\n",
    "            # positional embedding\n",
    "            \"wpe\": nn.Embedding(config.block_size, config.n_embd),\n",
    "            # transformer layers\n",
    "            \"h\" : nn.ModuleList([Block(config) for _ in range(config.n_layer)]),\n",
    "            # final layer norm (Before the Linear layer)\n",
    "            \"ln_f\" : nn.LayerNorm(config.n_embd)\n",
    "        })\n",
    "        self.lm_head = nn.Linear(config.n_embd, config.vocab_size, bias=False)\n",
    "\n",
    "        # Weight sharing scheme\n",
    "        self.transformer.wte.weight = self.lm_head.weight\n",
    "\n",
    "    def forward(self, idx, targets = None):\n",
    "        # Shape of idx is (B, T) (Batch size, Sequence length)\n",
    "        B, T = idx.size()\n",
    "        assert T <= self.config.block_size, f\"Can't forward a sequence of length {T} longer than the block size of {self.config.block_size}\"\n",
    "        # Get the token embeddings\n",
    "        pos = torch.arange(0, T, dtype = torch.long, device = idx.device) # Shape is (T)\n",
    "        pos_emb = self.transformer.wpe(pos) # Shape is (T, n_embd)\n",
    "        tok_emb = self.transformer.wte(idx) # Shape is (B, T, n_embd)\n",
    "        x = tok_emb + pos_emb # Shape is (B, T, n_embd) Broadcasting in addition\n",
    "        # Forward pass through the transformer layers\n",
    "        for block in self.transformer.h:\n",
    "            x = block(x)\n",
    "        # Final layer norm\n",
    "        x = self.transformer.ln_f(x)\n",
    "        # Get the logits\n",
    "        logits = self.lm_head(x) # Shape is (B, T, vocab_size)\n",
    "        loss = None\n",
    "        if targets is not None:\n",
    "            loss = F.cross_entropy(logits.view(-1, logits.size(-1)), targets.view(-1)) # (B * T, vocab_size)\n",
    "        return logits, loss"
   ]
  },
  {
   "cell_type": "code",
   "execution_count": 17,
   "metadata": {},
   "outputs": [
    {
     "name": "stdout",
     "output_type": "stream",
     "text": [
      "15161625952\n",
      "15161625952\n",
      "124439808\n"
     ]
    }
   ],
   "source": [
    "model = GPT(GPTConfig())\n",
    "model.to(\"mps\")\n",
    "# current model (same data pointers)\n",
    "print(f\"{model.state_dict()[\"transformer.wte.weight\"].data_ptr()}\")\n",
    "print(f\"{model.state_dict()[\"lm_head.weight\"].data_ptr()}\")\n",
    "print(sum(p.numel() for p in model.parameters() if p.requires_grad))"
   ]
  },
  {
   "cell_type": "code",
   "execution_count": 18,
   "metadata": {},
   "outputs": [
    {
     "data": {
      "text/plain": [
       "[<matplotlib.lines.Line2D at 0x422538350>]"
      ]
     },
     "execution_count": 18,
     "metadata": {},
     "output_type": "execute_result"
    },
    {
     "data": {
      "image/png": "[encoded data removed]",
      "text/plain": [
       "<Figure size 640x480 with 1 Axes>"
      ]
     },
     "metadata": {},
     "output_type": "display_data"
    }
   ],
   "source": [
    "train_loader = DataLoaderLite(4, 32)\n",
    "optimizer = torch.optim.AdamW(model.parameters(), lr = 3e-4)\n",
    "losses = []\n",
    "for i in range(50):\n",
    "    optimizer.zero_grad()\n",
    "    x, y = train_loader.next_batch()\n",
    "    x, y = x.to(\"mps\"), y.to(\"mps\")\n",
    "    logits, loss = model(x, y)\n",
    "    loss.backward()\n",
    "    optimizer.step()\n",
    "    losses.append(loss.item())\n",
    "\n",
    "plt.plot(losses)"
   ]
  },
  {
   "cell_type": "markdown",
   "metadata": {},
   "source": [
    "# Initialization"
   ]
  },
  {
   "cell_type": "code",
   "execution_count": 19,
   "metadata": {},
   "outputs": [],
   "source": [
    "class GPT(nn.Module):\n",
    "    def __init__(self, config):\n",
    "        super().__init__()\n",
    "        self.config = config\n",
    "\n",
    "        self.transformer = nn.ModuleDict({\n",
    "            # token embedding\n",
    "            \"wte\": nn.Embedding(config.vocab_size, config.n_embd),\n",
    "            # positional embedding\n",
    "            \"wpe\": nn.Embedding(config.block_size, config.n_embd),\n",
    "            # transformer layers\n",
    "            \"h\" : nn.ModuleList([Block(config) for _ in range(config.n_layer)]),\n",
    "            # final layer norm (Before the Linear layer)\n",
    "            \"ln_f\" : nn.LayerNorm(config.n_embd)\n",
    "        })\n",
    "        self.lm_head = nn.Linear(config.n_embd, config.vocab_size, bias=False)\n",
    "\n",
    "        # Weight sharing scheme\n",
    "        self.transformer.wte.weight = self.lm_head.weight\n",
    "\n",
    "        # Initialization\n",
    "        self.apply(self._init_weights)\n",
    "    \n",
    "    def _init_weights(self, module):\n",
    "        if isinstance(module, nn.Linear):\n",
    "            torch.nn.init.normal_(module.weight, mean = 0.0, std = 0.02)\n",
    "            if module.bias is not None:\n",
    "                torch.nn.init.zeros_(module.bias)\n",
    "        elif isinstance(module, nn.Embedding):\n",
    "            torch.nn.init.normal_(module.weight, mean = 0.0, std = 0.02)\n",
    "\n",
    "    def forward(self, idx, targets = None):\n",
    "        # Shape of idx is (B, T) (Batch size, Sequence length)\n",
    "        B, T = idx.size()\n",
    "        assert T <= self.config.block_size, f\"Can't forward a sequence of length {T} longer than the block size of {self.config.block_size}\"\n",
    "        # Get the token embeddings\n",
    "        pos = torch.arange(0, T, dtype = torch.long, device = idx.device) # Shape is (T)\n",
    "        pos_emb = self.transformer.wpe(pos) # Shape is (T, n_embd)\n",
    "        tok_emb = self.transformer.wte(idx) # Shape is (B, T, n_embd)\n",
    "        x = tok_emb + pos_emb # Shape is (B, T, n_embd) Broadcasting in addition\n",
    "        # Forward pass through the transformer layers\n",
    "        for block in self.transformer.h:\n",
    "            x = block(x)\n",
    "        # Final layer norm\n",
    "        x = self.transformer.ln_f(x)\n",
    "        # Get the logits\n",
    "        logits = self.lm_head(x) # Shape is (B, T, vocab_size)\n",
    "        loss = None\n",
    "        if targets is not None:\n",
    "            loss = F.cross_entropy(logits.view(-1, logits.size(-1)), targets.view(-1)) # (B * T, vocab_size)\n",
    "        return logits, loss"
   ]
  },
  {
   "cell_type": "markdown",
   "metadata": {},
   "source": [
    "## Residual Init"
   ]
  },
  {
   "cell_type": "code",
   "execution_count": 20,
   "metadata": {},
   "outputs": [
    {
     "name": "stdout",
     "output_type": "stream",
     "text": [
      "tensor(9.9980)\n"
     ]
    }
   ],
   "source": [
    "x = torch.zeros(768)\n",
    "n = 100 # e.g., 100 layers\n",
    "for i in range(n):\n",
    "    x += torch.randn(768) # Additive noise\n",
    "print(x.std())"
   ]
  },
  {
   "cell_type": "code",
   "execution_count": 21,
   "metadata": {},
   "outputs": [
    {
     "name": "stdout",
     "output_type": "stream",
     "text": [
      "tensor(0.9957)\n"
     ]
    }
   ],
   "source": [
    "x = torch.zeros(768)\n",
    "n = 100 # e.g., 100 layers\n",
    "for i in range(n):\n",
    "    x += torch.randn(768) / torch.sqrt(torch.tensor(n)) # Additive noise divided by sqrt(n)\n",
    "print(x.std()) # it should be 1"
   ]
  },
  {
   "cell_type": "code",
   "execution_count": 22,
   "metadata": {},
   "outputs": [],
   "source": [
    "# Multi-Head Attention (in a single class)\n",
    "class CausalSelfAttention(nn.Module):\n",
    "    def __init__(self, config):\n",
    "        super().__init__()\n",
    "        assert config.n_embd % config.n_head == 0\n",
    "        # key, query, value projections\n",
    "        self.c_attn = nn.Linear(config.n_embd, config.n_embd * 3)\n",
    "        # output projection\n",
    "        self.c_proj = nn.Linear(config.n_embd, config.n_embd)\n",
    "        self.c_proj.NANOGPT_SCALE_INIT = 1.0\n",
    "        # regularization\n",
    "        self.n_head = config.n_head\n",
    "        self.n_embd = config.n_embd\n",
    "        # Bias (or mask)\n",
    "        self.register_buffer(\"bias\", torch.tril(torch.ones(config.block_size, config.block_size))\n",
    "                            .view(1, 1, config.block_size, config.block_size))\n",
    "    \n",
    "    def forward(self, x):\n",
    "        # batch size, sequence length, embedding size (n_embd)\n",
    "        B, T, C = x.size() \n",
    "        # Query, Key, Value (extract them from c_attn)\n",
    "        qkv = self.c_attn(x)\n",
    "        q, k, v = qkv.split(C, dim=2)\n",
    "        # n_head is treated as a batch dimension\n",
    "        k = k.view(B, T, self.n_head, C // self.n_head).transpose(1, 2) # (B, n_head, T, hs)\n",
    "        q = q.view(B, T, self.n_head, C // self.n_head).transpose(1, 2) # (B, n_head, T, hs)\n",
    "        v = v.view(B, T, self.n_head, C // self.n_head).transpose(1, 2) # (B, n_head, T, hs)\n",
    "        # Attention\n",
    "        att = (q @ k.transpose(-2, -1)) * (1.0 / (C // self.n_head) ** 0.5)\n",
    "        # apply the mask\n",
    "        att = att.masked_fill(self.bias[:, :, :T, :T] == 0, float('-inf'))\n",
    "        # apply the softmax\n",
    "        att = F.softmax(att, dim=-1)\n",
    "        # apply the attention\n",
    "        y = att @ v\n",
    "        # transpose and reshape\n",
    "        y = y.transpose(1, 2).contiguous().view(B, T, C)\n",
    "        # output projection\n",
    "        y = self.c_proj(y)\n",
    "        return y"
   ]
  },
  {
   "cell_type": "code",
   "execution_count": 23,
   "metadata": {},
   "outputs": [],
   "source": [
    "class MLP(nn.Module):\n",
    "    def __init__(self, config):\n",
    "        super().__init__()\n",
    "        self.c_fc = nn.Linear(config.n_embd, config.n_embd * 4)\n",
    "        self.gelu = nn.GELU(approximate = \"tanh\")\n",
    "        self.c_proj = nn.Linear(config.n_embd * 4, config.n_embd)\n",
    "        self.c_proj.NANOGPT_SCALE_INIT = 1.0\n",
    "\n",
    "    def forward(self, x):\n",
    "        x = self.c_fc(x)\n",
    "        x = self.gelu(x)\n",
    "        x = self.c_proj(x)\n",
    "        return x"
   ]
  },
  {
   "cell_type": "code",
   "execution_count": 24,
   "metadata": {},
   "outputs": [],
   "source": [
    "class Block(nn.Module):\n",
    "    def __init__(self, config):\n",
    "        super().__init__()\n",
    "        self.ln_1 = nn.LayerNorm(config.n_embd)\n",
    "        self.attn = CausalSelfAttention(config)\n",
    "        self.ln_2 = nn.LayerNorm(config.n_embd)\n",
    "        self.mlp = MLP(config)\n",
    "    \n",
    "    def forward(self, x):\n",
    "        x = x + self.attn(self.ln_1(x))\n",
    "        x = x + self.mlp(self.ln_2(x))\n",
    "        return x"
   ]
  },
  {
   "cell_type": "code",
   "execution_count": 25,
   "metadata": {},
   "outputs": [],
   "source": [
    "class GPT(nn.Module):\n",
    "    def __init__(self, config):\n",
    "        super().__init__()\n",
    "        self.config = config\n",
    "\n",
    "        self.transformer = nn.ModuleDict({\n",
    "            # token embedding\n",
    "            \"wte\": nn.Embedding(config.vocab_size, config.n_embd),\n",
    "            # positional embedding\n",
    "            \"wpe\": nn.Embedding(config.block_size, config.n_embd),\n",
    "            # transformer layers\n",
    "            \"h\" : nn.ModuleList([Block(config) for _ in range(config.n_layer)]),\n",
    "            # final layer norm (Before the Linear layer)\n",
    "            \"ln_f\" : nn.LayerNorm(config.n_embd)\n",
    "        })\n",
    "        self.lm_head = nn.Linear(config.n_embd, config.vocab_size, bias=False)\n",
    "\n",
    "        # Weight sharing scheme\n",
    "        self.transformer.wte.weight = self.lm_head.weight\n",
    "\n",
    "        # Initialization\n",
    "        self.apply(self._init_weights)\n",
    "    \n",
    "    def _init_weights(self, module):\n",
    "        std = 0.02\n",
    "        if hasattr(module, \"NANOGPT_SCALE_INIT\"):\n",
    "            # 1 / sqrt(2 * number of residual layers) note that each layer has two residual connections\n",
    "            std *= (2 * self.config.n_layer) ** -0.5 \n",
    "        if isinstance(module, nn.Linear):\n",
    "            torch.nn.init.normal_(module.weight, mean = 0.0, std = std)\n",
    "            if module.bias is not None:\n",
    "                torch.nn.init.zeros_(module.bias)\n",
    "        elif isinstance(module, nn.Embedding):\n",
    "            torch.nn.init.normal_(module.weight, mean = 0.0, std = std)\n",
    "\n",
    "    def forward(self, idx, targets = None):\n",
    "        # Shape of idx is (B, T) (Batch size, Sequence length)\n",
    "        B, T = idx.size()\n",
    "        assert T <= self.config.block_size, f\"Can't forward a sequence of length {T} longer than the block size of {self.config.block_size}\"\n",
    "        # Get the token embeddings\n",
    "        pos = torch.arange(0, T, dtype = torch.long, device = idx.device) # Shape is (T)\n",
    "        pos_emb = self.transformer.wpe(pos) # Shape is (T, n_embd)\n",
    "        tok_emb = self.transformer.wte(idx) # Shape is (B, T, n_embd)\n",
    "        x = tok_emb + pos_emb # Shape is (B, T, n_embd) Broadcasting in addition\n",
    "        # Forward pass through the transformer layers\n",
    "        for block in self.transformer.h:\n",
    "            x = block(x)\n",
    "        # Final layer norm\n",
    "        x = self.transformer.ln_f(x)\n",
    "        # Get the logits\n",
    "        logits = self.lm_head(x) # Shape is (B, T, vocab_size)\n",
    "        loss = None\n",
    "        if targets is not None:\n",
    "            loss = F.cross_entropy(logits.view(-1, logits.size(-1)), targets.view(-1)) # (B * T, vocab_size)\n",
    "        return logits, loss"
   ]
  },
  {
   "cell_type": "code",
   "execution_count": 28,
   "metadata": {},
   "outputs": [
    {
     "data": {
      "text/plain": [
       "GPT(\n",
       "  (transformer): ModuleDict(\n",
       "    (wte): Embedding(50257, 768)\n",
       "    (wpe): Embedding(1024, 768)\n",
       "    (h): ModuleList(\n",
       "      (0-11): 12 x Block(\n",
       "        (ln_1): LayerNorm((768,), eps=1e-05, elementwise_affine=True)\n",
       "        (attn): CausalSelfAttention(\n",
       "          (c_attn): Linear(in_features=768, out_features=2304, bias=True)\n",
       "          (c_proj): Linear(in_features=768, out_features=768, bias=True)\n",
       "        )\n",
       "        (ln_2): LayerNorm((768,), eps=1e-05, elementwise_affine=True)\n",
       "        (mlp): MLP(\n",
       "          (c_fc): Linear(in_features=768, out_features=3072, bias=True)\n",
       "          (gelu): GELU(approximate='tanh')\n",
       "          (c_proj): Linear(in_features=3072, out_features=768, bias=True)\n",
       "        )\n",
       "      )\n",
       "    )\n",
       "    (ln_f): LayerNorm((768,), eps=1e-05, elementwise_affine=True)\n",
       "  )\n",
       "  (lm_head): Linear(in_features=768, out_features=50257, bias=False)\n",
       ")"
      ]
     },
     "execution_count": 28,
     "metadata": {},
     "output_type": "execute_result"
    }
   ],
   "source": [
    "model = GPT(GPTConfig())\n",
    "model.to(\"mps\")"
   ]
  },
  {
   "cell_type": "code",
   "execution_count": 29,
   "metadata": {},
   "outputs": [
    {
     "data": {
      "text/plain": [
       "[<matplotlib.lines.Line2D at 0x17d595430>]"
      ]
     },
     "execution_count": 29,
     "metadata": {},
     "output_type": "execute_result"
    },
    {
     "data": {
      "image/png": "[encoded data removed]",
      "text/plain": [
       "<Figure size 640x480 with 1 Axes>"
      ]
     },
     "metadata": {},
     "output_type": "display_data"
    }
   ],
   "source": [
    "train_loader = DataLoaderLite(4, 32)\n",
    "optimizer = torch.optim.AdamW(model.parameters(), lr = 3e-4)\n",
    "losses = []\n",
    "for i in range(50):\n",
    "    optimizer.zero_grad()\n",
    "    x, y = train_loader.next_batch()\n",
    "    x, y = x.to(\"mps\"), y.to(\"mps\")\n",
    "    logits, loss = model(x, y)\n",
    "    loss.backward()\n",
    "    optimizer.step()\n",
    "    losses.append(loss.item())\n",
    "\n",
    "plt.plot(losses)"
   ]
  }
 ],
 "metadata": {
  "kernelspec": {
   "display_name": "torch",
   "language": "python",
   "name": "python3"
  },
  "language_info": {
   "codemirror_mode": {
    "name": "ipython",
    "version": 3
   },
   "file_extension": ".py",
   "mimetype": "text/x-python",
   "name": "python",
   "nbconvert_exporter": "python",
   "pygments_lexer": "ipython3",
   "version": "3.12.4"
  }
 },
 "nbformat": 4,
 "nbformat_minor": 2
}
